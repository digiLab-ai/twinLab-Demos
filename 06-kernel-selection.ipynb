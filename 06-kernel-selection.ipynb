{
 "cells": [
  {
   "cell_type": "code",
   "execution_count": null,
   "metadata": {},
   "outputs": [],
   "source": [
    "# Package imports\n",
    "import numpy as np\n",
    "import pandas as pd\n",
    "import matplotlib.pyplot as plt\n",
    "\n",
    "# twinlab imports\n",
    "import twinlab as tl"
   ]
  },
  {
   "cell_type": "code",
   "execution_count": null,
   "metadata": {},
   "outputs": [],
   "source": [
    "# Data and model parameters\n",
    "random_seed = 8675309\n",
    "err_sig = 2/3\n",
    "dataset_id = \"predict\"\n",
    "campaign_id = \"predict\""
   ]
  },
  {
   "cell_type": "code",
   "execution_count": null,
   "metadata": {},
   "outputs": [],
   "source": [
    "# Generate a DataFrame of noise measurements. If a fixed value is not\n",
    "# provided, will generate random uniform noise.\n",
    "def set_noise_data(y_data, noise_value=None):\n",
    "    if noise_value is not None:\n",
    "        return np.full_like(y_data, noise_value)\n",
    "    else:\n",
    "        return np.random.rand(*y_data.shape)"
   ]
  },
  {
   "cell_type": "code",
   "execution_count": null,
   "metadata": {},
   "outputs": [],
   "source": [
    "# The true function\n",
    "def oscillator(x):\n",
    "    return np.cos((x - 5) / 2) ** 2 * x * 2\n",
    "    # return 3*np.exp(-x) * np.sin(2*np.pi*x)\n",
    "\n",
    "X = np.linspace(-10,10,100)[:,np.newaxis]\n",
    "y = oscillator(X) # Arrange outputs as feature columns\n",
    "\n",
    "n_data = 200\n",
    "X_data = np.random.uniform(-10, 10, size=n_data)\n",
    "y_data = oscillator(X_data) + np.random.normal(scale=0.2, size=X_data.shape)\n",
    "\n",
    "plt.plot(X,y)\n",
    "plt.scatter(X_data, y_data)\n",
    "plt.show()"
   ]
  },
  {
   "cell_type": "code",
   "execution_count": null,
   "metadata": {},
   "outputs": [],
   "source": [
    "# Convert to dataframes\n",
    "df = pd.DataFrame({'x': X_data, 'y': y_data})"
   ]
  },
  {
   "cell_type": "code",
   "execution_count": null,
   "metadata": {},
   "outputs": [],
   "source": [
    "# Send the experimental dataset to the cloud\n",
    "tl.upload_dataset(df, dataset_id, verbose=True)"
   ]
  },
  {
   "cell_type": "code",
   "execution_count": null,
   "metadata": {},
   "outputs": [],
   "source": [
    "# Training parameters\n",
    "params = {\n",
    "    \"dataset_id\": dataset_id,\n",
    "    \"inputs\" : [\"x\"],\n",
    "    \"outputs\": [\"y\"],\n",
    "    \"test_train_ratio\": 0.8,\n",
    "}"
   ]
  },
  {
   "cell_type": "code",
   "execution_count": null,
   "metadata": {},
   "outputs": [],
   "source": [
    "# Train model \n",
    "tl.train_campaign(params, campaign_id, verbose=True)"
   ]
  },
  {
   "cell_type": "code",
   "execution_count": null,
   "metadata": {},
   "outputs": [],
   "source": [
    "predict_df = tl.predict_campaign(df, campaign_id, )"
   ]
  },
  {
   "cell_type": "code",
   "execution_count": null,
   "metadata": {},
   "outputs": [],
   "source": [
    "# Initialise campaign\n",
    "setup_dict = {\n",
    "    'inputs': df.columns[0], \n",
    "    'outputs': df.columns[1],\n",
    "    'estimator': 'gaussian_process_regression',\n",
    "    'estimator_kwargs': {\n",
    "        'covar_module': \"LIN\",\n",
    "        'detrend': True\n",
    "    }\n",
    "}\n",
    "\n",
    "gp_campaign = tl.Campaign(**setup_dict)\n",
    "\n",
    "# Perform kernel selection\n",
    "train_dict = {\n",
    "    'df': df,\n",
    "    'train_test_split': 150,\n",
    "    'model_selection': False,\n",
    "    'seed': 123\n",
    "}\n",
    "\n",
    "gp_campaign.fit(**train_dict)\n",
    "\n",
    "# Plot inference results\n",
    "df_mean, df_stdev = gp_campaign.predict(pd.DataFrame(X, columns=gp_campaign.inputs))\n",
    "y_mean, y_stdev = df_mean[gp_campaign.outputs].values, df_stdev[gp_campaign.outputs].values"
   ]
  },
  {
   "cell_type": "code",
   "execution_count": null,
   "metadata": {},
   "outputs": [],
   "source": []
  }
 ],
 "metadata": {
  "kernelspec": {
   "display_name": "twinlab-demos-5eekO54e-py3.11",
   "language": "python",
   "name": "python3"
  },
  "language_info": {
   "codemirror_mode": {
    "name": "ipython",
    "version": 3
   },
   "file_extension": ".py",
   "mimetype": "text/x-python",
   "name": "python",
   "nbconvert_exporter": "python",
   "pygments_lexer": "ipython3",
   "version": "3.11.5"
  }
 },
 "nbformat": 4,
 "nbformat_minor": 2
}

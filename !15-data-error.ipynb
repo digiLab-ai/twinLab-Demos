{
 "cells": [
  {
   "cell_type": "code",
   "execution_count": null,
   "metadata": {},
   "outputs": [],
   "source": [
    "# Third-party imports\n",
    "import numpy as np\n",
    "import pandas as pd\n",
    "import matplotlib.pyplot as plt\n",
    "\n",
    "# Project imports\n",
    "import twinlab as tl"
   ]
  },
  {
   "cell_type": "code",
   "execution_count": null,
   "metadata": {},
   "outputs": [],
   "source": [
    "# Parameters\n",
    "dataset_id = \"data-error\"\n",
    "dataset_std_id = \"data-error-std\"\n",
    "campaign_id = dataset_id\n",
    "err_sig = 0.05\n",
    "n = 20\n",
    "random_seed = 42"
   ]
  },
  {
   "cell_type": "code",
   "execution_count": null,
   "metadata": {},
   "outputs": [],
   "source": [
    "# Seed the random-number generator\n",
    "np.random.seed(random_seed)\n",
    "\n",
    "# Training Data\n",
    "X = np.random.rand(n)\n",
    "y = np.sin(X*2.*np.pi)+np.random.normal(0., err_sig, n)\n",
    "df_train = pd.DataFrame({'X': X, 'y': y})\n",
    "display(df_train)\n",
    "tl.upload_dataset(df_train, dataset_id, verbose=True)"
   ]
  },
  {
   "cell_type": "code",
   "execution_count": null,
   "metadata": {},
   "outputs": [],
   "source": [
    "# Evaluation data\n",
    "eval = {\"X\": np.linspace(0, 1, 101)}\n",
    "df_test = pd.DataFrame(eval)\n",
    "display(df_test)"
   ]
  },
  {
   "cell_type": "code",
   "execution_count": null,
   "metadata": {},
   "outputs": [],
   "source": [
    "# Training parameters\n",
    "params = {\n",
    "    \"dataset_id\": dataset_id,\n",
    "    \"inputs\" : [\"X\"],\n",
    "    \"outputs\": [\"y\"],\n",
    "    \"test_train_ratio\": 1.,\n",
    "}\n",
    "\n",
    "# Plot parameters\n",
    "alpha_fill = 0.5\n",
    "nrow, ncol = 1, 3\n",
    "figx, figy = 4, 3\n",
    "grid = df_test[\"X\"].values\n",
    "\n",
    "# Loop over different error in data and plot\n",
    "plt.subplots(nrow, ncol, figsize=(ncol*figx, nrow*figy))\n",
    "for iplot in range(3):\n",
    "\n",
    "    # (Heteroscedastic) error in data 'X' and upload\n",
    "    if iplot == 0:\n",
    "        df_std = None\n",
    "        label = \"Learned noise\"\n",
    "    elif iplot == 1:\n",
    "        df_std = pd.DataFrame({'y': np.zeros(n)})#, 'y': np.zeros(n)})\n",
    "        tl.upload_dataset(df_std, dataset_std_id, verbose=True)\n",
    "        label = \"Noise fixed to zero\"\n",
    "    elif iplot == 2:\n",
    "        df_std = pd.DataFrame({'y': 0.05*np.ones(n)})#, 'y': np.zeros(n)})\n",
    "        label = \"Noise fixed to true value\"\n",
    "    else:\n",
    "        raise ValueError(\"Invalid iplot\")\n",
    "    print(type(df_std))\n",
    "    display(df_std)\n",
    "    if iplot in [1, 2]:\n",
    "        tl.upload_dataset(df_std, dataset_std_id, verbose=True)\n",
    "        params[\"dataset_std_id\"] = dataset_id\n",
    "\n",
    "    # Train model\n",
    "    tl.train_campaign(params, campaign_id, verbose=True)\n",
    "    \n",
    "    # Predict from model\n",
    "    df_mean, df_std = tl.predict_campaign(df_test, campaign_id)\n",
    "    mean, err = df_mean[\"y\"].values, df_std[\"y\"].values\n",
    "    color = f\"C{iplot}\"\n",
    "    \n",
    "    # Plot\n",
    "    plt.subplot(nrow, ncol, iplot+1)\n",
    "    plt.plot(df_train[\"X\"][:n], df_train[\"y\"][:n], \".\", color=\"black\")\n",
    "    plt.plot(grid, mean, \"-\", color=color, label=label)\n",
    "    for nsig in [1, 2]:\n",
    "        plt.fill_between(grid, mean-nsig*err, mean+nsig*err, lw=0, color=color, alpha=alpha_fill)\n",
    "    # plt.xlabel(\"X\"); plt.ylabel(\"y\")\n",
    "    plt.xticks([]); plt.yticks([])\n",
    "    plt.ylim((-1.5, 1.5))\n",
    "    plt.legend()\n",
    "\n",
    "# Finalize plot\n",
    "plt.tight_layout()\n",
    "plt.show()"
   ]
  },
  {
   "cell_type": "code",
   "execution_count": null,
   "metadata": {},
   "outputs": [],
   "source": [
    "# Delete campaign and dataset if necessary\n",
    "# tl.delete_campaign(campaign_id, verbose=True)\n",
    "# tl.delete_dataset(dataset_id, verbose=True)"
   ]
  }
 ],
 "metadata": {
  "kernelspec": {
   "display_name": "twinlab-cloud-IBHCqXSr-py3.9",
   "language": "python",
   "name": "python3"
  },
  "language_info": {
   "codemirror_mode": {
    "name": "ipython",
    "version": 3
   },
   "file_extension": ".py",
   "mimetype": "text/x-python",
   "name": "python",
   "nbconvert_exporter": "python",
   "pygments_lexer": "ipython3",
   "version": "3.11.5"
  },
  "orig_nbformat": 4
 },
 "nbformat": 4,
 "nbformat_minor": 2
}

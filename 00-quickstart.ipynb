{
  "cells": [
    {
      "cell_type": "markdown",
      "metadata": {
        "id": "F7rCrDHBPyoX"
      },
      "source": [
        "## **Quickstart Guide**\n",
        "\n",
        "This guide covers a simple workflow to help you get started with twinLab. In this notebook, we will perform the following steps:\n",
        "\n",
        "1. Upload a dataset to the twinLab cloud.\n",
        "2. Use `Emulator.train` to train a surrogate model.\n",
        "3. Use the emulator to make a prediction with `Emulator.predict`.\n",
        "4. Visualise the results and their uncertainty."
      ]
    },
    {
      "cell_type": "code",
      "execution_count": 1,
      "metadata": {
        "colab": {
          "base_uri": "https://localhost:8080/"
        },
        "id": "GFS0xI_RPyob",
        "outputId": "93a5b4fe-3f5a-4006-b600-d9b9ecf29256"
      },
      "outputs": [
        {
          "name": "stdout",
          "output_type": "stream",
          "text": [
            "\n",
            "          ====== TwinLab Client Initialisation ======\n",
            "          Version     : 2.5.0\n",
            "          Server      : https://twinlab.digilab.co.uk/mead\n",
            "          Environment : /Users/mead/digiLab/twinLab-Tutorials/.env\n",
            "\n"
          ]
        }
      ],
      "source": [
        "# Third-party imports\n",
        "import numpy as np\n",
        "import pandas as pd\n",
        "\n",
        "# Project imports\n",
        "import twinlab as tl"
      ]
    },
    {
      "cell_type": "markdown",
      "metadata": {
        "id": "0Xh_ekNBPyod"
      },
      "source": [
        "### **Set your API Key**\n",
        "\n",
        "If you don't already have one, please vist [https://www.digilab.co.uk/contact](https://www.digilab.co.uk/contact). For security, we normally recommend performing this step with a `.env` file or `secrets`.\n"
      ]
    },
    {
      "cell_type": "code",
      "execution_count": 2,
      "metadata": {
        "id": "CdMAjGICPyod"
      },
      "outputs": [],
      "source": [
        "tl.set_api_key(\"REPLACE_THIS_WITH_YOUR_API_KEY\")"
      ]
    },
    {
      "cell_type": "markdown",
      "metadata": {
        "id": "AeY2eRktPyoe"
      },
      "source": [
        "### **1. Upload a dataset to twinLab**\n",
        "\n",
        "Your dataset must be presented as a `pandas.DataFrame` object, or a filepath which points to a `csv` file that can be parsed to a `pandas.DataFrame` object. **The dataset must be formatted with clearly labelled columns.** In `twinlab`, data is expected to be in column-feature format, meaning each row represents a single data sample, and each column represents a data feature, also known as a parameter.\n",
        "\n",
        "`twinLab` contains a `Dataset` class with attributes and methods to process, view and summarise the dataset. Datasets must be created with an `id` which is used to access them. The dataset can be uploaded using the `upload` method.\n",
        "\n",
        "In twinLab, we provide some example datasets to helps user get started (see `tl.list_example_datasets` for a list). Here we use the example `quickstart` dataset, which has a single input (feature/predictor/parameter) variable `x` and a single output (response) variable `y`.\n"
      ]
    },
    {
      "cell_type": "code",
      "execution_count": 3,
      "metadata": {
        "colab": {
          "base_uri": "https://localhost:8080/",
          "height": 204
        },
        "id": "A9bZQrTtPyof",
        "outputId": "8746c623-4bf4-46ca-ab98-b0ba815edb80"
      },
      "outputs": [
        {
          "data": {
            "text/html": [
              "<div>\n",
              "<style scoped>\n",
              "    .dataframe tbody tr th:only-of-type {\n",
              "        vertical-align: middle;\n",
              "    }\n",
              "\n",
              "    .dataframe tbody tr th {\n",
              "        vertical-align: top;\n",
              "    }\n",
              "\n",
              "    .dataframe thead th {\n",
              "        text-align: right;\n",
              "    }\n",
              "</style>\n",
              "<table border=\"1\" class=\"dataframe\">\n",
              "  <thead>\n",
              "    <tr style=\"text-align: right;\">\n",
              "      <th></th>\n",
              "      <th>x</th>\n",
              "      <th>y</th>\n",
              "    </tr>\n",
              "  </thead>\n",
              "  <tbody>\n",
              "    <tr>\n",
              "      <th>0</th>\n",
              "      <td>0.696469</td>\n",
              "      <td>-0.817374</td>\n",
              "    </tr>\n",
              "    <tr>\n",
              "      <th>1</th>\n",
              "      <td>0.286139</td>\n",
              "      <td>0.887656</td>\n",
              "    </tr>\n",
              "    <tr>\n",
              "      <th>2</th>\n",
              "      <td>0.226851</td>\n",
              "      <td>0.921553</td>\n",
              "    </tr>\n",
              "    <tr>\n",
              "      <th>3</th>\n",
              "      <td>0.551315</td>\n",
              "      <td>-0.326334</td>\n",
              "    </tr>\n",
              "    <tr>\n",
              "      <th>4</th>\n",
              "      <td>0.719469</td>\n",
              "      <td>-0.832518</td>\n",
              "    </tr>\n",
              "    <tr>\n",
              "      <th>5</th>\n",
              "      <td>0.423106</td>\n",
              "      <td>0.400669</td>\n",
              "    </tr>\n",
              "    <tr>\n",
              "      <th>6</th>\n",
              "      <td>0.980764</td>\n",
              "      <td>-0.164966</td>\n",
              "    </tr>\n",
              "    <tr>\n",
              "      <th>7</th>\n",
              "      <td>0.684830</td>\n",
              "      <td>-0.960764</td>\n",
              "    </tr>\n",
              "    <tr>\n",
              "      <th>8</th>\n",
              "      <td>0.480932</td>\n",
              "      <td>0.340115</td>\n",
              "    </tr>\n",
              "    <tr>\n",
              "      <th>9</th>\n",
              "      <td>0.392118</td>\n",
              "      <td>0.845795</td>\n",
              "    </tr>\n",
              "  </tbody>\n",
              "</table>\n",
              "</div>"
            ],
            "text/plain": [
              "          x         y\n",
              "0  0.696469 -0.817374\n",
              "1  0.286139  0.887656\n",
              "2  0.226851  0.921553\n",
              "3  0.551315 -0.326334\n",
              "4  0.719469 -0.832518\n",
              "5  0.423106  0.400669\n",
              "6  0.980764 -0.164966\n",
              "7  0.684830 -0.960764\n",
              "8  0.480932  0.340115\n",
              "9  0.392118  0.845795"
            ]
          },
          "metadata": {},
          "output_type": "display_data"
        },
        {
          "name": "stderr",
          "output_type": "stream",
          "text": [
            "/Users/mead/Library/Caches/pypoetry/virtualenvs/twinlab-demos-I0xPLdGj-py3.11/lib/python3.11/site-packages/twinlab/utils.py:89: FutureWarning: DataFrame.applymap has been deprecated. Use DataFrame.map instead.\n",
            "  if not df.applymap(lambda x: isinstance(x, (int, float))).all().all():\n"
          ]
        }
      ],
      "source": [
        "# Download the example dataset\n",
        "df = tl.load_example_dataset(\"quickstart\")\n",
        "\n",
        "# Check the dataframe before uploading\n",
        "display(df)\n",
        "\n",
        "# Intialise a Dataset object and give it a name\n",
        "dataset = tl.Dataset(\"quickstart\")\n",
        "\n",
        "# Upload the dataset, passing in the dataframe\n",
        "dataset.upload(df)"
      ]
    },
    {
      "cell_type": "markdown",
      "metadata": {
        "id": "ITtAbtpHPyof"
      },
      "source": [
        "### **2. Train an emulator**\n",
        "\n",
        "The `Emulator` class is used to train and implement your surrogate models. As with datasets, an `id` is defined, which is a unique ID under which your emulator will be saved as in the cloud.\n",
        "\n",
        "When training an emulator, optional arguments are passed in using a `TrainParams` object. `TrainParams` contains parameters you can tweak when training your model - you can find the defaults in the documentation.\n",
        "\n",
        "To train the emulator we use the `Emulator.train` method, passing in the `TrainParams` object as an argument.\n"
      ]
    },
    {
      "cell_type": "code",
      "execution_count": 4,
      "metadata": {
        "id": "Bu1WWk6_Pyof"
      },
      "outputs": [],
      "source": [
        "# Initialise emulator\n",
        "emulator = tl.Emulator(\"quickstart-model\")\n",
        "\n",
        "# Define the training parameters for the emulator.\n",
        "# For example, here we set the train_test_ratio to 1, meaning that the entire dataset will be used for training.\n",
        "params = tl.TrainParams(train_test_ratio=1.)\n",
        "\n",
        "# Train the mulator using the train method\n",
        "emulator.train(\n",
        "    dataset=dataset,\n",
        "    inputs=[\"x\"],\n",
        "    outputs=[\"y\"],\n",
        "    params=params\n",
        "    )"
      ]
    },
    {
      "cell_type": "markdown",
      "metadata": {
        "id": "FXHHWnmOPyog"
      },
      "source": [
        "### **3. Make Predictions using the Trained Emulator**\n",
        "\n",
        "The surrogate model is now trained and saved to the cloud under the `id` specified above. It can now be used to make predictions.\n",
        "\n",
        "You'll need a dataset of inputs for which you want to find the corresponding outputs. Ensure that this is a `pandas.DataFrame` object. Then call `Emulator.predict`, with the evaluation dataset as the keyword argument.\n"
      ]
    },
    {
      "cell_type": "code",
      "execution_count": 5,
      "metadata": {
        "colab": {
          "base_uri": "https://localhost:8080/",
          "height": 821
        },
        "id": "GTnI2pyePyog",
        "outputId": "e1658f45-2507-496a-a595-a0c155468085"
      },
      "outputs": [
        {
          "name": "stdout",
          "output_type": "stream",
          "text": [
            "Mean predictions:\n"
          ]
        },
        {
          "data": {
            "text/html": [
              "<div>\n",
              "<style scoped>\n",
              "    .dataframe tbody tr th:only-of-type {\n",
              "        vertical-align: middle;\n",
              "    }\n",
              "\n",
              "    .dataframe tbody tr th {\n",
              "        vertical-align: top;\n",
              "    }\n",
              "\n",
              "    .dataframe thead th {\n",
              "        text-align: right;\n",
              "    }\n",
              "</style>\n",
              "<table border=\"1\" class=\"dataframe\">\n",
              "  <thead>\n",
              "    <tr style=\"text-align: right;\">\n",
              "      <th></th>\n",
              "      <th>y</th>\n",
              "    </tr>\n",
              "  </thead>\n",
              "  <tbody>\n",
              "    <tr>\n",
              "      <th>0</th>\n",
              "      <td>0.618116</td>\n",
              "    </tr>\n",
              "    <tr>\n",
              "      <th>1</th>\n",
              "      <td>0.766788</td>\n",
              "    </tr>\n",
              "    <tr>\n",
              "      <th>2</th>\n",
              "      <td>0.891405</td>\n",
              "    </tr>\n",
              "    <tr>\n",
              "      <th>3</th>\n",
              "      <td>0.908986</td>\n",
              "    </tr>\n",
              "    <tr>\n",
              "      <th>4</th>\n",
              "      <td>0.669546</td>\n",
              "    </tr>\n",
              "    <tr>\n",
              "      <th>5</th>\n",
              "      <td>0.090804</td>\n",
              "    </tr>\n",
              "    <tr>\n",
              "      <th>6</th>\n",
              "      <td>-0.567991</td>\n",
              "    </tr>\n",
              "    <tr>\n",
              "      <th>7</th>\n",
              "      <td>-0.863546</td>\n",
              "    </tr>\n",
              "    <tr>\n",
              "      <th>8</th>\n",
              "      <td>-0.733036</td>\n",
              "    </tr>\n",
              "    <tr>\n",
              "      <th>9</th>\n",
              "      <td>-0.420330</td>\n",
              "    </tr>\n",
              "    <tr>\n",
              "      <th>10</th>\n",
              "      <td>-0.122988</td>\n",
              "    </tr>\n",
              "  </tbody>\n",
              "</table>\n",
              "</div>"
            ],
            "text/plain": [
              "           y\n",
              "0   0.618116\n",
              "1   0.766788\n",
              "2   0.891405\n",
              "3   0.908986\n",
              "4   0.669546\n",
              "5   0.090804\n",
              "6  -0.567991\n",
              "7  -0.863546\n",
              "8  -0.733036\n",
              "9  -0.420330\n",
              "10 -0.122988"
            ]
          },
          "metadata": {},
          "output_type": "display_data"
        },
        {
          "name": "stdout",
          "output_type": "stream",
          "text": [
            "Standard deviation predictions:\n"
          ]
        },
        {
          "data": {
            "text/html": [
              "<div>\n",
              "<style scoped>\n",
              "    .dataframe tbody tr th:only-of-type {\n",
              "        vertical-align: middle;\n",
              "    }\n",
              "\n",
              "    .dataframe tbody tr th {\n",
              "        vertical-align: top;\n",
              "    }\n",
              "\n",
              "    .dataframe thead th {\n",
              "        text-align: right;\n",
              "    }\n",
              "</style>\n",
              "<table border=\"1\" class=\"dataframe\">\n",
              "  <thead>\n",
              "    <tr style=\"text-align: right;\">\n",
              "      <th></th>\n",
              "      <th>y</th>\n",
              "    </tr>\n",
              "  </thead>\n",
              "  <tbody>\n",
              "    <tr>\n",
              "      <th>0</th>\n",
              "      <td>0.653885</td>\n",
              "    </tr>\n",
              "    <tr>\n",
              "      <th>1</th>\n",
              "      <td>0.424600</td>\n",
              "    </tr>\n",
              "    <tr>\n",
              "      <th>2</th>\n",
              "      <td>0.202528</td>\n",
              "    </tr>\n",
              "    <tr>\n",
              "      <th>3</th>\n",
              "      <td>0.161307</td>\n",
              "    </tr>\n",
              "    <tr>\n",
              "      <th>4</th>\n",
              "      <td>0.153866</td>\n",
              "    </tr>\n",
              "    <tr>\n",
              "      <th>5</th>\n",
              "      <td>0.156232</td>\n",
              "    </tr>\n",
              "    <tr>\n",
              "      <th>6</th>\n",
              "      <td>0.170339</td>\n",
              "    </tr>\n",
              "    <tr>\n",
              "      <th>7</th>\n",
              "      <td>0.149920</td>\n",
              "    </tr>\n",
              "    <tr>\n",
              "      <th>8</th>\n",
              "      <td>0.233575</td>\n",
              "    </tr>\n",
              "    <tr>\n",
              "      <th>9</th>\n",
              "      <td>0.243088</td>\n",
              "    </tr>\n",
              "    <tr>\n",
              "      <th>10</th>\n",
              "      <td>0.195862</td>\n",
              "    </tr>\n",
              "  </tbody>\n",
              "</table>\n",
              "</div>"
            ],
            "text/plain": [
              "           y\n",
              "0   0.653885\n",
              "1   0.424600\n",
              "2   0.202528\n",
              "3   0.161307\n",
              "4   0.153866\n",
              "5   0.156232\n",
              "6   0.170339\n",
              "7   0.149920\n",
              "8   0.233575\n",
              "9   0.243088\n",
              "10  0.195862"
            ]
          },
          "metadata": {},
          "output_type": "display_data"
        }
      ],
      "source": [
        "# We'll define some example inputs for the dataset\n",
        "x_predict = np.linspace(0, 1, 11)\n",
        "\n",
        "# And convert them to a DataFrame\n",
        "df_predict = pd.DataFrame({\"x\": x_predict})\n",
        "\n",
        "# Now we'll predict the results.\n",
        "# This returns a tuple of two dataframes:\n",
        "# 1. The mean prediction corresponding to each input\n",
        "# 2. The standard deviation corresponding to each input\n",
        "predictions_mean, predictions_std = emulator.predict(df_predict)\n",
        "\n",
        "# Write the predictions to the screen\n",
        "print(\"Mean predictions:\")\n",
        "display(predictions_mean)\n",
        "print(\"Standard deviation predictions:\")\n",
        "display(predictions_std)"
      ]
    },
    {
      "cell_type": "code",
      "execution_count": 6,
      "metadata": {
        "colab": {
          "base_uri": "https://localhost:8080/",
          "height": 419
        },
        "id": "bDksHHanPrBj",
        "outputId": "ddbc67ef-ff43-498b-c29e-5d7b170ef704"
      },
      "outputs": [
        {
          "data": {
            "text/html": [
              "<div>\n",
              "<style scoped>\n",
              "    .dataframe tbody tr th:only-of-type {\n",
              "        vertical-align: middle;\n",
              "    }\n",
              "\n",
              "    .dataframe tbody tr th {\n",
              "        vertical-align: top;\n",
              "    }\n",
              "\n",
              "    .dataframe thead th {\n",
              "        text-align: right;\n",
              "    }\n",
              "</style>\n",
              "<table border=\"1\" class=\"dataframe\">\n",
              "  <thead>\n",
              "    <tr style=\"text-align: right;\">\n",
              "      <th></th>\n",
              "      <th>x to predict</th>\n",
              "      <th>predicted mean y</th>\n",
              "      <th>predicted std y</th>\n",
              "    </tr>\n",
              "  </thead>\n",
              "  <tbody>\n",
              "    <tr>\n",
              "      <th>0</th>\n",
              "      <td>0.0</td>\n",
              "      <td>0.618116</td>\n",
              "      <td>0.653885</td>\n",
              "    </tr>\n",
              "    <tr>\n",
              "      <th>1</th>\n",
              "      <td>0.1</td>\n",
              "      <td>0.766788</td>\n",
              "      <td>0.424600</td>\n",
              "    </tr>\n",
              "    <tr>\n",
              "      <th>2</th>\n",
              "      <td>0.2</td>\n",
              "      <td>0.891405</td>\n",
              "      <td>0.202528</td>\n",
              "    </tr>\n",
              "    <tr>\n",
              "      <th>3</th>\n",
              "      <td>0.3</td>\n",
              "      <td>0.908986</td>\n",
              "      <td>0.161307</td>\n",
              "    </tr>\n",
              "    <tr>\n",
              "      <th>4</th>\n",
              "      <td>0.4</td>\n",
              "      <td>0.669546</td>\n",
              "      <td>0.153866</td>\n",
              "    </tr>\n",
              "    <tr>\n",
              "      <th>5</th>\n",
              "      <td>0.5</td>\n",
              "      <td>0.090804</td>\n",
              "      <td>0.156232</td>\n",
              "    </tr>\n",
              "    <tr>\n",
              "      <th>6</th>\n",
              "      <td>0.6</td>\n",
              "      <td>-0.567991</td>\n",
              "      <td>0.170339</td>\n",
              "    </tr>\n",
              "    <tr>\n",
              "      <th>7</th>\n",
              "      <td>0.7</td>\n",
              "      <td>-0.863546</td>\n",
              "      <td>0.149920</td>\n",
              "    </tr>\n",
              "    <tr>\n",
              "      <th>8</th>\n",
              "      <td>0.8</td>\n",
              "      <td>-0.733036</td>\n",
              "      <td>0.233575</td>\n",
              "    </tr>\n",
              "    <tr>\n",
              "      <th>9</th>\n",
              "      <td>0.9</td>\n",
              "      <td>-0.420330</td>\n",
              "      <td>0.243088</td>\n",
              "    </tr>\n",
              "    <tr>\n",
              "      <th>10</th>\n",
              "      <td>1.0</td>\n",
              "      <td>-0.122988</td>\n",
              "      <td>0.195862</td>\n",
              "    </tr>\n",
              "  </tbody>\n",
              "</table>\n",
              "</div>"
            ],
            "text/plain": [
              "    x to predict  predicted mean y  predicted std y\n",
              "0            0.0          0.618116         0.653885\n",
              "1            0.1          0.766788         0.424600\n",
              "2            0.2          0.891405         0.202528\n",
              "3            0.3          0.908986         0.161307\n",
              "4            0.4          0.669546         0.153866\n",
              "5            0.5          0.090804         0.156232\n",
              "6            0.6         -0.567991         0.170339\n",
              "7            0.7         -0.863546         0.149920\n",
              "8            0.8         -0.733036         0.233575\n",
              "9            0.9         -0.420330         0.243088\n",
              "10           1.0         -0.122988         0.195862"
            ]
          },
          "metadata": {},
          "output_type": "display_data"
        }
      ],
      "source": [
        "# Let's merge these into a single dataframe...\n",
        "result_df = pd.concat([df_predict, predictions_mean, predictions_std], axis=\"columns\")\n",
        "\n",
        "# ...and rename the columns to make the contents of the output clear\n",
        "result_df.columns = [\"x to predict\", \"predicted mean y\", \"predicted std y\"]\n",
        "\n",
        "# Let's have a look!\n",
        "display(result_df)"
      ]
    },
    {
      "cell_type": "markdown",
      "metadata": {
        "id": "SOMySQsRPyog"
      },
      "source": [
        "### **4. Viewing the Results**\n",
        "\n",
        "`Emulator.predict` outputs mean values for each input and their standard deviation; this gives the abilty to nicely visualise the uncertainty in results, using `Emulator.plot`\n"
      ]
    },
    {
      "cell_type": "code",
      "execution_count": 7,
      "metadata": {
        "colab": {
          "base_uri": "https://localhost:8080/",
          "height": 449
        },
        "id": "ee5QgW-9Pyoh",
        "outputId": "54bfa606-70a7-43f2-e3ee-6875998d947e"
      },
      "outputs": [
        {
          "data": {
            "image/png": "[encoded data removed]",
            "text/plain": [
              "<Figure size 640x480 with 1 Axes>"
            ]
          },
          "metadata": {},
          "output_type": "display_data"
        }
      ],
      "source": [
        "# Plot results\n",
        "plt = emulator.plot(\n",
        "    x_axis=\"x\",\n",
        "    y_axis=\"y\",\n",
        "    x_lim=(0, 1.0)\n",
        ")\n",
        "plt.scatter(df[\"x\"], df[\"y\"], color=\"black\", label=\"Training data\")\n",
        "plt.legend()\n",
        "plt.show()"
      ]
    },
    {
      "cell_type": "markdown",
      "metadata": {
        "id": "lZb18lzVPyoh"
      },
      "source": [
        "### **Deleting datasets and campaigns**\n",
        "\n",
        "You can delete your datasets and emulators. Please be aware that this is permanent. Always consider keeping your data backed-up. `Emulator.delete` and `Dataset.delete` delete the emulator and the dataset respectively.\n"
      ]
    },
    {
      "cell_type": "code",
      "execution_count": 8,
      "metadata": {
        "id": "h4XcoWyBPyoh"
      },
      "outputs": [],
      "source": [
        "# Delete the emulator\n",
        "emulator.delete()\n",
        "\n",
        "# Delete the dataset\n",
        "dataset.delete()"
      ]
    }
  ],
  "metadata": {
    "colab": {
      "provenance": []
    },
    "kernelspec": {
      "display_name": "twinlab-demos-5eekO54e-py3.11",
      "language": "python",
      "name": "python3"
    },
    "language_info": {
      "codemirror_mode": {
        "name": "ipython",
        "version": 3
      },
      "file_extension": ".py",
      "mimetype": "text/x-python",
      "name": "python",
      "nbconvert_exporter": "python",
      "pygments_lexer": "ipython3",
      "version": "3.11.9"
    }
  },
  "nbformat": 4,
  "nbformat_minor": 0
}

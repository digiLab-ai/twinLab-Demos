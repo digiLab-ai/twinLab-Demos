{
 "cells": [
  {
   "cell_type": "code",
   "execution_count": null,
   "metadata": {},
   "outputs": [],
   "source": [
    "# Third-party imports\n",
    "import numpy as np\n",
    "import pandas as pd\n",
    "import matplotlib.pyplot as plt\n",
    "\n",
    "# Project imports\n",
    "import twinlab as tl"
   ]
  },
  {
   "cell_type": "code",
   "execution_count": null,
   "metadata": {},
   "outputs": [],
   "source": [
    "# Parameters\n",
    "dataset_id = \"wiggle\"\n",
    "campaign_id = dataset_id\n",
    "err_sig = 0.25\n",
    "n_train = 400\n",
    "n_eval = 101\n",
    "random_seed = 42\n",
    "n_cycle = 3\n",
    "grad = 0.3\n",
    "xmin, xmax = 0, 3.\n",
    "\n",
    "def f(x):\n",
    "    f1 = grad*x\n",
    "    f2 = np.sin(2*np.pi*x*n_cycle)\n",
    "    return np.where(np.abs(x-1.5)>0.5, f1, f1+f2)"
   ]
  },
  {
   "cell_type": "code",
   "execution_count": null,
   "metadata": {},
   "outputs": [],
   "source": [
    "# Seed the random-number generator\n",
    "np.random.seed(random_seed)\n",
    "\n",
    "# Training Data\n",
    "X = np.random.uniform(xmin, xmax, n_train)\n",
    "y = f(X)+np.random.normal(0., err_sig, n_train)\n",
    "df_train = pd.DataFrame({'X': X, 'y': y})\n",
    "display(df_train)\n",
    "tl.upload_dataset(df_train, dataset_id, verbose=True)"
   ]
  },
  {
   "cell_type": "code",
   "execution_count": null,
   "metadata": {},
   "outputs": [],
   "source": [
    "# Evaluation data\n",
    "eval = {\"X\": np.linspace(xmin, xmax, n_eval)}\n",
    "df_test = pd.DataFrame(eval)\n",
    "display(df_test)"
   ]
  },
  {
   "cell_type": "code",
   "execution_count": null,
   "metadata": {},
   "outputs": [],
   "source": [
    "# Training parameters\n",
    "params = {\n",
    "    \"dataset_id\": dataset_id,\n",
    "    \"inputs\" : [\"X\"],\n",
    "    \"outputs\": [\"y\"],\n",
    "    \"test_train_ratio\": 1.,\n",
    "}\n",
    "\n",
    "# Plot parameters\n",
    "grid = df_test[\"X\"].values\n",
    "alpha_fill = 0.25\n",
    "ns_train = [10, 20, 40, 80, 160, 320]\n",
    "nrow, ncol = 2, 3\n",
    "figx, figy = 4, 3\n",
    "\n",
    "# Loop over different error in data and plot\n",
    "plt.subplots(nrow, ncol, sharex=True, sharey=True, figsize=(ncol*figx, nrow*figy))\n",
    "for iplot, n in enumerate(ns_train):\n",
    "\n",
    "    # Train model\n",
    "    print(\"Number of data points used for training:\", n)\n",
    "    params[\"test_train_ratio\"] = n/len(df_train)\n",
    "    tl.train_campaign(params, campaign_id, verbose=True)\n",
    "\n",
    "    # Predict\n",
    "    df_mean, df_std = tl.predict_campaign(df_test, campaign_id)\n",
    "    mean, err = df_mean[\"y\"].values, df_std[\"y\"].values\n",
    "\n",
    "    # Plot\n",
    "    color = f\"C{iplot}\"\n",
    "    plt.subplot(nrow, ncol, iplot+1)\n",
    "    plt.plot(df_train[\"X\"][:n], df_train[\"y\"][:n], \".\", color=\"black\")\n",
    "    plt.plot(grid, mean, \"-\", color=color, label=f\"N = {n}\")\n",
    "    for nsig in [1, 2]:\n",
    "        plt.fill_between(grid, mean-nsig*err, mean+nsig*err, lw=0, color=color, alpha=alpha_fill)\n",
    "    # plt.xlabel(\"X\"); plt.ylabel(\"y\")\n",
    "    plt.xticks([]); plt.yticks([])\n",
    "    # plt.ylim((-1., 3.))\n",
    "    plt.legend()\n",
    "\n",
    "# Finalize plot\n",
    "plt.tight_layout()\n",
    "plt.show()"
   ]
  },
  {
   "cell_type": "code",
   "execution_count": null,
   "metadata": {},
   "outputs": [],
   "source": [
    "# Delete campaign and dataset if necessary\n",
    "tl.delete_campaign(campaign_id, verbose=True)\n",
    "tl.delete_dataset(dataset_id, verbose=True)"
   ]
  }
 ],
 "metadata": {
  "kernelspec": {
   "display_name": "twinlab-cloud-IBHCqXSr-py3.9",
   "language": "python",
   "name": "python3"
  },
  "language_info": {
   "codemirror_mode": {
    "name": "ipython",
    "version": 3
   },
   "file_extension": ".py",
   "mimetype": "text/x-python",
   "name": "python",
   "nbconvert_exporter": "python",
   "pygments_lexer": "ipython3",
   "version": "3.11.3"
  },
  "orig_nbformat": 4
 },
 "nbformat": 4,
 "nbformat_minor": 2
}

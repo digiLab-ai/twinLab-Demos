{
 "cells": [
  {
   "cell_type": "markdown",
   "metadata": {},
   "source": [
    "# **Advanced Quickstart Guide**\n",
    "\n",
    "This guide fllows the same format as `Quickstart Guide` but explores further functionality provided by twinLab. In this jupyter notebook we will:\n",
    "\n",
    "    1. Upload a dataset to twinLab.\n",
    "    2. List, view and querey uploaded datasets.\n",
    "    3. Use `tl.train_campaign` to create a surrogate model.\n",
    "    4. List, view and querye trained campaigns.\n",
    "    5. Use the model to make a prediction with `tl.predict_campaign`.\n",
    "    6. Visualise the results and their uncertainty.\n",
    "    7. Verify the model using `tl.sample_campaign`."
   ]
  },
  {
   "cell_type": "code",
   "execution_count": null,
   "metadata": {},
   "outputs": [],
   "source": [
    "# Third-party imports\n",
    "import numpy as np\n",
    "import pandas as pd\n",
    "import matplotlib.pyplot as plt\n",
    "\n",
    "\n",
    "# Project imports\n",
    "import twinlab as tl"
   ]
  },
  {
   "cell_type": "markdown",
   "metadata": {},
   "source": [
    "### **API setup**\n",
    "\n",
    "The first time you use twinLab you will have to enter your API key and confirm you have the correct URL set."
   ]
  },
  {
   "cell_type": "code",
   "execution_count": null,
   "metadata": {},
   "outputs": [],
   "source": [
    "# Set the API key\n",
    "tl.set_api_key(\"my_api_key\")\n",
    "\n",
    "# Check which url is being used\n",
    "tl.get_server_url()\n",
    "\n",
    "# Set the server url\n",
    "tl.set_server_url(\"http://twinlab.digilab.co.uk\")"
   ]
  },
  {
   "cell_type": "markdown",
   "metadata": {},
   "source": [
    "### **Your twinLab information**\n",
    "\n",
    "Confirm your twinLab version"
   ]
  },
  {
   "cell_type": "code",
   "execution_count": 2,
   "metadata": {},
   "outputs": [
    {
     "data": {
      "text/plain": [
       "{'cloud': '2.0.0',\n",
       " 'modal': '0.2.0',\n",
       " 'library': '1.2.0',\n",
       " 'image': 'jasper-twinlab-deployment'}"
      ]
     },
     "execution_count": 2,
     "metadata": {},
     "output_type": "execute_result"
    }
   ],
   "source": [
    "tl.get_versions()"
   ]
  },
  {
   "cell_type": "markdown",
   "metadata": {},
   "source": [
    "And view your user information, including how many credits you have."
   ]
  },
  {
   "cell_type": "code",
   "execution_count": 3,
   "metadata": {},
   "outputs": [
    {
     "data": {
      "text/plain": [
       "{'username': 'jasper@digilab.co.uk', 'credits': 0}"
      ]
     },
     "execution_count": 3,
     "metadata": {},
     "output_type": "execute_result"
    }
   ],
   "source": [
    "tl.get_user_information()"
   ]
  },
  {
   "cell_type": "markdown",
   "metadata": {},
   "source": [
    "### **Upload a dataset**\n",
    "\n",
    "Datasets must be data presented as a `pandas.DataFrame` object, or a filepaths which points to a csv file that can be parsed to a `pandas.DataFrame` object. **Both must be formatted with clearly labelled columns.** Here, we will label the input (predictor) variable `x` and the output variable `y`. In `twinlab`, data is expected to be in column-feature format, meaning each row represents a single data sample, and each column represents a data feature. \n",
    "\n",
    "Datasets must be uploaded with a `dataset_id` which is used to access them from the cloud."
   ]
  },
  {
   "cell_type": "code",
   "execution_count": 4,
   "metadata": {},
   "outputs": [
    {
     "data": {
      "text/html": [
       "<div>\n",
       "<style scoped>\n",
       "    .dataframe tbody tr th:only-of-type {\n",
       "        vertical-align: middle;\n",
       "    }\n",
       "\n",
       "    .dataframe tbody tr th {\n",
       "        vertical-align: top;\n",
       "    }\n",
       "\n",
       "    .dataframe thead th {\n",
       "        text-align: right;\n",
       "    }\n",
       "</style>\n",
       "<table border=\"1\" class=\"dataframe\">\n",
       "  <thead>\n",
       "    <tr style=\"text-align: right;\">\n",
       "      <th></th>\n",
       "      <th>x</th>\n",
       "      <th>y</th>\n",
       "    </tr>\n",
       "  </thead>\n",
       "  <tbody>\n",
       "    <tr>\n",
       "      <th>0</th>\n",
       "      <td>0.696469</td>\n",
       "      <td>-0.817374</td>\n",
       "    </tr>\n",
       "    <tr>\n",
       "      <th>1</th>\n",
       "      <td>0.286139</td>\n",
       "      <td>0.887656</td>\n",
       "    </tr>\n",
       "    <tr>\n",
       "      <th>2</th>\n",
       "      <td>0.226851</td>\n",
       "      <td>0.921553</td>\n",
       "    </tr>\n",
       "    <tr>\n",
       "      <th>3</th>\n",
       "      <td>0.551315</td>\n",
       "      <td>-0.326334</td>\n",
       "    </tr>\n",
       "    <tr>\n",
       "      <th>4</th>\n",
       "      <td>0.719469</td>\n",
       "      <td>-0.832518</td>\n",
       "    </tr>\n",
       "    <tr>\n",
       "      <th>5</th>\n",
       "      <td>0.423106</td>\n",
       "      <td>0.400669</td>\n",
       "    </tr>\n",
       "    <tr>\n",
       "      <th>6</th>\n",
       "      <td>0.980764</td>\n",
       "      <td>-0.164966</td>\n",
       "    </tr>\n",
       "    <tr>\n",
       "      <th>7</th>\n",
       "      <td>0.684830</td>\n",
       "      <td>-0.960764</td>\n",
       "    </tr>\n",
       "    <tr>\n",
       "      <th>8</th>\n",
       "      <td>0.480932</td>\n",
       "      <td>0.340115</td>\n",
       "    </tr>\n",
       "    <tr>\n",
       "      <th>9</th>\n",
       "      <td>0.392118</td>\n",
       "      <td>0.845795</td>\n",
       "    </tr>\n",
       "  </tbody>\n",
       "</table>\n",
       "</div>"
      ],
      "text/plain": [
       "          x         y\n",
       "0  0.696469 -0.817374\n",
       "1  0.286139  0.887656\n",
       "2  0.226851  0.921553\n",
       "3  0.551315 -0.326334\n",
       "4  0.719469 -0.832518\n",
       "5  0.423106  0.400669\n",
       "6  0.980764 -0.164966\n",
       "7  0.684830 -0.960764\n",
       "8  0.480932  0.340115\n",
       "9  0.392118  0.845795"
      ]
     },
     "metadata": {},
     "output_type": "display_data"
    },
    {
     "name": "stdout",
     "output_type": "stream",
     "text": [
      "Dataframe is uploading.\n",
      "Processing dataset.\n",
      "Dataset example_data was processed.\n"
     ]
    }
   ],
   "source": [
    "x = [0.6964691855978616,\n",
    "0.28613933495037946,\n",
    "0.2268514535642031,\n",
    "0.5513147690828912,\n",
    "0.7194689697855631,\n",
    "0.42310646012446096,\n",
    "0.9807641983846155,\n",
    "0.6848297385848633,\n",
    "0.48093190148436094,\n",
    "0.3921175181941505]\n",
    "\n",
    "y = [-0.8173739564129022,\n",
    "0.8876561174050408,\n",
    "0.921552660721474,\n",
    "-0.3263338765412979,\n",
    "-0.8325176123242133,\n",
    "0.4006686354731812,\n",
    "-0.16496626502368078,\n",
    "-0.9607643657025954,\n",
    "0.3401149876855609,\n",
    "0.8457949914442409]\n",
    "\n",
    "# Creating the dataframe using the above arrays\n",
    "df = pd.DataFrame({'x': x, 'y': y})\n",
    "\n",
    "# View the dataset before uploading\n",
    "display(df)\n",
    "\n",
    "# Define the name of the dataset\n",
    "dataset_id = \"example_data\"\n",
    "\n",
    "# Upload the dataset\n",
    "tl.upload_dataset(df, dataset_id, verbose=True)"
   ]
  },
  {
   "cell_type": "markdown",
   "metadata": {},
   "source": [
    "If your data is stored in a csv file the you must input the filepath string into `tl.upload_dataset`."
   ]
  },
  {
   "cell_type": "code",
   "execution_count": null,
   "metadata": {},
   "outputs": [],
   "source": [
    "# Define the fielpath of the csv\n",
    "df_filepath = \"example_data_folder/example_data.csv\"\n",
    "\n",
    "# Define the name of the dataset\n",
    "dataset_id = \"example_data\"\n",
    "\n",
    "# Upload the dataset to the cloud\n",
    "tl.upload_dataset(df_filepath, dataset_id, verbose=True)"
   ]
  },
  {
   "cell_type": "markdown",
   "metadata": {},
   "source": [
    "### **View datasets**\n",
    "\n",
    "Once a dataset has been uploaded it can be easily acccesed using built in twinLab functions. A list of all uploaded dataset can be produced, individual datasets can be viewed and you can even querey a dataset to get a statistical summary of its data."
   ]
  },
  {
   "cell_type": "code",
   "execution_count": 5,
   "metadata": {},
   "outputs": [
    {
     "data": {
      "text/plain": [
       "['example_data']"
      ]
     },
     "execution_count": 5,
     "metadata": {},
     "output_type": "execute_result"
    }
   ],
   "source": [
    "# List all datasets on cloud\n",
    "tl.list_datasets()"
   ]
  },
  {
   "cell_type": "code",
   "execution_count": 6,
   "metadata": {},
   "outputs": [
    {
     "data": {
      "text/html": [
       "<div>\n",
       "<style scoped>\n",
       "    .dataframe tbody tr th:only-of-type {\n",
       "        vertical-align: middle;\n",
       "    }\n",
       "\n",
       "    .dataframe tbody tr th {\n",
       "        vertical-align: top;\n",
       "    }\n",
       "\n",
       "    .dataframe thead th {\n",
       "        text-align: right;\n",
       "    }\n",
       "</style>\n",
       "<table border=\"1\" class=\"dataframe\">\n",
       "  <thead>\n",
       "    <tr style=\"text-align: right;\">\n",
       "      <th></th>\n",
       "      <th>x</th>\n",
       "      <th>y</th>\n",
       "    </tr>\n",
       "  </thead>\n",
       "  <tbody>\n",
       "    <tr>\n",
       "      <th>0</th>\n",
       "      <td>0.696469</td>\n",
       "      <td>-0.817374</td>\n",
       "    </tr>\n",
       "    <tr>\n",
       "      <th>1</th>\n",
       "      <td>0.286139</td>\n",
       "      <td>0.887656</td>\n",
       "    </tr>\n",
       "    <tr>\n",
       "      <th>2</th>\n",
       "      <td>0.226851</td>\n",
       "      <td>0.921553</td>\n",
       "    </tr>\n",
       "    <tr>\n",
       "      <th>3</th>\n",
       "      <td>0.551315</td>\n",
       "      <td>-0.326334</td>\n",
       "    </tr>\n",
       "    <tr>\n",
       "      <th>4</th>\n",
       "      <td>0.719469</td>\n",
       "      <td>-0.832518</td>\n",
       "    </tr>\n",
       "    <tr>\n",
       "      <th>5</th>\n",
       "      <td>0.423106</td>\n",
       "      <td>0.400669</td>\n",
       "    </tr>\n",
       "    <tr>\n",
       "      <th>6</th>\n",
       "      <td>0.980764</td>\n",
       "      <td>-0.164966</td>\n",
       "    </tr>\n",
       "    <tr>\n",
       "      <th>7</th>\n",
       "      <td>0.684830</td>\n",
       "      <td>-0.960764</td>\n",
       "    </tr>\n",
       "    <tr>\n",
       "      <th>8</th>\n",
       "      <td>0.480932</td>\n",
       "      <td>0.340115</td>\n",
       "    </tr>\n",
       "    <tr>\n",
       "      <th>9</th>\n",
       "      <td>0.392118</td>\n",
       "      <td>0.845795</td>\n",
       "    </tr>\n",
       "  </tbody>\n",
       "</table>\n",
       "</div>"
      ],
      "text/plain": [
       "          x         y\n",
       "0  0.696469 -0.817374\n",
       "1  0.286139  0.887656\n",
       "2  0.226851  0.921553\n",
       "3  0.551315 -0.326334\n",
       "4  0.719469 -0.832518\n",
       "5  0.423106  0.400669\n",
       "6  0.980764 -0.164966\n",
       "7  0.684830 -0.960764\n",
       "8  0.480932  0.340115\n",
       "9  0.392118  0.845795"
      ]
     },
     "execution_count": 6,
     "metadata": {},
     "output_type": "execute_result"
    }
   ],
   "source": [
    "# View the dataset\n",
    "tl.view_dataset(dataset_id)"
   ]
  },
  {
   "cell_type": "code",
   "execution_count": 7,
   "metadata": {},
   "outputs": [
    {
     "data": {
      "text/html": [
       "<div>\n",
       "<style scoped>\n",
       "    .dataframe tbody tr th:only-of-type {\n",
       "        vertical-align: middle;\n",
       "    }\n",
       "\n",
       "    .dataframe tbody tr th {\n",
       "        vertical-align: top;\n",
       "    }\n",
       "\n",
       "    .dataframe thead th {\n",
       "        text-align: right;\n",
       "    }\n",
       "</style>\n",
       "<table border=\"1\" class=\"dataframe\">\n",
       "  <thead>\n",
       "    <tr style=\"text-align: right;\">\n",
       "      <th></th>\n",
       "      <th>x</th>\n",
       "      <th>y</th>\n",
       "    </tr>\n",
       "  </thead>\n",
       "  <tbody>\n",
       "    <tr>\n",
       "      <th>count</th>\n",
       "      <td>10.000000</td>\n",
       "      <td>10.000000</td>\n",
       "    </tr>\n",
       "    <tr>\n",
       "      <th>mean</th>\n",
       "      <td>0.544199</td>\n",
       "      <td>0.029383</td>\n",
       "    </tr>\n",
       "    <tr>\n",
       "      <th>std</th>\n",
       "      <td>0.229352</td>\n",
       "      <td>0.748191</td>\n",
       "    </tr>\n",
       "    <tr>\n",
       "      <th>min</th>\n",
       "      <td>0.226851</td>\n",
       "      <td>-0.960764</td>\n",
       "    </tr>\n",
       "    <tr>\n",
       "      <th>25%</th>\n",
       "      <td>0.399865</td>\n",
       "      <td>-0.694614</td>\n",
       "    </tr>\n",
       "    <tr>\n",
       "      <th>50%</th>\n",
       "      <td>0.516123</td>\n",
       "      <td>0.087574</td>\n",
       "    </tr>\n",
       "    <tr>\n",
       "      <th>75%</th>\n",
       "      <td>0.693559</td>\n",
       "      <td>0.734513</td>\n",
       "    </tr>\n",
       "    <tr>\n",
       "      <th>max</th>\n",
       "      <td>0.980764</td>\n",
       "      <td>0.921553</td>\n",
       "    </tr>\n",
       "  </tbody>\n",
       "</table>\n",
       "</div>"
      ],
      "text/plain": [
       "               x          y\n",
       "count  10.000000  10.000000\n",
       "mean    0.544199   0.029383\n",
       "std     0.229352   0.748191\n",
       "min     0.226851  -0.960764\n",
       "25%     0.399865  -0.694614\n",
       "50%     0.516123   0.087574\n",
       "75%     0.693559   0.734513\n",
       "max     0.980764   0.921553"
      ]
     },
     "execution_count": 7,
     "metadata": {},
     "output_type": "execute_result"
    }
   ],
   "source": [
    "# Querey the dataset to get a statistical summary\n",
    "tl.query_dataset(dataset_id)"
   ]
  },
  {
   "cell_type": "markdown",
   "metadata": {},
   "source": [
    "### **Train a campaign**\n",
    "\n",
    "The `campaign` class is used to train and implement your surrogate models. As with datasets, an id is defined, this is what the model will be saved as in the cloud. When training a model the arguments are passed using a dictionary; here we name that dictionary `campaign_params`. To train the model we use the `tl.train_campaign` function, inputting the dictionary and `campaign_id`."
   ]
  },
  {
   "cell_type": "code",
   "execution_count": 8,
   "metadata": {},
   "outputs": [
    {
     "name": "stdout",
     "output_type": "stream",
     "text": [
      "Model example_campaign has begun training.\n"
     ]
    }
   ],
   "source": [
    "campaign_id = \"example_campaign\"\n",
    "\n",
    "campaign_params = {\n",
    "    \"dataset_id\": dataset_id,       # This points the campaign to the uploaded dataset\n",
    "    \"inputs\": [\"x\"],                # Using the datasets column headers define the input and output data\n",
    "    \"outputs\": [\"y\"],\n",
    "    \"test_train_ratio\": 0.8         # Determine how much data is used for training, here 80% is used to train the model  \n",
    "}                                   # and 20% is used to test it.     \n",
    "\n",
    "# Start a new campaign and train a surrogate model\n",
    "tl.train_campaign(campaign_params, campaign_id, verbose=True)"
   ]
  },
  {
   "cell_type": "markdown",
   "metadata": {},
   "source": [
    "### **View campaigns**\n",
    "\n",
    "Just as with datasets all saved campaigns can be listed and queried."
   ]
  },
  {
   "cell_type": "code",
   "execution_count": 9,
   "metadata": {},
   "outputs": [
    {
     "data": {
      "text/plain": [
       "['example_campaign']"
      ]
     },
     "execution_count": 9,
     "metadata": {},
     "output_type": "execute_result"
    }
   ],
   "source": [
    "# List campaigns\n",
    "tl.list_campaigns()"
   ]
  },
  {
   "cell_type": "code",
   "execution_count": 10,
   "metadata": {},
   "outputs": [
    {
     "data": {
      "text/plain": [
       "{'id': 'example_campaign',\n",
       " 'dataset_id': 'example_data',\n",
       " 'inputs': ['x'],\n",
       " 'outputs': ['y'],\n",
       " 'train_test_ratio': 0.8,\n",
       " 'modal_handle': 'fc-Lu1kiGyQ92KUjXAfnmBvh9'}"
      ]
     },
     "execution_count": 10,
     "metadata": {},
     "output_type": "execute_result"
    }
   ],
   "source": [
    "# View a campaigns parameters\n",
    "tl.view_campaign(campaign_id)"
   ]
  },
  {
   "cell_type": "code",
   "execution_count": 11,
   "metadata": {},
   "outputs": [
    {
     "data": {
      "text/plain": [
       "{'model_summary': {'transformer_diagnostics': [],\n",
       "  'estimator_diagnostics': {'covar_module': 'ScaleKernel(\\n  (base_kernel): MaternKernel(\\n    (lengthscale_prior): GammaPrior()\\n    (raw_lengthscale_constraint): Positive()\\n  )\\n  (outputscale_prior): GammaPrior()\\n  (raw_outputscale_constraint): Positive()\\n)',\n",
       "   'mean_module': 'ConstantMean()',\n",
       "   'likelihood.noise_covar.raw_noise': [0.009517051465063415],\n",
       "   'likelihood.noise_covar.noise_prior.concentration': 1.100000023841858,\n",
       "   'likelihood.noise_covar.noise_prior.rate': 0.05000000074505806,\n",
       "   'likelihood.noise_covar.raw_noise_constraint.lower_bound': 9.999999747378752e-05,\n",
       "   'likelihood.noise_covar.raw_noise_constraint.upper_bound': inf,\n",
       "   'mean_module.raw_constant': 0.24830962865658485,\n",
       "   'covar_module.raw_outputscale': 0.4935421612575323,\n",
       "   'covar_module.base_kernel.raw_lengthscale': [[-0.666875291872184]],\n",
       "   'covar_module.base_kernel.lengthscale_prior.concentration': 3.0,\n",
       "   'covar_module.base_kernel.lengthscale_prior.rate': 6.0,\n",
       "   'covar_module.base_kernel.raw_lengthscale_constraint.lower_bound': 0.0,\n",
       "   'covar_module.base_kernel.raw_lengthscale_constraint.upper_bound': inf,\n",
       "   'covar_module.outputscale_prior.concentration': 2.0,\n",
       "   'covar_module.outputscale_prior.rate': 0.15000000596046448,\n",
       "   'covar_module.raw_outputscale_constraint.lower_bound': 0.0,\n",
       "   'covar_module.raw_outputscale_constraint.upper_bound': inf,\n",
       "   'outcome_transform.means': [[-0.11150983280062417]],\n",
       "   'outcome_transform.stdvs': [[0.766831523277246]],\n",
       "   'outcome_transform._stdvs_sq': [[0.5880305850917015]],\n",
       "   'input_transform._coefficient': [[0.7539127448204125]],\n",
       "   'input_transform._offset': [[0.2268514535642031]],\n",
       "   'likelihood.noise_covar.original_noise': [0.009517051465063415],\n",
       "   'mean_module.original_constant': 0.24830962865658485,\n",
       "   'covar_module.original_outputscale': 0.9700621450319094,\n",
       "   'covar_module.base_kernel.original_lengthscale': [[0.41429931695784283]]},\n",
       "  'data_diagnostics': {'inputs': {'x': {'count': 10.0,\n",
       "     'mean': 0.544199352975335,\n",
       "     'std': 0.22935216613691597,\n",
       "     'min': 0.2268514535642031,\n",
       "     '25%': 0.39986475367672814,\n",
       "     '50%': 0.5161233352836261,\n",
       "     '75%': 0.693559323844612,\n",
       "     'max': 0.9807641983846156}},\n",
       "   'outputs': {'y': {'count': 10.0,\n",
       "     'mean': 0.029383131672480845,\n",
       "     'std': 0.7481906564998719,\n",
       "     'min': -0.9607643657025954,\n",
       "     '25%': -0.6946139364450011,\n",
       "     '50%': 0.0875743613309401,\n",
       "     '75%': 0.7345134024514759,\n",
       "     'max': 0.921552660721474}}}}}"
      ]
     },
     "execution_count": 11,
     "metadata": {},
     "output_type": "execute_result"
    }
   ],
   "source": [
    "# View the status of a campaign\n",
    "tl.query_campaign(campaign_id)"
   ]
  },
  {
   "cell_type": "markdown",
   "metadata": {},
   "source": [
    "### **Using a predict campaign**\n",
    "\n",
    "The surrogate model is now trained and saved to the cloud under the `campaign_id`. It can now be used to make predictions. First define a dataset of inputs for which you want to find outputs; ensure that this is a `pandas.DataFrame` object or a file path for a correctly formatted csv. Then call `tl.predict_campaign` with the keyword arguments being the evaluation dataset and the `campaign_id` of the model you wish to use."
   ]
  },
  {
   "cell_type": "code",
   "execution_count": 12,
   "metadata": {},
   "outputs": [
    {
     "data": {
      "text/html": [
       "<div>\n",
       "<style scoped>\n",
       "    .dataframe tbody tr th:only-of-type {\n",
       "        vertical-align: middle;\n",
       "    }\n",
       "\n",
       "    .dataframe tbody tr th {\n",
       "        vertical-align: top;\n",
       "    }\n",
       "\n",
       "    .dataframe thead th {\n",
       "        text-align: right;\n",
       "    }\n",
       "</style>\n",
       "<table border=\"1\" class=\"dataframe\">\n",
       "  <thead>\n",
       "    <tr style=\"text-align: right;\">\n",
       "      <th></th>\n",
       "      <th>x</th>\n",
       "    </tr>\n",
       "  </thead>\n",
       "  <tbody>\n",
       "    <tr>\n",
       "      <th>0</th>\n",
       "      <td>0.000000</td>\n",
       "    </tr>\n",
       "    <tr>\n",
       "      <th>1</th>\n",
       "      <td>0.007874</td>\n",
       "    </tr>\n",
       "    <tr>\n",
       "      <th>2</th>\n",
       "      <td>0.015748</td>\n",
       "    </tr>\n",
       "    <tr>\n",
       "      <th>3</th>\n",
       "      <td>0.023622</td>\n",
       "    </tr>\n",
       "    <tr>\n",
       "      <th>4</th>\n",
       "      <td>0.031496</td>\n",
       "    </tr>\n",
       "    <tr>\n",
       "      <th>...</th>\n",
       "      <td>...</td>\n",
       "    </tr>\n",
       "    <tr>\n",
       "      <th>123</th>\n",
       "      <td>0.968504</td>\n",
       "    </tr>\n",
       "    <tr>\n",
       "      <th>124</th>\n",
       "      <td>0.976378</td>\n",
       "    </tr>\n",
       "    <tr>\n",
       "      <th>125</th>\n",
       "      <td>0.984252</td>\n",
       "    </tr>\n",
       "    <tr>\n",
       "      <th>126</th>\n",
       "      <td>0.992126</td>\n",
       "    </tr>\n",
       "    <tr>\n",
       "      <th>127</th>\n",
       "      <td>1.000000</td>\n",
       "    </tr>\n",
       "  </tbody>\n",
       "</table>\n",
       "<p>128 rows × 1 columns</p>\n",
       "</div>"
      ],
      "text/plain": [
       "            x\n",
       "0    0.000000\n",
       "1    0.007874\n",
       "2    0.015748\n",
       "3    0.023622\n",
       "4    0.031496\n",
       "..        ...\n",
       "123  0.968504\n",
       "124  0.976378\n",
       "125  0.984252\n",
       "126  0.992126\n",
       "127  1.000000\n",
       "\n",
       "[128 rows x 1 columns]"
      ]
     },
     "metadata": {},
     "output_type": "display_data"
    }
   ],
   "source": [
    "# Define the inputs for the dataset\n",
    "x_eval = np.linspace(0,1,128)\n",
    "\n",
    "# Convert to a dataframe\n",
    "df_eval = pd.DataFrame({'x':x_eval})\n",
    "display(df_eval)\n",
    "\n",
    "# Predict the results\n",
    "df_mean, df_std = tl.predict_campaign(df_eval, campaign_id)"
   ]
  },
  {
   "cell_type": "markdown",
   "metadata": {},
   "source": [
    "Alternatively the dataset can be used driectly from a csv by inputting its filepath."
   ]
  },
  {
   "cell_type": "code",
   "execution_count": null,
   "metadata": {},
   "outputs": [],
   "source": [
    "# The define the file path of the csv\n",
    "df_eval_filepath = \"example_data_folder/example_eval_data.csv\"\n",
    "\n",
    "# Predict the results\n",
    "df_mean, df_std = tl.predict_campaign(df_eval, campaign_id)"
   ]
  },
  {
   "cell_type": "markdown",
   "metadata": {},
   "source": [
    "### **Viewing the results**\n",
    "`tl.predict_campaign` outputs mean values for each input and their standard deviation; this gives the abilty to nicely visualise the uncertainty in results.\n"
   ]
  },
  {
   "cell_type": "code",
   "execution_count": 14,
   "metadata": {},
   "outputs": [
    {
     "data": {
      "image/png": "[encoded data removed]",
      "text/plain": [
       "<Figure size 640x480 with 1 Axes>"
      ]
     },
     "metadata": {},
     "output_type": "display_data"
    }
   ],
   "source": [
    "# Plot parameters\n",
    "nsigs = [1, 2]\n",
    "# nsigs = [0.674, 1.960, 2.576]\n",
    "color = \"blue\"\n",
    "alpha = 0.5\n",
    "plot_training_data = True\n",
    "plot_model_mean = True\n",
    "plot_model_bands = True\n",
    "\n",
    "# Plot results\n",
    "grid = df_eval[\"x\"]\n",
    "mean = df_mean[\"y\"]\n",
    "err = df_std[\"y\"]\n",
    "if plot_model_bands:\n",
    "    label = r\"Model prediction\"\n",
    "    plt.fill_between(grid, np.nan, np.nan, lw=0, color=color, alpha=alpha, label=label)\n",
    "    for isig, nsig in enumerate(nsigs):\n",
    "        plt.fill_between(grid, mean-nsig*err, mean+nsig*err, lw=0, color=color, alpha=alpha/(isig+1))\n",
    "if plot_model_mean:\n",
    "    label = r\"Model prediction\" if not plot_model_bands else None\n",
    "    plt.plot(grid, mean, color=color, alpha=alpha, label=label)\n",
    "if plot_training_data:\n",
    "    plt.plot(df[\"x\"], df[\"y\"], \".\", color=\"black\", label=\"Training data\")\n",
    "plt.xlim((0.0, 1.0))\n",
    "plt.xlabel(r\"$X$\")\n",
    "plt.ylabel(r\"$y$\")\n",
    "plt.legend()\n",
    "plt.show()"
   ]
  },
  {
   "cell_type": "markdown",
   "metadata": {},
   "source": [
    "### **Using a sample campaign**\n",
    "\n",
    "The `tl.sample_campaign` function can be used to retrieve a number of results from your model. It requires the inputs for which you want the values and how many outputs to calculate for each."
   ]
  },
  {
   "cell_type": "code",
   "execution_count": 15,
   "metadata": {},
   "outputs": [
    {
     "data": {
      "text/html": [
       "<div>\n",
       "<style scoped>\n",
       "    .dataframe tbody tr th:only-of-type {\n",
       "        vertical-align: middle;\n",
       "    }\n",
       "\n",
       "    .dataframe tbody tr th {\n",
       "        vertical-align: top;\n",
       "    }\n",
       "\n",
       "    .dataframe thead tr th {\n",
       "        text-align: left;\n",
       "    }\n",
       "</style>\n",
       "<table border=\"1\" class=\"dataframe\">\n",
       "  <thead>\n",
       "    <tr>\n",
       "      <th></th>\n",
       "      <th colspan=\"3\" halign=\"left\">y</th>\n",
       "    </tr>\n",
       "    <tr>\n",
       "      <th></th>\n",
       "      <th>0</th>\n",
       "      <th>1</th>\n",
       "      <th>2</th>\n",
       "    </tr>\n",
       "  </thead>\n",
       "  <tbody>\n",
       "    <tr>\n",
       "      <th>0</th>\n",
       "      <td>1.325517</td>\n",
       "      <td>0.901742</td>\n",
       "      <td>0.443879</td>\n",
       "    </tr>\n",
       "    <tr>\n",
       "      <th>1</th>\n",
       "      <td>1.370084</td>\n",
       "      <td>1.002154</td>\n",
       "      <td>0.596526</td>\n",
       "    </tr>\n",
       "    <tr>\n",
       "      <th>2</th>\n",
       "      <td>1.322354</td>\n",
       "      <td>1.007334</td>\n",
       "      <td>0.714428</td>\n",
       "    </tr>\n",
       "    <tr>\n",
       "      <th>3</th>\n",
       "      <td>1.198461</td>\n",
       "      <td>0.959523</td>\n",
       "      <td>0.875559</td>\n",
       "    </tr>\n",
       "    <tr>\n",
       "      <th>4</th>\n",
       "      <td>1.057219</td>\n",
       "      <td>0.830244</td>\n",
       "      <td>1.000054</td>\n",
       "    </tr>\n",
       "    <tr>\n",
       "      <th>5</th>\n",
       "      <td>0.898938</td>\n",
       "      <td>0.744924</td>\n",
       "      <td>0.988151</td>\n",
       "    </tr>\n",
       "    <tr>\n",
       "      <th>6</th>\n",
       "      <td>0.730687</td>\n",
       "      <td>0.700340</td>\n",
       "      <td>0.845671</td>\n",
       "    </tr>\n",
       "    <tr>\n",
       "      <th>7</th>\n",
       "      <td>0.608187</td>\n",
       "      <td>0.611015</td>\n",
       "      <td>0.599649</td>\n",
       "    </tr>\n",
       "    <tr>\n",
       "      <th>8</th>\n",
       "      <td>0.435439</td>\n",
       "      <td>0.449653</td>\n",
       "      <td>0.389812</td>\n",
       "    </tr>\n",
       "    <tr>\n",
       "      <th>9</th>\n",
       "      <td>0.130920</td>\n",
       "      <td>0.148791</td>\n",
       "      <td>0.097399</td>\n",
       "    </tr>\n",
       "    <tr>\n",
       "      <th>10</th>\n",
       "      <td>-0.191505</td>\n",
       "      <td>-0.170955</td>\n",
       "      <td>-0.185469</td>\n",
       "    </tr>\n",
       "    <tr>\n",
       "      <th>11</th>\n",
       "      <td>-0.475355</td>\n",
       "      <td>-0.487872</td>\n",
       "      <td>-0.465011</td>\n",
       "    </tr>\n",
       "    <tr>\n",
       "      <th>12</th>\n",
       "      <td>-0.723600</td>\n",
       "      <td>-0.721874</td>\n",
       "      <td>-0.736349</td>\n",
       "    </tr>\n",
       "    <tr>\n",
       "      <th>13</th>\n",
       "      <td>-0.825656</td>\n",
       "      <td>-0.851098</td>\n",
       "      <td>-0.828713</td>\n",
       "    </tr>\n",
       "    <tr>\n",
       "      <th>14</th>\n",
       "      <td>-0.844534</td>\n",
       "      <td>-0.861911</td>\n",
       "      <td>-0.742603</td>\n",
       "    </tr>\n",
       "    <tr>\n",
       "      <th>15</th>\n",
       "      <td>-0.788315</td>\n",
       "      <td>-0.724577</td>\n",
       "      <td>-0.541068</td>\n",
       "    </tr>\n",
       "    <tr>\n",
       "      <th>16</th>\n",
       "      <td>-0.679415</td>\n",
       "      <td>-0.536587</td>\n",
       "      <td>-0.377122</td>\n",
       "    </tr>\n",
       "    <tr>\n",
       "      <th>17</th>\n",
       "      <td>-0.589223</td>\n",
       "      <td>-0.363319</td>\n",
       "      <td>-0.235290</td>\n",
       "    </tr>\n",
       "    <tr>\n",
       "      <th>18</th>\n",
       "      <td>-0.399301</td>\n",
       "      <td>-0.201631</td>\n",
       "      <td>-0.189671</td>\n",
       "    </tr>\n",
       "    <tr>\n",
       "      <th>19</th>\n",
       "      <td>0.009497</td>\n",
       "      <td>-0.235810</td>\n",
       "      <td>-0.192017</td>\n",
       "    </tr>\n",
       "  </tbody>\n",
       "</table>\n",
       "</div>"
      ],
      "text/plain": [
       "           y                    \n",
       "           0         1         2\n",
       "0   1.325517  0.901742  0.443879\n",
       "1   1.370084  1.002154  0.596526\n",
       "2   1.322354  1.007334  0.714428\n",
       "3   1.198461  0.959523  0.875559\n",
       "4   1.057219  0.830244  1.000054\n",
       "5   0.898938  0.744924  0.988151\n",
       "6   0.730687  0.700340  0.845671\n",
       "7   0.608187  0.611015  0.599649\n",
       "8   0.435439  0.449653  0.389812\n",
       "9   0.130920  0.148791  0.097399\n",
       "10 -0.191505 -0.170955 -0.185469\n",
       "11 -0.475355 -0.487872 -0.465011\n",
       "12 -0.723600 -0.721874 -0.736349\n",
       "13 -0.825656 -0.851098 -0.828713\n",
       "14 -0.844534 -0.861911 -0.742603\n",
       "15 -0.788315 -0.724577 -0.541068\n",
       "16 -0.679415 -0.536587 -0.377122\n",
       "17 -0.589223 -0.363319 -0.235290\n",
       "18 -0.399301 -0.201631 -0.189671\n",
       "19  0.009497 -0.235810 -0.192017"
      ]
     },
     "metadata": {},
     "output_type": "display_data"
    }
   ],
   "source": [
    "# Define the sample inputs\n",
    "sample_inputs = pd.DataFrame({'x': np.linspace(0,1,20)})\n",
    "\n",
    "# Define number of samples to calculate for each input\n",
    "num_samples = 3\n",
    "\n",
    "sample_result = tl.sample_campaign(sample_inputs, campaign_id, num_samples)\n",
    "\n",
    "# View the results in the form of a dataframe\n",
    "display(sample_result)"
   ]
  },
  {
   "cell_type": "markdown",
   "metadata": {},
   "source": [
    "### **Viewing the results**\n",
    "\n",
    "The results can be plotted over the top of the previous graph giving a nice visualisation of the sampled data, with the model's uncertainity."
   ]
  },
  {
   "cell_type": "code",
   "execution_count": 19,
   "metadata": {},
   "outputs": [
    {
     "data": {
      "image/png": "[encoded data removed]",
      "text/plain": [
       "<Figure size 640x480 with 1 Axes>"
      ]
     },
     "metadata": {},
     "output_type": "display_data"
    }
   ],
   "source": [
    "# Plot parameters\n",
    "nsigs = [1, 2]\n",
    "# nsigs = [0.674, 1.960, 2.576]\n",
    "color = \"blue\"\n",
    "alpha = 0.5\n",
    "plot_training_data = True\n",
    "plot_model_mean = True\n",
    "plot_model_bands = True\n",
    "\n",
    "# Plot results\n",
    "grid = df_eval[\"x\"]\n",
    "mean = df_mean[\"y\"]\n",
    "err = df_std[\"y\"]\n",
    "if plot_model_bands:\n",
    "    label = r\"Model prediction\"\n",
    "    plt.fill_between(grid, np.nan, np.nan, lw=0, color=color, alpha=alpha, label=label)\n",
    "    for isig, nsig in enumerate(nsigs):\n",
    "        plt.fill_between(grid, mean-nsig*err, mean+nsig*err, lw=0, color=color, alpha=alpha/(isig+1))\n",
    "if plot_model_mean:\n",
    "    label = r\"Model prediction\" if not plot_model_bands else None\n",
    "    plt.plot(grid, mean, color=color, alpha=alpha, label=label)\n",
    "if plot_training_data:\n",
    "    plt.plot(df[\"x\"], df[\"y\"], \".\", color=\"#1d1d1b\", label=\"Training data\")\n",
    "for i in range(num_samples):\n",
    "    plt.scatter(sample_inputs, sample_result.values[:,i], marker='x', s=9, c='#ffb500')\n",
    "plt.scatter([], [], marker='x', s=9, c='#ffb500', label='Sampled Points')\n",
    "plt.xlim((0.0, 1.0))\n",
    "plt.xlabel(r\"$X$\")\n",
    "plt.ylabel(r\"$y$\")\n",
    "plt.legend()\n",
    "plt.show()"
   ]
  },
  {
   "cell_type": "markdown",
   "metadata": {},
   "source": [
    "### **Deleteing datasets and campaigns**\n",
    "\n",
    "To keep your cloud storage tidy you should delete your datasets and campaigns when you are finished with them. `tl.delete_campaign` and `tl.delete_dataset` only deletes them from the cloud storage."
   ]
  },
  {
   "cell_type": "code",
   "execution_count": 20,
   "metadata": {},
   "outputs": [],
   "source": [
    "# Delete dataset\n",
    "tl.delete_dataset(dataset_id)\n",
    "\n",
    "# Delete campaign\n",
    "tl.delete_campaign(campaign_id)"
   ]
  }
 ],
 "metadata": {
  "kernelspec": {
   "display_name": "twinlab-demos-5eekO54e-py3.11",
   "language": "python",
   "name": "python3"
  },
  "language_info": {
   "codemirror_mode": {
    "name": "ipython",
    "version": 3
   },
   "file_extension": ".py",
   "mimetype": "text/x-python",
   "name": "python",
   "nbconvert_exporter": "python",
   "pygments_lexer": "ipython3",
   "version": "3.11.5"
  }
 },
 "nbformat": 4,
 "nbformat_minor": 2
}

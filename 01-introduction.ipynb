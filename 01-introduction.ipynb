{
 "cells": [
  {
   "cell_type": "markdown",
   "metadata": {},
   "source": [
    "# **Introduction**\n",
    "\n",
    "This guide follows the same format as [quickstart](00-quickstart.ipynb) but explores further functionality provided by twinLab. In this jupyter notebook we will:\n",
    "\n",
    "1. Upload a dataset to twinLab.\n",
    "2. List, view and summarise uploaded datasets.\n",
    "3. Use `Emulator.train` to create a surrogate model.\n",
    "4. List, view and summarise trained emulators.\n",
    "5. Use the model to make a prediction with `Emulator.predict`.\n",
    "6. Visualise the results and their uncertainty.\n",
    "7. Verify the model using `Emulator.sample`.\n"
   ]
  },
  {
   "cell_type": "code",
   "execution_count": 1,
   "metadata": {},
   "outputs": [
    {
     "name": "stdout",
     "output_type": "stream",
     "text": [
      "\n",
      "          ====== TwinLab Client Initialisation ======\n",
      "          Version     : 2.0.0\n",
      "          Server      : https://twinlab.digilab.co.uk\n",
      "          Environment : /Users/mead/digiLab/twinLab-Demos/.env\n",
      "\n"
     ]
    }
   ],
   "source": [
    "# Standard imports\n",
    "from pprint import pprint\n",
    "\n",
    "# Third-party imports\n",
    "import matplotlib.pyplot as plt\n",
    "import numpy as np\n",
    "import pandas as pd\n",
    "\n",
    "# Project imports\n",
    "import twinlab as tl"
   ]
  },
  {
   "cell_type": "markdown",
   "metadata": {},
   "source": [
    "### **Your twinLab information**\n",
    "\n",
    "Confirm your twinLab version\n"
   ]
  },
  {
   "cell_type": "code",
   "execution_count": 2,
   "metadata": {},
   "outputs": [
    {
     "data": {
      "text/plain": [
       "{'cloud': '2.0.0',\n",
       " 'modal': '0.2.0',\n",
       " 'library': '1.3.0',\n",
       " 'image': 'twinlab-prod'}"
      ]
     },
     "execution_count": 2,
     "metadata": {},
     "output_type": "execute_result"
    }
   ],
   "source": [
    "tl.versions()"
   ]
  },
  {
   "cell_type": "markdown",
   "metadata": {},
   "source": [
    "And view your user information, including how many credits you have.\n"
   ]
  },
  {
   "cell_type": "code",
   "execution_count": 3,
   "metadata": {},
   "outputs": [
    {
     "data": {
      "text/plain": [
       "{'username': 'alexander', 'credits': 1000}"
      ]
     },
     "execution_count": 3,
     "metadata": {},
     "output_type": "execute_result"
    }
   ],
   "source": [
    "tl.user_information()"
   ]
  },
  {
   "cell_type": "markdown",
   "metadata": {},
   "source": [
    "### **Upload a dataset**\n",
    "\n",
    "Datasets must be data presented as a `pandas.DataFrame` object, or a filepaths which points to a csv file that can be parsed to a `pandas.DataFrame` object. **Both must be formatted with clearly labelled columns.** Here, we will label the input (predictor) variable `x` and the output variable `y`. In `twinlab`, data is expected to be in column-feature format, meaning each row represents a single data sample, and each column represents a data feature.\n",
    "\n",
    "`twinLab` contains a `Dataset` class with attirbutes and methods to process, view and summarise the dataset. Datasets must be created with a `dataset_id` which is used to access them. The dataset can be uploaded using the `upload` method.\n"
   ]
  },
  {
   "cell_type": "code",
   "execution_count": 4,
   "metadata": {},
   "outputs": [
    {
     "data": {
      "text/html": [
       "<div>\n",
       "<style scoped>\n",
       "    .dataframe tbody tr th:only-of-type {\n",
       "        vertical-align: middle;\n",
       "    }\n",
       "\n",
       "    .dataframe tbody tr th {\n",
       "        vertical-align: top;\n",
       "    }\n",
       "\n",
       "    .dataframe thead th {\n",
       "        text-align: right;\n",
       "    }\n",
       "</style>\n",
       "<table border=\"1\" class=\"dataframe\">\n",
       "  <thead>\n",
       "    <tr style=\"text-align: right;\">\n",
       "      <th></th>\n",
       "      <th>x</th>\n",
       "      <th>y</th>\n",
       "    </tr>\n",
       "  </thead>\n",
       "  <tbody>\n",
       "    <tr>\n",
       "      <th>0</th>\n",
       "      <td>0.696469</td>\n",
       "      <td>-0.817374</td>\n",
       "    </tr>\n",
       "    <tr>\n",
       "      <th>1</th>\n",
       "      <td>0.286139</td>\n",
       "      <td>0.887656</td>\n",
       "    </tr>\n",
       "    <tr>\n",
       "      <th>2</th>\n",
       "      <td>0.226851</td>\n",
       "      <td>0.921553</td>\n",
       "    </tr>\n",
       "    <tr>\n",
       "      <th>3</th>\n",
       "      <td>0.551315</td>\n",
       "      <td>-0.326334</td>\n",
       "    </tr>\n",
       "    <tr>\n",
       "      <th>4</th>\n",
       "      <td>0.719469</td>\n",
       "      <td>-0.832518</td>\n",
       "    </tr>\n",
       "    <tr>\n",
       "      <th>5</th>\n",
       "      <td>0.423106</td>\n",
       "      <td>0.400669</td>\n",
       "    </tr>\n",
       "    <tr>\n",
       "      <th>6</th>\n",
       "      <td>0.980764</td>\n",
       "      <td>-0.164966</td>\n",
       "    </tr>\n",
       "    <tr>\n",
       "      <th>7</th>\n",
       "      <td>0.684830</td>\n",
       "      <td>-0.960764</td>\n",
       "    </tr>\n",
       "    <tr>\n",
       "      <th>8</th>\n",
       "      <td>0.480932</td>\n",
       "      <td>0.340115</td>\n",
       "    </tr>\n",
       "    <tr>\n",
       "      <th>9</th>\n",
       "      <td>0.392118</td>\n",
       "      <td>0.845795</td>\n",
       "    </tr>\n",
       "  </tbody>\n",
       "</table>\n",
       "</div>"
      ],
      "text/plain": [
       "          x         y\n",
       "0  0.696469 -0.817374\n",
       "1  0.286139  0.887656\n",
       "2  0.226851  0.921553\n",
       "3  0.551315 -0.326334\n",
       "4  0.719469 -0.832518\n",
       "5  0.423106  0.400669\n",
       "6  0.980764 -0.164966\n",
       "7  0.684830 -0.960764\n",
       "8  0.480932  0.340115\n",
       "9  0.392118  0.845795"
      ]
     },
     "metadata": {},
     "output_type": "display_data"
    },
    {
     "name": "stdout",
     "output_type": "stream",
     "text": [
      "Dataframe is uploading.\n",
      "Processing dataset\n",
      "Dataset example_data was processed.\n"
     ]
    }
   ],
   "source": [
    "x = [\n",
    "    0.6964691855978616,\n",
    "    0.28613933495037946,\n",
    "    0.2268514535642031,\n",
    "    0.5513147690828912,\n",
    "    0.7194689697855631,\n",
    "    0.42310646012446096,\n",
    "    0.9807641983846155,\n",
    "    0.6848297385848633,\n",
    "    0.48093190148436094,\n",
    "    0.3921175181941505,\n",
    "]\n",
    "\n",
    "y = [\n",
    "    -0.8173739564129022,\n",
    "    0.8876561174050408,\n",
    "    0.921552660721474,\n",
    "    -0.3263338765412979,\n",
    "    -0.8325176123242133,\n",
    "    0.4006686354731812,\n",
    "    -0.16496626502368078,\n",
    "    -0.9607643657025954,\n",
    "    0.3401149876855609,\n",
    "    0.8457949914442409,\n",
    "]\n",
    "\n",
    "# Creating the dataframe using the above arrays\n",
    "df = pd.DataFrame({\"x\": x, \"y\": y})\n",
    "\n",
    "# View the dataset before uploading\n",
    "display(df)\n",
    "\n",
    "# Define the name of the dataset\n",
    "dataset_id = \"example_data\"\n",
    "\n",
    "# Intialise a Dataset object\n",
    "dataset = tl.Dataset(id=dataset_id)\n",
    "\n",
    "# Upload the dataset\n",
    "dataset.upload(df, verbose=True)"
   ]
  },
  {
   "cell_type": "markdown",
   "metadata": {},
   "source": [
    "### **View datasets**\n",
    "\n",
    "Once a dataset has been uploaded it can be easily accessed using built in twinLab functions. A list of all uploaded datasets can be produced, individual datasets can be viewed and summarised. This summary contains some basic statistics of the data.\n"
   ]
  },
  {
   "cell_type": "code",
   "execution_count": 5,
   "metadata": {},
   "outputs": [
    {
     "data": {
      "text/plain": [
       "['2DActive_Data',\n",
       " 'Excel-test',\n",
       " 'Falmouth-Mikey',\n",
       " 'New_Points',\n",
       " 'biscuits',\n",
       " 'eval_data',\n",
       " 'example_data',\n",
       " 'functional-data',\n",
       " 'functional-test-data',\n",
       " 'fusion',\n",
       " 'sampled-data',\n",
       " 'twinLab-logo']"
      ]
     },
     "execution_count": 5,
     "metadata": {},
     "output_type": "execute_result"
    }
   ],
   "source": [
    "# List all datasets on cloud\n",
    "tl.list_datasets()"
   ]
  },
  {
   "cell_type": "code",
   "execution_count": 6,
   "metadata": {},
   "outputs": [
    {
     "data": {
      "text/html": [
       "<div>\n",
       "<style scoped>\n",
       "    .dataframe tbody tr th:only-of-type {\n",
       "        vertical-align: middle;\n",
       "    }\n",
       "\n",
       "    .dataframe tbody tr th {\n",
       "        vertical-align: top;\n",
       "    }\n",
       "\n",
       "    .dataframe thead th {\n",
       "        text-align: right;\n",
       "    }\n",
       "</style>\n",
       "<table border=\"1\" class=\"dataframe\">\n",
       "  <thead>\n",
       "    <tr style=\"text-align: right;\">\n",
       "      <th></th>\n",
       "      <th>x</th>\n",
       "      <th>y</th>\n",
       "    </tr>\n",
       "  </thead>\n",
       "  <tbody>\n",
       "    <tr>\n",
       "      <th>0</th>\n",
       "      <td>0.696469</td>\n",
       "      <td>-0.817374</td>\n",
       "    </tr>\n",
       "    <tr>\n",
       "      <th>1</th>\n",
       "      <td>0.286139</td>\n",
       "      <td>0.887656</td>\n",
       "    </tr>\n",
       "    <tr>\n",
       "      <th>2</th>\n",
       "      <td>0.226851</td>\n",
       "      <td>0.921553</td>\n",
       "    </tr>\n",
       "    <tr>\n",
       "      <th>3</th>\n",
       "      <td>0.551315</td>\n",
       "      <td>-0.326334</td>\n",
       "    </tr>\n",
       "    <tr>\n",
       "      <th>4</th>\n",
       "      <td>0.719469</td>\n",
       "      <td>-0.832518</td>\n",
       "    </tr>\n",
       "    <tr>\n",
       "      <th>5</th>\n",
       "      <td>0.423106</td>\n",
       "      <td>0.400669</td>\n",
       "    </tr>\n",
       "    <tr>\n",
       "      <th>6</th>\n",
       "      <td>0.980764</td>\n",
       "      <td>-0.164966</td>\n",
       "    </tr>\n",
       "    <tr>\n",
       "      <th>7</th>\n",
       "      <td>0.684830</td>\n",
       "      <td>-0.960764</td>\n",
       "    </tr>\n",
       "    <tr>\n",
       "      <th>8</th>\n",
       "      <td>0.480932</td>\n",
       "      <td>0.340115</td>\n",
       "    </tr>\n",
       "    <tr>\n",
       "      <th>9</th>\n",
       "      <td>0.392118</td>\n",
       "      <td>0.845795</td>\n",
       "    </tr>\n",
       "  </tbody>\n",
       "</table>\n",
       "</div>"
      ],
      "text/plain": [
       "          x         y\n",
       "0  0.696469 -0.817374\n",
       "1  0.286139  0.887656\n",
       "2  0.226851  0.921553\n",
       "3  0.551315 -0.326334\n",
       "4  0.719469 -0.832518\n",
       "5  0.423106  0.400669\n",
       "6  0.980764 -0.164966\n",
       "7  0.684830 -0.960764\n",
       "8  0.480932  0.340115\n",
       "9  0.392118  0.845795"
      ]
     },
     "execution_count": 6,
     "metadata": {},
     "output_type": "execute_result"
    }
   ],
   "source": [
    "# View the dataset\n",
    "dataset.view()"
   ]
  },
  {
   "cell_type": "code",
   "execution_count": 7,
   "metadata": {},
   "outputs": [],
   "source": [
    "# Get a statistical summary of the dataset\n",
    "dataset.summarise()"
   ]
  },
  {
   "cell_type": "markdown",
   "metadata": {},
   "source": [
    "### **Train an emulator**\n",
    "\n",
    "The `Emulator` class is used to train and implement your surrogate models. As with datasets, an id is defined, this is what the model will be saved as in the cloud. When training a model the arguments are passed using a `TrainParams` object; `TrainParams` is a class that contains all the necessary parameters needed to train your model. To train the model we use the `Emulator.train` function, inputting the `TrainParams` object as an argument to this function.\n"
   ]
  },
  {
   "cell_type": "code",
   "execution_count": null,
   "metadata": {},
   "outputs": [],
   "source": [
    "# Initialise emulator\n",
    "emulator_id = \"example_emulator\"\n",
    "\n",
    "emulator = tl.Emulator(id=emulator_id)\n",
    "\n",
    "# Define the training parameters for your emulator\n",
    "params = tl.TrainParams(train_test_ratio=1.0)\n",
    "\n",
    "# Train the mulator using the train method\n",
    "emulator.train(dataset=dataset, inputs=[\"x\"], outputs=[\"y\"], params=params, verbose=True)"
   ]
  },
  {
   "cell_type": "markdown",
   "metadata": {},
   "source": [
    "### **View emulators**\n",
    "\n",
    "Just as with datasets all saved emulators can be listed, viewed and summarised.\n"
   ]
  },
  {
   "cell_type": "code",
   "execution_count": null,
   "metadata": {},
   "outputs": [],
   "source": [
    "# List emulators\n",
    "tl.list_emulators()"
   ]
  },
  {
   "cell_type": "code",
   "execution_count": null,
   "metadata": {},
   "outputs": [],
   "source": [
    "# View an emulator's parameters\n",
    "emulator.view()"
   ]
  },
  {
   "cell_type": "code",
   "execution_count": null,
   "metadata": {},
   "outputs": [],
   "source": [
    "# View the status of a campaign\n",
    "pprint(emulator.summarise())"
   ]
  },
  {
   "cell_type": "markdown",
   "metadata": {},
   "source": [
    "### **Prediction using the trained emulators**\n",
    "\n",
    "The surrogate model is now trained and saved to the cloud under the `emulator_id`. It can now be used to make predictions. First define a dataset of inputs for which you want to find outputs; ensure that this is a `pandas.DataFrame` object. Then call `Emulator.predict` with the keyword arguments being the evaluation dataset.\n"
   ]
  },
  {
   "cell_type": "code",
   "execution_count": null,
   "metadata": {},
   "outputs": [],
   "source": [
    "# Define the inputs for the dataset\n",
    "x_eval = np.linspace(0, 1, 128)\n",
    "\n",
    "# Convert to a dataframe\n",
    "df_eval = pd.DataFrame({\"x\": x_eval})\n",
    "display(df_eval)\n",
    "\n",
    "# Predict the results\n",
    "predictions = emulator.predict(df_eval)\n",
    "result_df = pd.concat([predictions[0], predictions[1]], axis=1)\n",
    "df_mean, df_stdev = result_df.iloc[:,0], result_df.iloc[:,1]\n",
    "df_mean, df_stdev = df_mean.values, df_stdev.values\n",
    "print(result_df.head())"
   ]
  },
  {
   "cell_type": "markdown",
   "metadata": {},
   "source": [
    "### **Viewing the results**\n",
    "\n",
    "`Emulator.predict` outputs mean values for each input and their standard deviation; this gives the abilty to nicely visualise the uncertainty in results.\n"
   ]
  },
  {
   "cell_type": "code",
   "execution_count": null,
   "metadata": {},
   "outputs": [],
   "source": [
    "# Plot parameters\n",
    "nsigs = [1, 2]\n",
    "color = \"blue\"\n",
    "alpha = 0.5\n",
    "plot_training_data = True\n",
    "plot_model_mean = True\n",
    "plot_model_bands = True\n",
    "\n",
    "# Plot results\n",
    "grid = df_eval[\"x\"]\n",
    "mean = df_mean\n",
    "err = df_stdev\n",
    "if plot_model_bands:\n",
    "    label = r\"Model prediction\"\n",
    "    plt.fill_between(grid, np.nan, np.nan, lw=0, color=color, alpha=alpha, label=label)\n",
    "    for isig, nsig in enumerate(nsigs):\n",
    "        plt.fill_between(\n",
    "            grid,\n",
    "            mean - nsig * err,\n",
    "            mean + nsig * err,\n",
    "            lw=0,\n",
    "            color=color,\n",
    "            alpha=alpha / (isig + 1),\n",
    "        )\n",
    "if plot_model_mean:\n",
    "    label = r\"Model prediction\" if not plot_model_bands else None\n",
    "    plt.plot(grid, mean, color=color, alpha=alpha, label=label)\n",
    "if plot_training_data:\n",
    "    plt.plot(df[\"x\"], df[\"y\"], \".\", color=\"black\", label=\"Training data\")\n",
    "plt.xlim((0.0, 1.0))\n",
    "plt.xlabel(r\"$X$\")\n",
    "plt.ylabel(r\"$y$\")\n",
    "plt.legend()\n",
    "plt.show()"
   ]
  },
  {
   "cell_type": "markdown",
   "metadata": {},
   "source": [
    "### **Sampling from an emulator**\n",
    "\n",
    "The `Emulator.sample` function can be used to retrieve a number of results from your model. It requires the inputs for which you want the values and how many outputs to calculate for each.\n"
   ]
  },
  {
   "cell_type": "code",
   "execution_count": null,
   "metadata": {},
   "outputs": [],
   "source": [
    "# Define the sample inputs\n",
    "sample_inputs = pd.DataFrame({\"x\": np.linspace(0, 1, 128)})\n",
    "\n",
    "# Define number of samples to calculate for each input\n",
    "num_samples = 100\n",
    "\n",
    "# Calculate the samples using twinLab\n",
    "sample_result = emulator.sample(sample_inputs, num_samples)\n",
    "\n",
    "# View the results in the form of a dataframe\n",
    "display(sample_result)"
   ]
  },
  {
   "cell_type": "markdown",
   "metadata": {},
   "source": [
    "### **Viewing the results**\n",
    "\n",
    "The results can be plotted over the top of the previous graph giving a nice visualisation of the sampled data, with the model's uncertainity.\n"
   ]
  },
  {
   "cell_type": "code",
   "execution_count": null,
   "metadata": {},
   "outputs": [],
   "source": [
    "# Plot parameters\n",
    "color_curve = \"blue\"\n",
    "alpha_curve = 0.10\n",
    "color_data = \"black\"\n",
    "plot_training_data = True\n",
    "plot_model_bands = False\n",
    "\n",
    "# Plot samples drawn from the model\n",
    "if plot_training_data:\n",
    "    plt.plot(df[\"x\"], df[\"y\"], \".\", color=color_data, label=\"Training data\")\n",
    "plt.plot(sample_inputs, sample_result[\"y\"], color=color_curve, alpha=alpha_curve)\n",
    "plt.xlim((0.0, 1.0))\n",
    "plt.xlabel(r\"$X$\")\n",
    "plt.ylabel(r\"$y$\")\n",
    "plt.legend()\n",
    "plt.show()"
   ]
  },
  {
   "cell_type": "markdown",
   "metadata": {},
   "source": [
    "### **Deleting datasets and emulators**\n",
    "\n",
    "To keep your cloud storage tidy you should delete your datasets and emulators when you are finished with them. `Emulator.delete` and `Dataset.delete` deletes the emulators and the datasets from the cloud storage respectively.\n"
   ]
  },
  {
   "cell_type": "code",
   "execution_count": null,
   "metadata": {},
   "outputs": [],
   "source": [
    "# Delete dataset\n",
    "dataset.delete()\n",
    "\n",
    "# Delete emulator\n",
    "emulator.delete()"
   ]
  }
 ],
 "metadata": {
  "kernelspec": {
   "display_name": "twinlab-demos-5eekO54e-py3.11",
   "language": "python",
   "name": "python3"
  },
  "language_info": {
   "codemirror_mode": {
    "name": "ipython",
    "version": 3
   },
   "file_extension": ".py",
   "mimetype": "text/x-python",
   "name": "python",
   "nbconvert_exporter": "python",
   "pygments_lexer": "ipython3",
   "version": "3.11.6"
  }
 },
 "nbformat": 4,
 "nbformat_minor": 2
}

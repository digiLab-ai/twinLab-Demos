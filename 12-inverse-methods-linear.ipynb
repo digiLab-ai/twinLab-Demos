{
 "cells": [
  {
   "cell_type": "markdown",
   "metadata": {},
   "source": [
    "# Solving Inverse Problems - Linear Example\n",
    "\n",
    "Consider a scenario where we have some observed output data, and our goal is to determine the underlying conditions (inputs) that led to these outcomes. \n",
    "\n",
    "This can be accomplished by performing experiments to obtain some sample inputs and ouputs, using twinlab to train a model on the data, and applying twinlab's solve_inverse_campaign function to predict the missing inputs."
   ]
  },
  {
   "cell_type": "markdown",
   "metadata": {},
   "source": [
    "First, import the required libraries."
   ]
  },
  {
   "cell_type": "code",
   "execution_count": null,
   "metadata": {},
   "outputs": [],
   "source": [
    "# Third-party imports\n",
    "import numpy as np\n",
    "import pandas as pd\n",
    "import matplotlib.pyplot as plt\n",
    "import matplotlib.patches as patches\n",
    "\n",
    "# Project imports\n",
    "import twinlab as tl"
   ]
  },
  {
   "cell_type": "markdown",
   "metadata": {},
   "source": [
    "## Establish Parameters and Create Datasets\n",
    "\n",
    "We want to establish data and model parameters, and also generate the noisy observed and experimental data."
   ]
  },
  {
   "cell_type": "code",
   "execution_count": null,
   "metadata": {},
   "outputs": [],
   "source": [
    "# Data and model parameters\n",
    "random_seed = 8675309\n",
    "err_sig = 2/3\n",
    "dataset_id = \"inverse-methods\"\n",
    "campaign_id = \"inverse-methods\""
   ]
  },
  {
   "cell_type": "code",
   "execution_count": null,
   "metadata": {},
   "outputs": [],
   "source": [
    "# Observed datapoint we would like to know the inputs for.\n",
    "obs = pd.DataFrame({'y': [10.25]})\n",
    "display(obs)\n",
    "obs_std = pd.DataFrame({'y': [err_sig]})\n",
    "display(obs_std)"
   ]
  },
  {
   "cell_type": "code",
   "execution_count": null,
   "metadata": {},
   "outputs": [],
   "source": [
    "# Seed the random-number generator\n",
    "np.random.seed(random_seed)\n",
    "\n",
    "# Create a linear function to generate experimental data\n",
    "def f(x):\n",
    "    return 2 * x + 3\n",
    "\n",
    "# Add Gaussian noise to the linear ouput\n",
    "def model(X):\n",
    "    return np.random.normal(f(X), err_sig)\n",
    "\n",
    "# Set up experimental data dataframe\n",
    "X = np.linspace(0,10,21)\n",
    "y = model(X)\n",
    "df_exp = pd.DataFrame({\"X\": X, \"y\": y})\n",
    "display(df_exp)\n",
    "\n",
    "# Send the experimental dataset to the cloud\n",
    "tl.upload_dataset(df_exp, dataset_id, verbose=True)"
   ]
  },
  {
   "cell_type": "code",
   "execution_count": null,
   "metadata": {},
   "outputs": [],
   "source": [
    "# Plotting routine\n",
    "def plot_data(X, y, obs=None, obs_std=None, inverse_df=None):\n",
    "    fig, ax = plt.subplots()\n",
    "    ax.scatter(X,y, color=\"cornflowerblue\", label=\"Experimental data\")\n",
    "    if (obs is not None) and (inverse_df is None):\n",
    "        y_mean = obs['y'][0]\n",
    "        ax.axhline(y=y_mean, color=\"tomato\", label=\"Observed Output\")\n",
    "        if obs_std is not None:\n",
    "            y_std = obs_std['y'][0]\n",
    "            ax.axhspan(ymin=y_mean-y_std, ymax=y_mean+y_std, color=\"tomato\", alpha=1/3, label=\"Observation error\")\n",
    "    elif (obs is not None) and (obs_std is not None) and (inverse_df is not None):\n",
    "        y_mean = obs['y'][0]\n",
    "        y_std = obs_std['y'][0]\n",
    "        X_mean = inverse_df[\"mean\"][0]\n",
    "        X_std = inverse_df[\"sd\"][0]\n",
    "        ax.scatter(X_mean, y_mean, color=\"tomato\", label=\"Observed data\")\n",
    "        ax.add_patch(patches.Ellipse((X_mean,y_mean), X_std*2, y_std*2, color=\"tomato\", alpha=1/3, label=\"Uncertainty\"))\n",
    "    ax.set_xlabel(\"X\")\n",
    "    ax.set_ylabel(\"y\")\n",
    "    plt.legend()\n",
    "    plt.show()\n",
    "    plt.close()\n",
    "\n",
    "# Plot the data\n",
    "plot_data(X=X, y=y, obs=obs, obs_std=obs_std)"
   ]
  },
  {
   "cell_type": "markdown",
   "metadata": {},
   "source": [
    "## Training the Model\n",
    "\n",
    "In this section, we'll be establishing the model training parameters, training our model on our experimental data, and producing the output of that training and prediction. \n",
    "\n",
    "\n",
    "First we need to establish what criteria our model training has. We do this via a JSON dictionary, which will include what we want to name our model, specify what the model inputs and outputs are, and fine-tune modelling parameters, such as the test_train_ratio."
   ]
  },
  {
   "cell_type": "code",
   "execution_count": null,
   "metadata": {},
   "outputs": [],
   "source": [
    "# Training parameters\n",
    "params = {\n",
    "    \"dataset_id\": dataset_id,\n",
    "    \"inputs\" : [\"X\"],\n",
    "    \"outputs\": [\"y\"],\n",
    "    \"test_train_ratio\": 0.8,\n",
    "}"
   ]
  },
  {
   "cell_type": "markdown",
   "metadata": {},
   "source": [
    "Next, we can actually train our model in the Cloud."
   ]
  },
  {
   "cell_type": "code",
   "execution_count": null,
   "metadata": {},
   "outputs": [],
   "source": [
    "# Train model \n",
    "tl.train_campaign(params, campaign_id, verbose=True)"
   ]
  },
  {
   "cell_type": "markdown",
   "metadata": {},
   "source": [
    "## Inverse Problem\n",
    "\n",
    "Solve the inverse problem to obtain information about the input value that created the observed output value."
   ]
  },
  {
   "cell_type": "code",
   "execution_count": null,
   "metadata": {},
   "outputs": [],
   "source": [
    "# Solve the inverse problem\n",
    "inverse_df = tl.solve_inverse_campaign(campaign_id, obs, obs_std, verbose=True, debug=True)"
   ]
  },
  {
   "cell_type": "code",
   "execution_count": null,
   "metadata": {},
   "outputs": [],
   "source": [
    "# Plot the data\n",
    "plot_data(X=X, y=y, obs=obs, obs_std=obs_std, inverse_df=inverse_df)"
   ]
  },
  {
   "cell_type": "markdown",
   "metadata": {},
   "source": [
    "## Validate Expected Result\n",
    "\n",
    "Since we fabricated the experimental data, we can manually validate our computed result. Note this is a sanity check and would not be possible with real-world data of an unknown model.\n",
    "\n",
    "$$\n",
    "\\begin{align}\n",
    "    y = 2X+3 \\;\\;\\;\\rightarrow \\;\\;\\; \\frac{y-3}{2} = X\n",
    "\\end{align}\n",
    "$$\n",
    "\n",
    "The difference between the computed inverse model mean and X in above equation (1) should be less than the determined standard deviation."
   ]
  },
  {
   "cell_type": "code",
   "execution_count": null,
   "metadata": {},
   "outputs": [],
   "source": [
    "inverse_mean = inverse_df[\"mean\"][0] \n",
    "inverse_std = inverse_df[\"sd\"][0]\n",
    "y_obs = obs[\"y\"][0]\n",
    "\n",
    "actual_X = (y_obs - 3) / 2\n",
    "difference = abs(actual_X - inverse_mean)  \n",
    "\n",
    "if difference <= inverse_std:\n",
    "    print(f\"Success! The difference between the inverse model mean X ({inverse_mean}) and the algebraically computed X ({actual_X}) is {round(difference, 5)} which is less than the inverse model standard deviation of {inverse_std}.\")\n",
    "else:\n",
    "    print(f\"Something went wrong! The difference between the inverse model mean X ({inverse_mean}) and the algebraically computed X ({actual_X}) is {round(difference, 5)} which is greater than the inverse model standard deviation {inverse_std}.\")"
   ]
  },
  {
   "cell_type": "markdown",
   "metadata": {},
   "source": [
    "## Finishing up \n",
    "\n",
    "This section covers how to delete your trained model and dataset from the cloud. Note that you don't need to delete your model and data to rerun a campaign or dataset of the same name--if, say, you rerun the functions above as-is, with no name changes, will simply overwrite your existing model and dataset on the Cloud."
   ]
  },
  {
   "cell_type": "code",
   "execution_count": null,
   "metadata": {},
   "outputs": [],
   "source": [
    "# Delete campaign and dataset if necessary\n",
    "tl.delete_campaign(campaign_id, verbose=True)\n",
    "tl.delete_dataset(dataset_id, verbose=True)\n",
    "\n",
    "# List remaining campaigns and datasets\n",
    "print(tl.list_campaigns())\n",
    "print(tl.list_datasets())"
   ]
  }
 ],
 "metadata": {
  "kernelspec": {
   "display_name": "Python 3 (ipykernel)",
   "language": "python",
   "name": "python3"
  },
  "language_info": {
   "codemirror_mode": {
    "name": "ipython",
    "version": 3
   },
   "file_extension": ".py",
   "mimetype": "text/x-python",
   "name": "python",
   "nbconvert_exporter": "python",
   "pygments_lexer": "ipython3",
   "version": "3.10.13"
  }
 },
 "nbformat": 4,
 "nbformat_minor": 4
}

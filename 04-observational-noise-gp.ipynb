{
 "cells": [
  {
   "cell_type": "markdown",
   "metadata": {},
   "source": [
    "## **Gaussian Process with Observation Noise**\n",
    "\n",
    "Modelling processes often involve some amount of noise or error which may arise from a multitude of sources. In the basic `Campaign` class with a default Gaussian Process estimator, the default assumption is that the noise is *homoskedastic* (constant noise everywhere), and this noise is approximated by the model during fitting.\n",
    "\n",
    "In some cases, one may have information about the level of measurement noise/error in the data (e.g. from the specifications of a sensor module used to collect the data), and thus may want to include this information in the model.\n",
    "\n",
    "This notebook will cover:\n",
    "- homoskedastic Gaussian Process\n",
    "- heteroskedastic Gaussian Process"
   ]
  },
  {
   "cell_type": "code",
   "execution_count": null,
   "metadata": {},
   "outputs": [],
   "source": [
    "# Third party imports\n",
    "import numpy as np\n",
    "import pandas as pd\n",
    "import matplotlib.pyplot as plt\n",
    "\n",
    "# twinLab import\n",
    "import twinlab as tl"
   ]
  },
  {
   "cell_type": "markdown",
   "metadata": {},
   "source": [
    "### **Problem Formulation**\n",
    "\n",
    "Here, we will formulate an exact function to do regression on, and subsequently add noise to the data."
   ]
  },
  {
   "cell_type": "code",
   "execution_count": null,
   "metadata": {},
   "outputs": [],
   "source": [
    "# The true function\n",
    "def oscillator(x):\n",
    "    return np.cos((x - 5) / 2) ** 2 * x * 2\n",
    "\n",
    "X = np.linspace(-15,15,100)[:,np.newaxis]\n",
    "y = oscillator(X) # Arrange outputs as feature columns\n",
    "\n",
    "n_data = 200\n",
    "X_data = np.random.uniform(-10, 10, size=n_data)\n",
    "y_data = oscillator(X_data)"
   ]
  },
  {
   "cell_type": "markdown",
   "metadata": {},
   "source": [
    "### **Homoskedastic GP Campaign**\n",
    "\n",
    "In `twinlab`, a homoskedastic GP model is exposed via the keyword argument `estimator_type=\"fixed_noise_gp\"` provided to the `estimator_kwargs` dictionary during initialisation.\n",
    "\n",
    "Additionally, a new `DataFrame` called `df_stdev` must be provided to `Campaign.fit()`, containing the standard deviation of the observation noise/error. This additional table must contain the same columns as the mean data. Since the noise model is homoskedastic, the noise must be the same value everywhere. "
   ]
  },
  {
   "cell_type": "code",
   "execution_count": null,
   "metadata": {},
   "outputs": [],
   "source": [
    "noise_scale = 1.0\n",
    "\n",
    "# add noise to data\n",
    "y_data_homoskedastic = y_data + np.random.normal(scale=noise_scale, size=X_data.shape)\n",
    "\n",
    "# convert to dataframe\n",
    "df = pd.DataFrame({'x': X_data, 'y': y_data_homoskedastic})\n",
    "\n",
    "# generate observation noise dataframe\n",
    "df_stdev = pd.DataFrame({'y': np.full_like(y_data_homoskedastic, noise_scale)})\n",
    "\n",
    "plt.plot(X,y)\n",
    "plt.scatter(X_data, y_data_homoskedastic)\n",
    "plt.show()"
   ]
  },
  {
   "cell_type": "code",
   "execution_count": null,
   "metadata": {},
   "outputs": [],
   "source": [
    "# Upload dataframe\n",
    "dataset_id = \"ObsNoise_Data\"\n",
    "\n",
    "tl.upload_dataset(df, dataset_id, verbose=True)\n",
    "\n",
    "# Upload std dataframe\n",
    "std_dataset_id = \"ObsNoise_STD_Data\"\n",
    "\n",
    "tl.upload_dataset(df_stdev, std_dataset_id, verbose=True)"
   ]
  },
  {
   "cell_type": "code",
   "execution_count": null,
   "metadata": {},
   "outputs": [],
   "source": [
    "# Initialise campaign\n",
    "campaign_id = \"ObsNoiseGP\"\n",
    "\n",
    "campaign_params = {\n",
    "    \"dataset_id\": dataset_id,\n",
    "    \"dataset_std_id\": std_dataset_id,\n",
    "    \"inputs\": ['x'],                            \n",
    "    \"outputs\": ['y'],\n",
    "    \"test_train_ratio\": 0.75,                   \n",
    "    \"estimator\": \"gaussian_process_regression\",\n",
    "    'estimator_kwargs': {\n",
    "        'estimator_type': 'fixed_noise_gp', # keyword string to request homoskedastic model\n",
    "    }\n",
    "}                                        \n",
    "\n",
    "# Start a new campaign and train a surrogate model\n",
    "tl.train_campaign(campaign_params, campaign_id, verbose=True)"
   ]
  },
  {
   "cell_type": "code",
   "execution_count": null,
   "metadata": {},
   "outputs": [],
   "source": [
    "# Plot inference results\n",
    "df_mean, df_stdev = tl.predict_campaign(pd.DataFrame(X, columns=[\"x\"]), campaign_id)\n",
    "y_mean, y_stdev = df_mean.values, df_stdev.values\n",
    "\n",
    "plt.fill_between(X.flatten(), \n",
    "                 (y_mean - 1.96*y_stdev).flatten(), \n",
    "                 (y_mean + 1.96*y_stdev).flatten(), \n",
    "                 color='k', alpha=0.1)\n",
    "\n",
    "plt.scatter(df['x'], df['y'], alpha=0.5, label='Training Data')\n",
    "plt.xlabel('x'); plt.ylabel('y')\n",
    "\n",
    "plt.plot(X, y, c='r', linewidth=2)\n",
    "plt.plot(X, y_mean, c='k', linewidth=2, linestyle='dashed')\n",
    "plt.show()"
   ]
  },
  {
   "cell_type": "markdown",
   "metadata": {},
   "source": [
    "### **Heteroskedastic GP Campaign**\n",
    "\n",
    "In `twinlab`, a heteroskedastic GP model is exposed via the keyword argument `estimator_type=\"heteroskedastic_gp\"` provided to the `estimator_kwargs` dictionary during initialisation.\n",
    "\n",
    "Additionally, a new `DataFrame` called `df_stdev` must be provided to `Campaign.fit()`, containing the standard deviation of the observation noise/error. This additional table must contain the same columns as the mean data."
   ]
  },
  {
   "cell_type": "code",
   "execution_count": null,
   "metadata": {},
   "outputs": [],
   "source": [
    "noise_scale = 0.5\n",
    "\n",
    "# add noise to data\n",
    "y_data_heteroskedastic = y_data + np.random.normal(scale=noise_scale, size=X_data.shape[0]) * X_data*2\n",
    "\n",
    "# convert to dataframe\n",
    "df = pd.DataFrame({'x': X_data, 'y': y_data_heteroskedastic})\n",
    "\n",
    "# generate observation noise dataframe\n",
    "df_stdev = pd.DataFrame({'y': X_data*2})\n",
    "\n",
    "plt.plot(X,y)\n",
    "plt.scatter(X_data, y_data_heteroskedastic)\n",
    "plt.show()"
   ]
  },
  {
   "cell_type": "code",
   "execution_count": null,
   "metadata": {},
   "outputs": [],
   "source": [
    "# Upload dataframe\n",
    "dataset_id = \"ObsNoise_Data\"\n",
    "\n",
    "tl.upload_dataset(df, dataset_id, verbose=True)\n",
    "\n",
    "# Upload std dataframe\n",
    "std_dataset_id = \"ObsNoise_STD_Data\"\n",
    "\n",
    "tl.upload_dataset(df_stdev, std_dataset_id, verbose=True)"
   ]
  },
  {
   "cell_type": "code",
   "execution_count": null,
   "metadata": {},
   "outputs": [],
   "source": [
    "# Initialise campaign\n",
    "campaign_id = \"ObsNoiseGP\"\n",
    "\n",
    "campaign_params = {\n",
    "    \"dataset_id\": dataset_id,\n",
    "    \"dataset_std_id\": std_dataset_id,\n",
    "    \"inputs\": ['x'],                            \n",
    "    \"outputs\": ['y'],\n",
    "    \"test_train_ratio\": 0.75,                   \n",
    "    \"estimator\": \"gaussian_process_regression\",\n",
    "    'estimator_kwargs': {\n",
    "        'estimator_type': 'heteroskedastic_gp', # keyword string to request homoskedastic model\n",
    "    }\n",
    "}                                        \n",
    "\n",
    "# Start a new campaign and train a surrogate model\n",
    "tl.train_campaign(campaign_params, campaign_id, verbose=True)"
   ]
  },
  {
   "cell_type": "code",
   "execution_count": null,
   "metadata": {},
   "outputs": [],
   "source": [
    "# Plot inference results\n",
    "df_mean, df_stdev = tl.predict_campaign(pd.DataFrame(X, columns=[\"x\"]), campaign_id)\n",
    "y_mean, y_stdev = df_mean.values, df_stdev.values\n",
    "\n",
    "plt.fill_between(X.flatten(), \n",
    "                 (y_mean - 1.96*y_stdev).flatten(), \n",
    "                 (y_mean + 1.96*y_stdev).flatten(), \n",
    "                 color='k', alpha=0.1)\n",
    "\n",
    "plt.scatter(df['x'], df['y'], alpha=0.5, label='Training Data')\n",
    "plt.xlabel('x'); plt.ylabel('y')\n",
    "\n",
    "plt.plot(X, y, c='r', linewidth=2)\n",
    "plt.plot(X, y_mean, c='k', linewidth=2, linestyle='dashed')\n",
    "plt.show()"
   ]
  },
  {
   "cell_type": "code",
   "execution_count": null,
   "metadata": {},
   "outputs": [],
   "source": [
    "# Delete campaigns and dataset\n",
    "tl.delete_campaign(campaign_id)\n",
    "\n",
    "tl.delete_dataset(dataset_id)"
   ]
  }
 ],
 "metadata": {
  "kernelspec": {
   "display_name": "twinlab-T1BT2Sfn-py3.9",
   "language": "python",
   "name": "python3"
  },
  "language_info": {
   "codemirror_mode": {
    "name": "ipython",
    "version": 3
   },
   "file_extension": ".py",
   "mimetype": "text/x-python",
   "name": "python",
   "nbconvert_exporter": "python",
   "pygments_lexer": "ipython3",
   "version": "3.11.5"
  }
 },
 "nbformat": 4,
 "nbformat_minor": 2
}

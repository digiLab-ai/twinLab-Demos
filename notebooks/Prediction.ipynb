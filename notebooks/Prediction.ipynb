{
 "cells": [
  {
   "cell_type": "markdown",
   "metadata": {},
   "source": [
    "# **Introduction**\n",
    "\n",
    "This guide follows the same format as [Quickstart](Quickstart.ipynb), but additionally explores the `Predict` functionality provided by twinLab. In this Jupyter Notebook we will:\n",
    "\n",
    "1. Load an example dataset from twinLab.\n",
    "2. Upload this to the twinLab-cloud for training your emulator.\n",
    "3. Use `Emulator.train` to create a surrogate model and train it on your dataset.\n",
    "4. Use the model to make predictions with `Emulator.predict`.\n",
    "5. Visualise the results and their uncertainty.\n",
    "6. Verify the model using `Emulator.sample`.\n"
   ]
  },
  {
   "cell_type": "markdown",
   "metadata": {},
   "source": [
    "To start with, we can import all the necessary packages we might need for this tutorial.\n"
   ]
  },
  {
   "cell_type": "code",
   "execution_count": null,
   "metadata": {},
   "outputs": [],
   "source": [
    "# Standard imports\n",
    "from pprint import pprint\n",
    "\n",
    "# Third-party imports\n",
    "import matplotlib.pyplot as plt\n",
    "import numpy as np\n",
    "import pandas as pd\n",
    "\n",
    "# Project imports\n",
    "import twinlab as tl"
   ]
  },
  {
   "cell_type": "markdown",
   "metadata": {},
   "source": [
    "### **Your twinLab information**\n",
    "\n",
    "We can use the `versions` function to verify the twinLab version being used when it is imported. \n"
   ]
  },
  {
   "cell_type": "code",
   "execution_count": 3,
   "metadata": {},
   "outputs": [
    {
     "data": {
      "text/plain": [
       "{'cloud': '2.5.0',\n",
       " 'modal': '0.6.0',\n",
       " 'library': '1.10.0',\n",
       " 'image': 'twinlab-aakash'}"
      ]
     },
     "execution_count": 3,
     "metadata": {},
     "output_type": "execute_result"
    }
   ],
   "source": [
    "tl.versions()"
   ]
  },
  {
   "cell_type": "markdown",
   "metadata": {},
   "source": [
    "And view your user information, including how many credits you have associated with your twinLab cloud account. \n"
   ]
  },
  {
   "cell_type": "code",
   "execution_count": 4,
   "metadata": {},
   "outputs": [
    {
     "data": {
      "text/plain": [
       "{'username': 'sai-aakash', 'credits': 0}"
      ]
     },
     "execution_count": 4,
     "metadata": {},
     "output_type": "execute_result"
    }
   ],
   "source": [
    "tl.user_information()"
   ]
  },
  {
   "cell_type": "markdown",
   "metadata": {},
   "source": [
    "### **Upload a dataset**\n",
    "\n",
    "twinLab provides some example datasets to work with. These can be downloaded using the `tl.load_example_dataset` function in twinLab. We will use the `quickstart` dataset that contains one input feature(`x`) and one output feature(`y`). The downloaded dataset is in the form of a `pandas.DataFrame`.\n",
    "\n",
    "Datasets must be data presented as a `pandas.DataFrame` object, or as a filepath which points to a csv file that can be parsed to a `pandas.DataFrame` object. **Both must be formatted with clearly labelled columns.** In twinlab, data is expected to be in column-feature format, meaning each row represents a single data sample, and each column represents a data feature.\n",
    "\n",
    "twinLab contains a `Dataset` class with attributes and methods to process, view, and summarise the dataset. Datasets must be created with a `dataset_id` which is used to access them. The dataset can be uploaded using the `upload` method.\n"
   ]
  },
  {
   "cell_type": "code",
   "execution_count": 5,
   "metadata": {},
   "outputs": [
    {
     "data": {
      "text/html": [
       "<div>\n",
       "<style scoped>\n",
       "    .dataframe tbody tr th:only-of-type {\n",
       "        vertical-align: middle;\n",
       "    }\n",
       "\n",
       "    .dataframe tbody tr th {\n",
       "        vertical-align: top;\n",
       "    }\n",
       "\n",
       "    .dataframe thead th {\n",
       "        text-align: right;\n",
       "    }\n",
       "</style>\n",
       "<table border=\"1\" class=\"dataframe\">\n",
       "  <thead>\n",
       "    <tr style=\"text-align: right;\">\n",
       "      <th></th>\n",
       "      <th>x</th>\n",
       "      <th>y</th>\n",
       "    </tr>\n",
       "  </thead>\n",
       "  <tbody>\n",
       "    <tr>\n",
       "      <th>0</th>\n",
       "      <td>0.696469</td>\n",
       "      <td>-0.817374</td>\n",
       "    </tr>\n",
       "    <tr>\n",
       "      <th>1</th>\n",
       "      <td>0.286139</td>\n",
       "      <td>0.887656</td>\n",
       "    </tr>\n",
       "    <tr>\n",
       "      <th>2</th>\n",
       "      <td>0.226851</td>\n",
       "      <td>0.921553</td>\n",
       "    </tr>\n",
       "    <tr>\n",
       "      <th>3</th>\n",
       "      <td>0.551315</td>\n",
       "      <td>-0.326334</td>\n",
       "    </tr>\n",
       "    <tr>\n",
       "      <th>4</th>\n",
       "      <td>0.719469</td>\n",
       "      <td>-0.832518</td>\n",
       "    </tr>\n",
       "    <tr>\n",
       "      <th>5</th>\n",
       "      <td>0.423106</td>\n",
       "      <td>0.400669</td>\n",
       "    </tr>\n",
       "    <tr>\n",
       "      <th>6</th>\n",
       "      <td>0.980764</td>\n",
       "      <td>-0.164966</td>\n",
       "    </tr>\n",
       "    <tr>\n",
       "      <th>7</th>\n",
       "      <td>0.684830</td>\n",
       "      <td>-0.960764</td>\n",
       "    </tr>\n",
       "    <tr>\n",
       "      <th>8</th>\n",
       "      <td>0.480932</td>\n",
       "      <td>0.340115</td>\n",
       "    </tr>\n",
       "    <tr>\n",
       "      <th>9</th>\n",
       "      <td>0.392118</td>\n",
       "      <td>0.845795</td>\n",
       "    </tr>\n",
       "  </tbody>\n",
       "</table>\n",
       "</div>"
      ],
      "text/plain": [
       "          x         y\n",
       "0  0.696469 -0.817374\n",
       "1  0.286139  0.887656\n",
       "2  0.226851  0.921553\n",
       "3  0.551315 -0.326334\n",
       "4  0.719469 -0.832518\n",
       "5  0.423106  0.400669\n",
       "6  0.980764 -0.164966\n",
       "7  0.684830 -0.960764\n",
       "8  0.480932  0.340115\n",
       "9  0.392118  0.845795"
      ]
     },
     "metadata": {},
     "output_type": "display_data"
    },
    {
     "name": "stderr",
     "output_type": "stream",
     "text": [
      "/Users/saiaakashramesh/twinLab/client/python/twinlab/utils.py:90: FutureWarning: DataFrame.applymap has been deprecated. Use DataFrame.map instead.\n",
      "  if not df.applymap(lambda x: isinstance(x, (int, float))).all().all():\n"
     ]
    }
   ],
   "source": [
    "# Download the example dataset\n",
    "df = tl.load_example_dataset(\"quickstart\")\n",
    "\n",
    "# Check the dataframe before uploading\n",
    "display(df)\n",
    "\n",
    "# Intialise a Dataset object and give it a name\n",
    "dataset = tl.Dataset(\"quickstart\")\n",
    "\n",
    "# Upload the dataset, passing in the dataframe\n",
    "dataset.upload(df)"
   ]
  },
  {
   "cell_type": "markdown",
   "metadata": {},
   "source": [
    "### **View datasets**\n",
    "\n",
    "Once a dataset has been uploaded it can be easily accessed using built-in twinLab functions. A list of all uploaded datasets for your twinLab account can be viewed with the `tl.list_datasets` function.\n"
   ]
  },
  {
   "cell_type": "code",
   "execution_count": 6,
   "metadata": {},
   "outputs": [
    {
     "data": {
      "text/plain": [
       "['2D_Data',\n",
       " 'BasicGP_Data',\n",
       " 'Biscuits_Data',\n",
       " 'FunctionalGP_Data',\n",
       " 'ObsNoise_Data',\n",
       " 'ObsNoise_STD_Data',\n",
       " 'Training_Data',\n",
       " 'Tritium_Desorption_Data',\n",
       " 'basic',\n",
       " 'biscuits_dataset',\n",
       " 'example_data',\n",
       " 'fidelity_dataset',\n",
       " 'inverse-methods',\n",
       " 'inverse-methods-dataset',\n",
       " 'my_dataset',\n",
       " 'new_points',\n",
       " 'quickstart',\n",
       " 'sample_dataset',\n",
       " 'test',\n",
       " 'test_dataset',\n",
       " 'tritium-desorption',\n",
       " 'tritium_desorption']"
      ]
     },
     "execution_count": 6,
     "metadata": {},
     "output_type": "execute_result"
    }
   ],
   "source": [
    "# List all datasets on cloud\n",
    "tl.list_datasets()"
   ]
  },
  {
   "cell_type": "markdown",
   "metadata": {},
   "source": [
    "Individual datasets can be viewed using the `Dataset.view()` function in twinLab. This function is a method of the `Dataset` object, and can only be used along with an instance of a `Dataset` object.\n"
   ]
  },
  {
   "cell_type": "code",
   "execution_count": 7,
   "metadata": {},
   "outputs": [
    {
     "data": {
      "text/html": [
       "<div>\n",
       "<style scoped>\n",
       "    .dataframe tbody tr th:only-of-type {\n",
       "        vertical-align: middle;\n",
       "    }\n",
       "\n",
       "    .dataframe tbody tr th {\n",
       "        vertical-align: top;\n",
       "    }\n",
       "\n",
       "    .dataframe thead th {\n",
       "        text-align: right;\n",
       "    }\n",
       "</style>\n",
       "<table border=\"1\" class=\"dataframe\">\n",
       "  <thead>\n",
       "    <tr style=\"text-align: right;\">\n",
       "      <th></th>\n",
       "      <th>x</th>\n",
       "      <th>y</th>\n",
       "    </tr>\n",
       "  </thead>\n",
       "  <tbody>\n",
       "    <tr>\n",
       "      <th>0</th>\n",
       "      <td>0.696469</td>\n",
       "      <td>-0.817374</td>\n",
       "    </tr>\n",
       "    <tr>\n",
       "      <th>1</th>\n",
       "      <td>0.286139</td>\n",
       "      <td>0.887656</td>\n",
       "    </tr>\n",
       "    <tr>\n",
       "      <th>2</th>\n",
       "      <td>0.226851</td>\n",
       "      <td>0.921553</td>\n",
       "    </tr>\n",
       "    <tr>\n",
       "      <th>3</th>\n",
       "      <td>0.551315</td>\n",
       "      <td>-0.326334</td>\n",
       "    </tr>\n",
       "    <tr>\n",
       "      <th>4</th>\n",
       "      <td>0.719469</td>\n",
       "      <td>-0.832518</td>\n",
       "    </tr>\n",
       "    <tr>\n",
       "      <th>5</th>\n",
       "      <td>0.423106</td>\n",
       "      <td>0.400669</td>\n",
       "    </tr>\n",
       "    <tr>\n",
       "      <th>6</th>\n",
       "      <td>0.980764</td>\n",
       "      <td>-0.164966</td>\n",
       "    </tr>\n",
       "    <tr>\n",
       "      <th>7</th>\n",
       "      <td>0.684830</td>\n",
       "      <td>-0.960764</td>\n",
       "    </tr>\n",
       "    <tr>\n",
       "      <th>8</th>\n",
       "      <td>0.480932</td>\n",
       "      <td>0.340115</td>\n",
       "    </tr>\n",
       "    <tr>\n",
       "      <th>9</th>\n",
       "      <td>0.392118</td>\n",
       "      <td>0.845795</td>\n",
       "    </tr>\n",
       "  </tbody>\n",
       "</table>\n",
       "</div>"
      ],
      "text/plain": [
       "          x         y\n",
       "0  0.696469 -0.817374\n",
       "1  0.286139  0.887656\n",
       "2  0.226851  0.921553\n",
       "3  0.551315 -0.326334\n",
       "4  0.719469 -0.832518\n",
       "5  0.423106  0.400669\n",
       "6  0.980764 -0.164966\n",
       "7  0.684830 -0.960764\n",
       "8  0.480932  0.340115\n",
       "9  0.392118  0.845795"
      ]
     },
     "execution_count": 7,
     "metadata": {},
     "output_type": "execute_result"
    }
   ],
   "source": [
    "# View the dataset\n",
    "dataset.view()"
   ]
  },
  {
   "cell_type": "markdown",
   "metadata": {},
   "source": [
    "Individual datasets can also be summarised with the `Dataset.summarise` function. The output of this function is a `pandas.DataFrame` containing some fundamental statistics of your dataset like the number of rows, the mean and standard deviation of every column, the minimum and maximum of each column, and so on.\n",
    "\n",
    "This can be useful to get an overall idea of the dataset including it's ranges and spread (variance). The statistics are provided column-wise to make the summary easier to understand.\n"
   ]
  },
  {
   "cell_type": "code",
   "execution_count": 8,
   "metadata": {},
   "outputs": [
    {
     "data": {
      "text/html": [
       "<div>\n",
       "<style scoped>\n",
       "    .dataframe tbody tr th:only-of-type {\n",
       "        vertical-align: middle;\n",
       "    }\n",
       "\n",
       "    .dataframe tbody tr th {\n",
       "        vertical-align: top;\n",
       "    }\n",
       "\n",
       "    .dataframe thead th {\n",
       "        text-align: right;\n",
       "    }\n",
       "</style>\n",
       "<table border=\"1\" class=\"dataframe\">\n",
       "  <thead>\n",
       "    <tr style=\"text-align: right;\">\n",
       "      <th></th>\n",
       "      <th>x</th>\n",
       "      <th>y</th>\n",
       "    </tr>\n",
       "  </thead>\n",
       "  <tbody>\n",
       "    <tr>\n",
       "      <th>count</th>\n",
       "      <td>10.000000</td>\n",
       "      <td>10.000000</td>\n",
       "    </tr>\n",
       "    <tr>\n",
       "      <th>mean</th>\n",
       "      <td>0.544199</td>\n",
       "      <td>0.029383</td>\n",
       "    </tr>\n",
       "    <tr>\n",
       "      <th>std</th>\n",
       "      <td>0.229352</td>\n",
       "      <td>0.748191</td>\n",
       "    </tr>\n",
       "    <tr>\n",
       "      <th>min</th>\n",
       "      <td>0.226851</td>\n",
       "      <td>-0.960764</td>\n",
       "    </tr>\n",
       "    <tr>\n",
       "      <th>25%</th>\n",
       "      <td>0.399865</td>\n",
       "      <td>-0.694614</td>\n",
       "    </tr>\n",
       "    <tr>\n",
       "      <th>50%</th>\n",
       "      <td>0.516123</td>\n",
       "      <td>0.087574</td>\n",
       "    </tr>\n",
       "    <tr>\n",
       "      <th>75%</th>\n",
       "      <td>0.693559</td>\n",
       "      <td>0.734513</td>\n",
       "    </tr>\n",
       "    <tr>\n",
       "      <th>max</th>\n",
       "      <td>0.980764</td>\n",
       "      <td>0.921553</td>\n",
       "    </tr>\n",
       "  </tbody>\n",
       "</table>\n",
       "</div>"
      ],
      "text/plain": [
       "               x          y\n",
       "count  10.000000  10.000000\n",
       "mean    0.544199   0.029383\n",
       "std     0.229352   0.748191\n",
       "min     0.226851  -0.960764\n",
       "25%     0.399865  -0.694614\n",
       "50%     0.516123   0.087574\n",
       "75%     0.693559   0.734513\n",
       "max     0.980764   0.921553"
      ]
     },
     "execution_count": 8,
     "metadata": {},
     "output_type": "execute_result"
    }
   ],
   "source": [
    "# Get a statistical summary of the dataset\n",
    "dataset.summarise()"
   ]
  },
  {
   "cell_type": "markdown",
   "metadata": {},
   "source": [
    "### **Train an emulator**\n",
    "\n",
    "The `Emulator` class is used to train and implement your surrogate models. As with datasets, an `id` is defined. This is what the model will be saved as in the twinLab cloud.\n",
    "\n",
    "When training a model the arguments are passed using a `TrainParams` object; `TrainParams` is a class that contains all the necessary parameters needed to train your model.\n",
    "\n",
    "To train the model we use the `Emulator.train` function, inputting the `TrainParams` object as an argument to this function. In this example, we will just define the `train_test_ratio` parameter which specifies the amount of data that has to be allocated to emulator training from your entire dataset.\n",
    "\n",
    "The `TrainParams` object has a lot of other parameters to customise your training including dimensionality reduction, type of estimator, automatic model selection and many others. Please refer to [twinLab-docs](https://twinlab.ai/python/reference/parameters.html#api-parameters) for more information.\n"
   ]
  },
  {
   "cell_type": "code",
   "execution_count": 9,
   "metadata": {},
   "outputs": [
    {
     "name": "stdout",
     "output_type": "stream",
     "text": [
      "Model example_emulator has begun training.\n",
      "Emulator example_emulator with process ID train-shelled-unusual-medicine is training.\n",
      "Training status: Your job is currently being uploaded to twinlab-cloud.\n",
      "Training status: Your job is currently being uploaded to twinlab-cloud.\n",
      "Training status: Your job is currently being uploaded to twinlab-cloud.\n",
      "Training status: Your job is currently being uploaded to twinlab-cloud.\n",
      "Training status: Your job is currently being processed.\n",
      "Training status: Your job is currently being processed.\n",
      "Training status: Your job is currently being processed.\n",
      "Training status: Your job is currently being processed.\n",
      "Training status: Your job has finished and is on its way back to you.\n",
      "Training of emulator example_emulator with process ID train-shelled-unusual-medicine is complete!\n"
     ]
    }
   ],
   "source": [
    "# Initialise emulator\n",
    "emulator_id = \"example_emulator\"\n",
    "\n",
    "emulator = tl.Emulator(id=emulator_id)\n",
    "\n",
    "# Define the training parameters for your emulator\n",
    "params = tl.TrainParams(train_test_ratio=1.0)\n",
    "\n",
    "# Train the mulator using the train method\n",
    "emulator.train(\n",
    "    dataset=dataset, inputs=[\"x\"], outputs=[\"y\"], params=params, verbose=True\n",
    ")"
   ]
  },
  {
   "cell_type": "markdown",
   "metadata": {},
   "source": [
    "### **View emulators**\n",
    "\n",
    "Just as with datasets, all saved emulators can be listed using the `tl.list_emulators` function.\n"
   ]
  },
  {
   "cell_type": "code",
   "execution_count": 10,
   "metadata": {},
   "outputs": [
    {
     "data": {
      "text/plain": [
       "['BasicGP',\n",
       " 'Biscuits',\n",
       " 'FunctionalGP',\n",
       " 'HeteroskedasticGP',\n",
       " 'HomoskedasticGP',\n",
       " 'Learning_GP',\n",
       " 'LinearGP',\n",
       " 'SimpleGP',\n",
       " 'TritiumDesorptionGP',\n",
       " 'TritiumDesorptionGP_new',\n",
       " 'async_pred_campaign',\n",
       " 'basic_emulator',\n",
       " 'biscuits',\n",
       " 'emulator_id',\n",
       " 'example_emulator',\n",
       " 'gardening-model',\n",
       " 'inverse-methods',\n",
       " 'inverse-methods-model',\n",
       " 'multi_fidelity_model',\n",
       " 'test',\n",
       " 'test_model',\n",
       " 'tritium-desorption',\n",
       " 'tritium_desorption']"
      ]
     },
     "execution_count": 10,
     "metadata": {},
     "output_type": "execute_result"
    }
   ],
   "source": [
    "# List emulators\n",
    "tl.list_emulators()"
   ]
  },
  {
   "cell_type": "markdown",
   "metadata": {},
   "source": [
    "We can view all the arguments required to create an emulator and the values specified for each of these using the `Emulator.view()` function. This is a method of the `Emulator` class and can be used only along with an instance of the `Emulator` object.\n",
    "\n",
    "The output is a dictionary with all the arguments and their corresponding values as initialised by the user (or the default values).\n"
   ]
  },
  {
   "cell_type": "code",
   "execution_count": 11,
   "metadata": {},
   "outputs": [
    {
     "data": {
      "text/plain": [
       "{'model_id': 'example_emulator',\n",
       " 'estimator': 'gaussian_process_regression',\n",
       " 'estimator_kwargs': {'detrend': False,\n",
       "  'estimator_type': 'single_task_gp',\n",
       "  'device': 'cpu'},\n",
       " 'decompose_inputs': False,\n",
       " 'decompose_outputs': False,\n",
       " 'train_test_ratio': 1.0,\n",
       " 'model_selection': False,\n",
       " 'model_selection_kwargs': {'evaluation_metric': 'MSLL',\n",
       "  'val_ratio': 0.2,\n",
       "  'base_kernels': 'restricted',\n",
       "  'depth': 1,\n",
       "  'resource_per_trail': {'cpu': 1, 'gpu': 0}},\n",
       " 'inputs': ['x'],\n",
       " 'outputs': ['y'],\n",
       " 'dataset_id': 'quickstart',\n",
       " 'modal_handle': 'fc-01HYJ8J7MPRT1M2GP5ZWY9BBPP'}"
      ]
     },
     "execution_count": 11,
     "metadata": {},
     "output_type": "execute_result"
    }
   ],
   "source": [
    "# View an emulator's parameters\n",
    "emulator.view()"
   ]
  },
  {
   "cell_type": "markdown",
   "metadata": {},
   "source": [
    "We can also summarise the details of your emulator using the `Emulator.summarise()` function. This function will give you all the information you need to know about the emulator you've trained, including the learnt parameters of the kernel function, mean function, noise variances, and much more useful information about your emulator.\n",
    "\n",
    "To get a very detailed summary of your emulator, set the `detailed` parameter to `True`.\n"
   ]
  },
  {
   "cell_type": "code",
   "execution_count": 12,
   "metadata": {},
   "outputs": [
    {
     "name": "stdout",
     "output_type": "stream",
     "text": [
      "{'estimator_diagnostics': {'covar_module': 'ScaleKernel(\\n'\n",
      "                                           '  (base_kernel): MaternKernel(\\n'\n",
      "                                           '    (lengthscale_prior): '\n",
      "                                           'GammaPrior()\\n'\n",
      "                                           '    (raw_lengthscale_constraint): '\n",
      "                                           'Positive()\\n'\n",
      "                                           '  )\\n'\n",
      "                                           '  (outputscale_prior): '\n",
      "                                           'GammaPrior()\\n'\n",
      "                                           '  (raw_outputscale_constraint): '\n",
      "                                           'Positive()\\n'\n",
      "                                           ')',\n",
      "                           'covar_module_parameters': {'covar_module.base_kernel.lengthscale_prior.concentration': 3.0,\n",
      "                                                       'covar_module.base_kernel.lengthscale_prior.rate': 6.0,\n",
      "                                                       'covar_module.base_kernel.raw_lengthscale': [[-0.6401321833497488]],\n",
      "                                                       'covar_module.base_kernel.raw_lengthscale_constraint.lower_bound': 0.0,\n",
      "                                                       'covar_module.base_kernel.raw_lengthscale_constraint.upper_bound': 'inf',\n",
      "                                                       'covar_module.outputscale_prior.concentration': 2.0,\n",
      "                                                       'covar_module.outputscale_prior.rate': 0.15000000596046448,\n",
      "                                                       'covar_module.raw_outputscale': 1.51239668562329,\n",
      "                                                       'covar_module.raw_outputscale_constraint.lower_bound': 0.0,\n",
      "                                                       'covar_module.raw_outputscale_constraint.upper_bound': 'inf'},\n",
      "                           'input_transform_parameters': {'input_transform._coefficient': [[0.7539127448204125]],\n",
      "                                                          'input_transform._offset': [[0.2268514535642031]]},\n",
      "                           'learned_hyperparameters': {'covar_module.base_kernel.original_lengthscale': [[0.4234508763532754]],\n",
      "                                                       'covar_module.original_outputscale': 1.711559921925403,\n",
      "                                                       'likelihood.noise_covar.original_noise': [0.030319220370676442],\n",
      "                                                       'mean_module.original_constant': 0.2106230996936552},\n",
      "                           'likelihood_parameters': {'likelihood.noise_covar.noise_prior.concentration': 1.100000023841858,\n",
      "                                                     'likelihood.noise_covar.noise_prior.rate': 0.05000000074505806,\n",
      "                                                     'likelihood.noise_covar.raw_noise': [0.030319220370676442],\n",
      "                                                     'likelihood.noise_covar.raw_noise_constraint.lower_bound': 9.999999747378752e-05,\n",
      "                                                     'likelihood.noise_covar.raw_noise_constraint.upper_bound': 'inf'},\n",
      "                           'mean_module': 'ConstantMean()',\n",
      "                           'mean_module_parameters': {'mean_module.raw_constant': 0.2106230996936552},\n",
      "                           'outcome_transform_parameters': {'outcome_transform._is_trained': True,\n",
      "                                                            'outcome_transform._stdvs_sq': [[0.5597892584737093]],\n",
      "                                                            'outcome_transform.means': [[0.029383131672480856]],\n",
      "                                                            'outcome_transform.stdvs': [[0.7481906564998719]]}},\n",
      " 'transform': {'input': [], 'output': []}}\n"
     ]
    }
   ],
   "source": [
    "# View the status of a campaign\n",
    "pprint(emulator.summarise())"
   ]
  },
  {
   "cell_type": "markdown",
   "metadata": {},
   "source": [
    "### **Prediction using the trained emulators**\n",
    "\n",
    "The surrogate model is now trained and saved to the twinLab cloud under the `emulator_id`. It can now be used to make predictions.\n",
    "\n",
    "First define a dataset of inputs for which you want to find outputs; ensure that this is a `pandas.DataFrame` object. Then call `Emulator.predict` with the keyword arguments being the evaluation dataset. The function returns a tuple of two `pandas.DataFrame` objects where one of them gives the mean predictions of the emulator and the second dataframe is the standard deviation for each of the predictions.\n"
   ]
  },
  {
   "cell_type": "code",
   "execution_count": 13,
   "metadata": {},
   "outputs": [
    {
     "data": {
      "text/html": [
       "<div>\n",
       "<style scoped>\n",
       "    .dataframe tbody tr th:only-of-type {\n",
       "        vertical-align: middle;\n",
       "    }\n",
       "\n",
       "    .dataframe tbody tr th {\n",
       "        vertical-align: top;\n",
       "    }\n",
       "\n",
       "    .dataframe thead th {\n",
       "        text-align: right;\n",
       "    }\n",
       "</style>\n",
       "<table border=\"1\" class=\"dataframe\">\n",
       "  <thead>\n",
       "    <tr style=\"text-align: right;\">\n",
       "      <th></th>\n",
       "      <th>x</th>\n",
       "    </tr>\n",
       "  </thead>\n",
       "  <tbody>\n",
       "    <tr>\n",
       "      <th>0</th>\n",
       "      <td>0.000000</td>\n",
       "    </tr>\n",
       "    <tr>\n",
       "      <th>1</th>\n",
       "      <td>0.007874</td>\n",
       "    </tr>\n",
       "    <tr>\n",
       "      <th>2</th>\n",
       "      <td>0.015748</td>\n",
       "    </tr>\n",
       "    <tr>\n",
       "      <th>3</th>\n",
       "      <td>0.023622</td>\n",
       "    </tr>\n",
       "    <tr>\n",
       "      <th>4</th>\n",
       "      <td>0.031496</td>\n",
       "    </tr>\n",
       "    <tr>\n",
       "      <th>...</th>\n",
       "      <td>...</td>\n",
       "    </tr>\n",
       "    <tr>\n",
       "      <th>123</th>\n",
       "      <td>0.968504</td>\n",
       "    </tr>\n",
       "    <tr>\n",
       "      <th>124</th>\n",
       "      <td>0.976378</td>\n",
       "    </tr>\n",
       "    <tr>\n",
       "      <th>125</th>\n",
       "      <td>0.984252</td>\n",
       "    </tr>\n",
       "    <tr>\n",
       "      <th>126</th>\n",
       "      <td>0.992126</td>\n",
       "    </tr>\n",
       "    <tr>\n",
       "      <th>127</th>\n",
       "      <td>1.000000</td>\n",
       "    </tr>\n",
       "  </tbody>\n",
       "</table>\n",
       "<p>128 rows × 1 columns</p>\n",
       "</div>"
      ],
      "text/plain": [
       "            x\n",
       "0    0.000000\n",
       "1    0.007874\n",
       "2    0.015748\n",
       "3    0.023622\n",
       "4    0.031496\n",
       "..        ...\n",
       "123  0.968504\n",
       "124  0.976378\n",
       "125  0.984252\n",
       "126  0.992126\n",
       "127  1.000000\n",
       "\n",
       "[128 rows x 1 columns]"
      ]
     },
     "metadata": {},
     "output_type": "display_data"
    },
    {
     "name": "stdout",
     "output_type": "stream",
     "text": [
      "          y         y\n",
      "0  0.618116  0.653885\n",
      "1  0.629521  0.638148\n",
      "2  0.641034  0.621944\n",
      "3  0.652643  0.605284\n",
      "4  0.664334  0.588181\n"
     ]
    }
   ],
   "source": [
    "# Define the inputs for the dataset\n",
    "x_eval = np.linspace(0, 1, 128)\n",
    "\n",
    "# Convert to a dataframe\n",
    "df_eval = pd.DataFrame({\"x\": x_eval})\n",
    "display(df_eval)\n",
    "\n",
    "# Predict the results\n",
    "predictions = emulator.predict(df_eval)\n",
    "\n",
    "# Convert the result tuple to mean and standard deviation dataframes\n",
    "result = pd.concat([predictions[0], predictions[1]], axis=1)\n",
    "df_mean, df_stdev = result.iloc[:, 0], result.iloc[:, 1]\n",
    "df_mean, df_stdev = df_mean.values, df_stdev.values\n",
    "print(result.head())"
   ]
  },
  {
   "cell_type": "markdown",
   "metadata": {},
   "source": [
    "### **Viewing the results**\n",
    "\n",
    "`Emulator.predict` outputs mean values for each input and their standard deviation; this gives the abilty to nicely visualise the uncertainty in results. We can see that the uncertainty is low in the regions close to the datapoints, and high in the regions away from datapoints.\n",
    "\n",
    "This is because the emulator has been trained on these datapoints, and it is more certain about the predictions made in this parameter space. Regions further from the datapoints will have a higher uncertainty as the emulator is making more inferences about what is happening.\n",
    "\n",
    "This uncertainty quantification is very crucial in safety-critical applications, and this also provides a sense of trustworthiness to the user when using these surrogate models to make informed decisions, since we can visualise which regions the emulator is more confident and which regions it is less so.\n",
    "\n",
    "We can use the `Emulator.plot` functionality to plot the mean prediction and the uncertainty band of the emulator.\n"
   ]
  },
  {
   "cell_type": "code",
   "execution_count": 14,
   "metadata": {},
   "outputs": [
    {
     "data": {
      "image/png": "[encoded data removed]",
      "text/plain": [
       "<Figure size 640x480 with 1 Axes>"
      ]
     },
     "metadata": {},
     "output_type": "display_data"
    }
   ],
   "source": [
    "plt = emulator.plot(x_axis=\"x\", y_axis=\"y\", label=\"Emulator predictions\", x_lim=(0, 1))\n",
    "plt.scatter(df[\"x\"], df[\"y\"], color=\"r\", label=\"Training data\")\n",
    "plt.legend()\n",
    "plt.show()"
   ]
  },
  {
   "cell_type": "markdown",
   "metadata": {},
   "source": [
    "The `Emulator.plot` function internally uses the `Emulator.predict` function. There are a few arguments that can be passed to the `Emulator.predict` function, which can be done using the `tl.PredictParams` object. Refer to [twinLab Parameter Docs](https://twinlab.ai/python/reference/parameters.html#api-parameters) for more information on the parameter objects.\n",
    "\n",
    "This object contains a parameter called the `observation_noise`. This parameter accounts for the noise in your observations while making predictions. This is by default set to `True` and the plot above shows predictions that account for this noise in the observations.\n",
    "\n",
    "We can see the uncertainty band to be much thicker even in the regions close to data points. This can be set to `False` and we can plot the predictions again.\n"
   ]
  },
  {
   "cell_type": "code",
   "execution_count": 15,
   "metadata": {},
   "outputs": [
    {
     "data": {
      "image/png": "[encoded data removed]",
      "text/plain": [
       "<Figure size 640x480 with 1 Axes>"
      ]
     },
     "metadata": {},
     "output_type": "display_data"
    }
   ],
   "source": [
    "# Set the parameters for prediction\n",
    "params = tl.PredictParams(observation_noise=False)\n",
    "\n",
    "# Plot the emulator predictions\n",
    "plt = emulator.plot(\n",
    "    x_axis=\"x\", y_axis=\"y\", label=\"Emulator predictions\", params=params, x_lim=(0, 1)\n",
    ")\n",
    "plt.scatter(df[\"x\"], df[\"y\"], color=\"r\", label=\"Training data\")\n",
    "plt.legend()\n",
    "plt.show()"
   ]
  },
  {
   "cell_type": "markdown",
   "metadata": {},
   "source": [
    "We can see that the uncertainty band in the middle of the plot has got much thinner, because the emulator now does not account for the noise in the observations and is confident about the predictions in these regions.\n"
   ]
  },
  {
   "cell_type": "markdown",
   "metadata": {},
   "source": [
    "### **Sampling from an emulator**\n",
    "\n",
    "The `Emulator.sample` function can be used to retrieve a number of samples from your emulator. It requires the inputs for which you want the values and how many samples to calculate for each.\n"
   ]
  },
  {
   "cell_type": "code",
   "execution_count": 16,
   "metadata": {},
   "outputs": [
    {
     "data": {
      "text/html": [
       "<div>\n",
       "<style scoped>\n",
       "    .dataframe tbody tr th:only-of-type {\n",
       "        vertical-align: middle;\n",
       "    }\n",
       "\n",
       "    .dataframe tbody tr th {\n",
       "        vertical-align: top;\n",
       "    }\n",
       "\n",
       "    .dataframe thead tr th {\n",
       "        text-align: left;\n",
       "    }\n",
       "</style>\n",
       "<table border=\"1\" class=\"dataframe\">\n",
       "  <thead>\n",
       "    <tr>\n",
       "      <th></th>\n",
       "      <th colspan=\"21\" halign=\"left\">y</th>\n",
       "    </tr>\n",
       "    <tr>\n",
       "      <th></th>\n",
       "      <th>0</th>\n",
       "      <th>1</th>\n",
       "      <th>2</th>\n",
       "      <th>3</th>\n",
       "      <th>4</th>\n",
       "      <th>5</th>\n",
       "      <th>6</th>\n",
       "      <th>7</th>\n",
       "      <th>8</th>\n",
       "      <th>9</th>\n",
       "      <th>...</th>\n",
       "      <th>90</th>\n",
       "      <th>91</th>\n",
       "      <th>92</th>\n",
       "      <th>93</th>\n",
       "      <th>94</th>\n",
       "      <th>95</th>\n",
       "      <th>96</th>\n",
       "      <th>97</th>\n",
       "      <th>98</th>\n",
       "      <th>99</th>\n",
       "    </tr>\n",
       "  </thead>\n",
       "  <tbody>\n",
       "    <tr>\n",
       "      <th>0</th>\n",
       "      <td>-0.116341</td>\n",
       "      <td>0.779341</td>\n",
       "      <td>0.536348</td>\n",
       "      <td>1.671233</td>\n",
       "      <td>1.505906</td>\n",
       "      <td>0.514525</td>\n",
       "      <td>0.538355</td>\n",
       "      <td>1.035001</td>\n",
       "      <td>0.539906</td>\n",
       "      <td>-0.293576</td>\n",
       "      <td>...</td>\n",
       "      <td>0.529580</td>\n",
       "      <td>0.706875</td>\n",
       "      <td>0.672583</td>\n",
       "      <td>-0.190857</td>\n",
       "      <td>-0.336612</td>\n",
       "      <td>-0.781744</td>\n",
       "      <td>0.146344</td>\n",
       "      <td>1.886403</td>\n",
       "      <td>1.416031</td>\n",
       "      <td>0.920967</td>\n",
       "    </tr>\n",
       "    <tr>\n",
       "      <th>1</th>\n",
       "      <td>-0.072393</td>\n",
       "      <td>0.783827</td>\n",
       "      <td>0.536354</td>\n",
       "      <td>1.655751</td>\n",
       "      <td>1.484702</td>\n",
       "      <td>0.498978</td>\n",
       "      <td>0.567933</td>\n",
       "      <td>1.067491</td>\n",
       "      <td>0.574879</td>\n",
       "      <td>-0.236735</td>\n",
       "      <td>...</td>\n",
       "      <td>0.524207</td>\n",
       "      <td>0.700520</td>\n",
       "      <td>0.680821</td>\n",
       "      <td>-0.182997</td>\n",
       "      <td>-0.309892</td>\n",
       "      <td>-0.705427</td>\n",
       "      <td>0.170956</td>\n",
       "      <td>1.855710</td>\n",
       "      <td>1.374805</td>\n",
       "      <td>0.903784</td>\n",
       "    </tr>\n",
       "    <tr>\n",
       "      <th>2</th>\n",
       "      <td>-0.028267</td>\n",
       "      <td>0.791067</td>\n",
       "      <td>0.537721</td>\n",
       "      <td>1.639848</td>\n",
       "      <td>1.458844</td>\n",
       "      <td>0.484679</td>\n",
       "      <td>0.593813</td>\n",
       "      <td>1.098681</td>\n",
       "      <td>0.608889</td>\n",
       "      <td>-0.178525</td>\n",
       "      <td>...</td>\n",
       "      <td>0.522704</td>\n",
       "      <td>0.696220</td>\n",
       "      <td>0.690041</td>\n",
       "      <td>-0.172731</td>\n",
       "      <td>-0.279791</td>\n",
       "      <td>-0.627444</td>\n",
       "      <td>0.197007</td>\n",
       "      <td>1.822940</td>\n",
       "      <td>1.333808</td>\n",
       "      <td>0.891496</td>\n",
       "    </tr>\n",
       "    <tr>\n",
       "      <th>3</th>\n",
       "      <td>0.013731</td>\n",
       "      <td>0.799697</td>\n",
       "      <td>0.541941</td>\n",
       "      <td>1.621794</td>\n",
       "      <td>1.429699</td>\n",
       "      <td>0.472187</td>\n",
       "      <td>0.615880</td>\n",
       "      <td>1.129156</td>\n",
       "      <td>0.641891</td>\n",
       "      <td>-0.119735</td>\n",
       "      <td>...</td>\n",
       "      <td>0.524986</td>\n",
       "      <td>0.694344</td>\n",
       "      <td>0.699008</td>\n",
       "      <td>-0.159895</td>\n",
       "      <td>-0.245379</td>\n",
       "      <td>-0.547185</td>\n",
       "      <td>0.223870</td>\n",
       "      <td>1.787839</td>\n",
       "      <td>1.294241</td>\n",
       "      <td>0.883520</td>\n",
       "    </tr>\n",
       "    <tr>\n",
       "      <th>4</th>\n",
       "      <td>0.052223</td>\n",
       "      <td>0.809120</td>\n",
       "      <td>0.551560</td>\n",
       "      <td>1.601519</td>\n",
       "      <td>1.396824</td>\n",
       "      <td>0.462874</td>\n",
       "      <td>0.632965</td>\n",
       "      <td>1.159053</td>\n",
       "      <td>0.673753</td>\n",
       "      <td>-0.060457</td>\n",
       "      <td>...</td>\n",
       "      <td>0.530278</td>\n",
       "      <td>0.694245</td>\n",
       "      <td>0.706079</td>\n",
       "      <td>-0.143683</td>\n",
       "      <td>-0.206837</td>\n",
       "      <td>-0.464786</td>\n",
       "      <td>0.250910</td>\n",
       "      <td>1.749711</td>\n",
       "      <td>1.257432</td>\n",
       "      <td>0.879292</td>\n",
       "    </tr>\n",
       "    <tr>\n",
       "      <th>...</th>\n",
       "      <td>...</td>\n",
       "      <td>...</td>\n",
       "      <td>...</td>\n",
       "      <td>...</td>\n",
       "      <td>...</td>\n",
       "      <td>...</td>\n",
       "      <td>...</td>\n",
       "      <td>...</td>\n",
       "      <td>...</td>\n",
       "      <td>...</td>\n",
       "      <td>...</td>\n",
       "      <td>...</td>\n",
       "      <td>...</td>\n",
       "      <td>...</td>\n",
       "      <td>...</td>\n",
       "      <td>...</td>\n",
       "      <td>...</td>\n",
       "      <td>...</td>\n",
       "      <td>...</td>\n",
       "      <td>...</td>\n",
       "      <td>...</td>\n",
       "    </tr>\n",
       "    <tr>\n",
       "      <th>123</th>\n",
       "      <td>-0.064136</td>\n",
       "      <td>-0.258900</td>\n",
       "      <td>-0.159008</td>\n",
       "      <td>-0.301982</td>\n",
       "      <td>-0.083684</td>\n",
       "      <td>-0.420226</td>\n",
       "      <td>-0.099552</td>\n",
       "      <td>-0.112116</td>\n",
       "      <td>-0.216130</td>\n",
       "      <td>-0.085422</td>\n",
       "      <td>...</td>\n",
       "      <td>-0.068671</td>\n",
       "      <td>-0.255243</td>\n",
       "      <td>-0.306849</td>\n",
       "      <td>-0.413055</td>\n",
       "      <td>-0.123628</td>\n",
       "      <td>-0.195719</td>\n",
       "      <td>-0.101372</td>\n",
       "      <td>-0.173371</td>\n",
       "      <td>-0.195361</td>\n",
       "      <td>-0.247563</td>\n",
       "    </tr>\n",
       "    <tr>\n",
       "      <th>124</th>\n",
       "      <td>-0.026482</td>\n",
       "      <td>-0.280648</td>\n",
       "      <td>-0.121262</td>\n",
       "      <td>-0.298811</td>\n",
       "      <td>-0.041992</td>\n",
       "      <td>-0.405334</td>\n",
       "      <td>-0.031378</td>\n",
       "      <td>-0.089916</td>\n",
       "      <td>-0.169049</td>\n",
       "      <td>-0.044676</td>\n",
       "      <td>...</td>\n",
       "      <td>-0.048234</td>\n",
       "      <td>-0.233814</td>\n",
       "      <td>-0.259597</td>\n",
       "      <td>-0.383795</td>\n",
       "      <td>-0.139397</td>\n",
       "      <td>-0.214916</td>\n",
       "      <td>-0.052879</td>\n",
       "      <td>-0.112142</td>\n",
       "      <td>-0.181234</td>\n",
       "      <td>-0.210700</td>\n",
       "    </tr>\n",
       "    <tr>\n",
       "      <th>125</th>\n",
       "      <td>0.014293</td>\n",
       "      <td>-0.302829</td>\n",
       "      <td>-0.080830</td>\n",
       "      <td>-0.293563</td>\n",
       "      <td>-0.000015</td>\n",
       "      <td>-0.388361</td>\n",
       "      <td>0.037456</td>\n",
       "      <td>-0.066373</td>\n",
       "      <td>-0.118279</td>\n",
       "      <td>-0.003428</td>\n",
       "      <td>...</td>\n",
       "      <td>-0.028179</td>\n",
       "      <td>-0.211138</td>\n",
       "      <td>-0.211620</td>\n",
       "      <td>-0.354919</td>\n",
       "      <td>-0.159467</td>\n",
       "      <td>-0.235498</td>\n",
       "      <td>-0.001815</td>\n",
       "      <td>-0.053234</td>\n",
       "      <td>-0.160166</td>\n",
       "      <td>-0.170574</td>\n",
       "    </tr>\n",
       "    <tr>\n",
       "      <th>126</th>\n",
       "      <td>0.058428</td>\n",
       "      <td>-0.325471</td>\n",
       "      <td>-0.038826</td>\n",
       "      <td>-0.286717</td>\n",
       "      <td>0.041689</td>\n",
       "      <td>-0.368136</td>\n",
       "      <td>0.104116</td>\n",
       "      <td>-0.039730</td>\n",
       "      <td>-0.063969</td>\n",
       "      <td>0.037920</td>\n",
       "      <td>...</td>\n",
       "      <td>-0.010849</td>\n",
       "      <td>-0.186148</td>\n",
       "      <td>-0.161574</td>\n",
       "      <td>-0.325614</td>\n",
       "      <td>-0.184145</td>\n",
       "      <td>-0.256913</td>\n",
       "      <td>0.050831</td>\n",
       "      <td>0.001132</td>\n",
       "      <td>-0.132191</td>\n",
       "      <td>-0.126450</td>\n",
       "    </tr>\n",
       "    <tr>\n",
       "      <th>127</th>\n",
       "      <td>0.106982</td>\n",
       "      <td>-0.348234</td>\n",
       "      <td>0.004331</td>\n",
       "      <td>-0.278119</td>\n",
       "      <td>0.082372</td>\n",
       "      <td>-0.345974</td>\n",
       "      <td>0.167226</td>\n",
       "      <td>-0.011014</td>\n",
       "      <td>-0.007355</td>\n",
       "      <td>0.080165</td>\n",
       "      <td>...</td>\n",
       "      <td>0.004788</td>\n",
       "      <td>-0.159609</td>\n",
       "      <td>-0.109259</td>\n",
       "      <td>-0.296066</td>\n",
       "      <td>-0.213692</td>\n",
       "      <td>-0.277374</td>\n",
       "      <td>0.102453</td>\n",
       "      <td>0.051363</td>\n",
       "      <td>-0.097849</td>\n",
       "      <td>-0.079290</td>\n",
       "    </tr>\n",
       "  </tbody>\n",
       "</table>\n",
       "<p>128 rows × 100 columns</p>\n",
       "</div>"
      ],
      "text/plain": [
       "            y                                                              \\\n",
       "            0         1         2         3         4         5         6   \n",
       "0   -0.116341  0.779341  0.536348  1.671233  1.505906  0.514525  0.538355   \n",
       "1   -0.072393  0.783827  0.536354  1.655751  1.484702  0.498978  0.567933   \n",
       "2   -0.028267  0.791067  0.537721  1.639848  1.458844  0.484679  0.593813   \n",
       "3    0.013731  0.799697  0.541941  1.621794  1.429699  0.472187  0.615880   \n",
       "4    0.052223  0.809120  0.551560  1.601519  1.396824  0.462874  0.632965   \n",
       "..        ...       ...       ...       ...       ...       ...       ...   \n",
       "123 -0.064136 -0.258900 -0.159008 -0.301982 -0.083684 -0.420226 -0.099552   \n",
       "124 -0.026482 -0.280648 -0.121262 -0.298811 -0.041992 -0.405334 -0.031378   \n",
       "125  0.014293 -0.302829 -0.080830 -0.293563 -0.000015 -0.388361  0.037456   \n",
       "126  0.058428 -0.325471 -0.038826 -0.286717  0.041689 -0.368136  0.104116   \n",
       "127  0.106982 -0.348234  0.004331 -0.278119  0.082372 -0.345974  0.167226   \n",
       "\n",
       "                                   ...                                \\\n",
       "            7         8         9  ...        90        91        92   \n",
       "0    1.035001  0.539906 -0.293576  ...  0.529580  0.706875  0.672583   \n",
       "1    1.067491  0.574879 -0.236735  ...  0.524207  0.700520  0.680821   \n",
       "2    1.098681  0.608889 -0.178525  ...  0.522704  0.696220  0.690041   \n",
       "3    1.129156  0.641891 -0.119735  ...  0.524986  0.694344  0.699008   \n",
       "4    1.159053  0.673753 -0.060457  ...  0.530278  0.694245  0.706079   \n",
       "..        ...       ...       ...  ...       ...       ...       ...   \n",
       "123 -0.112116 -0.216130 -0.085422  ... -0.068671 -0.255243 -0.306849   \n",
       "124 -0.089916 -0.169049 -0.044676  ... -0.048234 -0.233814 -0.259597   \n",
       "125 -0.066373 -0.118279 -0.003428  ... -0.028179 -0.211138 -0.211620   \n",
       "126 -0.039730 -0.063969  0.037920  ... -0.010849 -0.186148 -0.161574   \n",
       "127 -0.011014 -0.007355  0.080165  ...  0.004788 -0.159609 -0.109259   \n",
       "\n",
       "                                                                           \n",
       "           93        94        95        96        97        98        99  \n",
       "0   -0.190857 -0.336612 -0.781744  0.146344  1.886403  1.416031  0.920967  \n",
       "1   -0.182997 -0.309892 -0.705427  0.170956  1.855710  1.374805  0.903784  \n",
       "2   -0.172731 -0.279791 -0.627444  0.197007  1.822940  1.333808  0.891496  \n",
       "3   -0.159895 -0.245379 -0.547185  0.223870  1.787839  1.294241  0.883520  \n",
       "4   -0.143683 -0.206837 -0.464786  0.250910  1.749711  1.257432  0.879292  \n",
       "..        ...       ...       ...       ...       ...       ...       ...  \n",
       "123 -0.413055 -0.123628 -0.195719 -0.101372 -0.173371 -0.195361 -0.247563  \n",
       "124 -0.383795 -0.139397 -0.214916 -0.052879 -0.112142 -0.181234 -0.210700  \n",
       "125 -0.354919 -0.159467 -0.235498 -0.001815 -0.053234 -0.160166 -0.170574  \n",
       "126 -0.325614 -0.184145 -0.256913  0.050831  0.001132 -0.132191 -0.126450  \n",
       "127 -0.296066 -0.213692 -0.277374  0.102453  0.051363 -0.097849 -0.079290  \n",
       "\n",
       "[128 rows x 100 columns]"
      ]
     },
     "metadata": {},
     "output_type": "display_data"
    }
   ],
   "source": [
    "# Define the sample inputs\n",
    "sample_inputs = pd.DataFrame({\"x\": np.linspace(0, 1, 128)})\n",
    "\n",
    "# Define number of samples to calculate for each input\n",
    "num_samples = 100\n",
    "\n",
    "# Calculate the samples using twinLab\n",
    "sample_result = emulator.sample(sample_inputs, num_samples)\n",
    "\n",
    "# View the results in the form of a dataframe\n",
    "display(sample_result)"
   ]
  },
  {
   "cell_type": "markdown",
   "metadata": {},
   "source": [
    "### **Viewing the results**\n",
    "\n",
    "The results can be plotted over the top of the previous graph giving a nice visualisation of the sampled data, with the model's uncertainity.\n"
   ]
  },
  {
   "cell_type": "code",
   "execution_count": 17,
   "metadata": {},
   "outputs": [
    {
     "data": {
      "image/png": "[encoded data removed]",
      "text/plain": [
       "<Figure size 640x480 with 1 Axes>"
      ]
     },
     "metadata": {},
     "output_type": "display_data"
    }
   ],
   "source": [
    "# Plot parameters\n",
    "color_curve = \"blue\"\n",
    "alpha_curve = 0.10\n",
    "color_data = \"black\"\n",
    "plot_training_data = True\n",
    "plot_model_bands = False\n",
    "\n",
    "# Plot samples drawn from the model\n",
    "if plot_training_data:\n",
    "    plt.plot(df[\"x\"], df[\"y\"], \".\", color=color_data, label=\"Training data\")\n",
    "plt.plot(sample_inputs, sample_result[\"y\"], color=color_curve, alpha=alpha_curve)\n",
    "plt.xlim((0.0, 1.0))\n",
    "plt.xlabel(r\"$X$\")\n",
    "plt.ylabel(r\"$y$\")\n",
    "plt.legend()\n",
    "plt.show()"
   ]
  },
  {
   "cell_type": "markdown",
   "metadata": {},
   "source": [
    "### **Deleting datasets and campaigns**\n",
    "\n",
    "You can delete your datasets and emulators to keep your cloud account storage tidy. Please be aware that this is permanent. Always consider keeping your data locally backed up. `Emulator.delete` and `Dataset.delete` delete the emulator and the dataset respectively.\n"
   ]
  },
  {
   "cell_type": "code",
   "execution_count": 18,
   "metadata": {},
   "outputs": [],
   "source": [
    "# Delete dataset\n",
    "dataset.delete()\n",
    "\n",
    "# Delete emulator\n",
    "emulator.delete()"
   ]
  }
 ],
 "metadata": {
  "kernelspec": {
   "display_name": "twinlab-demos-5eekO54e-py3.11",
   "language": "python",
   "name": "python3"
  },
  "language_info": {
   "codemirror_mode": {
    "name": "ipython",
    "version": 3
   },
   "file_extension": ".py",
   "mimetype": "text/x-python",
   "name": "python",
   "nbconvert_exporter": "python",
   "pygments_lexer": "ipython3",
   "version": "3.11.9"
  }
 },
 "nbformat": 4,
 "nbformat_minor": 2
}

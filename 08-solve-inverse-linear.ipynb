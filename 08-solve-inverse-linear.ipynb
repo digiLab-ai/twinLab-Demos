{
 "cells": [
  {
   "cell_type": "markdown",
   "metadata": {},
   "source": [
    "# Solving Inverse Problems - Linear Example\n",
    "\n",
    "Consider a scenario where we have some observed output data, and our goal is to determine the underlying conditions (inputs) that led to these outcomes. \n",
    "\n",
    "This can be accomplished by performing experiments to obtain some sample inputs and ouputs, using twinlab to train a model on the data, and applying twinlab's `tl.solve_inverse_campaign` function to predict the missing inputs."
   ]
  },
  {
   "cell_type": "markdown",
   "metadata": {},
   "source": [
    "First, import the required libraries."
   ]
  },
  {
   "cell_type": "code",
   "execution_count": 1,
   "metadata": {},
   "outputs": [
    {
     "name": "stdout",
     "output_type": "stream",
     "text": [
      "{'username': 'jasper@digilab.co.uk', 'credits': 0}\n",
      "\n",
      "         === TwinLab Client Initialisation ===\n",
      "         Version  : 1.4.0\n",
      "         User     : jasper@digilab.co.uk\n",
      "         Server   : https://twinlab.digilab.co.uk/dev\n",
      "         Key      : btUUe-IkGFOyuLun-HJAjg\n",
      "\n"
     ]
    }
   ],
   "source": [
    "# Third-party imports\n",
    "import numpy as np\n",
    "import pandas as pd\n",
    "import matplotlib.pyplot as plt\n",
    "import matplotlib.patches as patches\n",
    "\n",
    "# Project import\n",
    "import twinlab as tl"
   ]
  },
  {
   "cell_type": "markdown",
   "metadata": {},
   "source": [
    "## Establish Parameters and Create Datasets\n",
    "\n",
    "We want to establish data and model parameters, and also generate the noisy observed and experimental data."
   ]
  },
  {
   "cell_type": "code",
   "execution_count": 2,
   "metadata": {},
   "outputs": [],
   "source": [
    "# Data and model parameters\n",
    "random_seed = 8675309\n",
    "err_sig = 2/3\n",
    "dataset_id = \"inverse-methods\"\n",
    "campaign_id = \"inverse-methods\""
   ]
  },
  {
   "cell_type": "code",
   "execution_count": 3,
   "metadata": {},
   "outputs": [
    {
     "data": {
      "text/html": [
       "<div>\n",
       "<style scoped>\n",
       "    .dataframe tbody tr th:only-of-type {\n",
       "        vertical-align: middle;\n",
       "    }\n",
       "\n",
       "    .dataframe tbody tr th {\n",
       "        vertical-align: top;\n",
       "    }\n",
       "\n",
       "    .dataframe thead th {\n",
       "        text-align: right;\n",
       "    }\n",
       "</style>\n",
       "<table border=\"1\" class=\"dataframe\">\n",
       "  <thead>\n",
       "    <tr style=\"text-align: right;\">\n",
       "      <th></th>\n",
       "      <th>y</th>\n",
       "    </tr>\n",
       "  </thead>\n",
       "  <tbody>\n",
       "    <tr>\n",
       "      <th>0</th>\n",
       "      <td>10.25</td>\n",
       "    </tr>\n",
       "  </tbody>\n",
       "</table>\n",
       "</div>"
      ],
      "text/plain": [
       "       y\n",
       "0  10.25"
      ]
     },
     "metadata": {},
     "output_type": "display_data"
    },
    {
     "data": {
      "text/html": [
       "<div>\n",
       "<style scoped>\n",
       "    .dataframe tbody tr th:only-of-type {\n",
       "        vertical-align: middle;\n",
       "    }\n",
       "\n",
       "    .dataframe tbody tr th {\n",
       "        vertical-align: top;\n",
       "    }\n",
       "\n",
       "    .dataframe thead th {\n",
       "        text-align: right;\n",
       "    }\n",
       "</style>\n",
       "<table border=\"1\" class=\"dataframe\">\n",
       "  <thead>\n",
       "    <tr style=\"text-align: right;\">\n",
       "      <th></th>\n",
       "      <th>y</th>\n",
       "    </tr>\n",
       "  </thead>\n",
       "  <tbody>\n",
       "    <tr>\n",
       "      <th>0</th>\n",
       "      <td>0.666667</td>\n",
       "    </tr>\n",
       "  </tbody>\n",
       "</table>\n",
       "</div>"
      ],
      "text/plain": [
       "          y\n",
       "0  0.666667"
      ]
     },
     "metadata": {},
     "output_type": "display_data"
    }
   ],
   "source": [
    "# Observed datapoint we would like to know the inputs for.\n",
    "obs = pd.DataFrame({'y': [10.25]})\n",
    "display(obs)\n",
    "obs_std = pd.DataFrame({'y': [err_sig]})\n",
    "display(obs_std)"
   ]
  },
  {
   "cell_type": "code",
   "execution_count": 4,
   "metadata": {},
   "outputs": [
    {
     "data": {
      "text/html": [
       "<div>\n",
       "<style scoped>\n",
       "    .dataframe tbody tr th:only-of-type {\n",
       "        vertical-align: middle;\n",
       "    }\n",
       "\n",
       "    .dataframe tbody tr th {\n",
       "        vertical-align: top;\n",
       "    }\n",
       "\n",
       "    .dataframe thead th {\n",
       "        text-align: right;\n",
       "    }\n",
       "</style>\n",
       "<table border=\"1\" class=\"dataframe\">\n",
       "  <thead>\n",
       "    <tr style=\"text-align: right;\">\n",
       "      <th></th>\n",
       "      <th>X</th>\n",
       "      <th>y</th>\n",
       "    </tr>\n",
       "  </thead>\n",
       "  <tbody>\n",
       "    <tr>\n",
       "      <th>0</th>\n",
       "      <td>0.0</td>\n",
       "      <td>3.392682</td>\n",
       "    </tr>\n",
       "    <tr>\n",
       "      <th>1</th>\n",
       "      <td>0.5</td>\n",
       "      <td>4.488746</td>\n",
       "    </tr>\n",
       "    <tr>\n",
       "      <th>2</th>\n",
       "      <td>1.0</td>\n",
       "      <td>4.225207</td>\n",
       "    </tr>\n",
       "    <tr>\n",
       "      <th>3</th>\n",
       "      <td>1.5</td>\n",
       "      <td>5.628789</td>\n",
       "    </tr>\n",
       "    <tr>\n",
       "      <th>4</th>\n",
       "      <td>2.0</td>\n",
       "      <td>6.485008</td>\n",
       "    </tr>\n",
       "    <tr>\n",
       "      <th>5</th>\n",
       "      <td>2.5</td>\n",
       "      <td>7.887852</td>\n",
       "    </tr>\n",
       "    <tr>\n",
       "      <th>6</th>\n",
       "      <td>3.0</td>\n",
       "      <td>8.722331</td>\n",
       "    </tr>\n",
       "    <tr>\n",
       "      <th>7</th>\n",
       "      <td>3.5</td>\n",
       "      <td>9.081046</td>\n",
       "    </tr>\n",
       "    <tr>\n",
       "      <th>8</th>\n",
       "      <td>4.0</td>\n",
       "      <td>11.499504</td>\n",
       "    </tr>\n",
       "    <tr>\n",
       "      <th>9</th>\n",
       "      <td>4.5</td>\n",
       "      <td>12.119256</td>\n",
       "    </tr>\n",
       "    <tr>\n",
       "      <th>10</th>\n",
       "      <td>5.0</td>\n",
       "      <td>13.462674</td>\n",
       "    </tr>\n",
       "    <tr>\n",
       "      <th>11</th>\n",
       "      <td>5.5</td>\n",
       "      <td>12.681298</td>\n",
       "    </tr>\n",
       "    <tr>\n",
       "      <th>12</th>\n",
       "      <td>6.0</td>\n",
       "      <td>14.444124</td>\n",
       "    </tr>\n",
       "    <tr>\n",
       "      <th>13</th>\n",
       "      <td>6.5</td>\n",
       "      <td>16.376249</td>\n",
       "    </tr>\n",
       "    <tr>\n",
       "      <th>14</th>\n",
       "      <td>7.0</td>\n",
       "      <td>17.208009</td>\n",
       "    </tr>\n",
       "    <tr>\n",
       "      <th>15</th>\n",
       "      <td>7.5</td>\n",
       "      <td>17.417770</td>\n",
       "    </tr>\n",
       "    <tr>\n",
       "      <th>16</th>\n",
       "      <td>8.0</td>\n",
       "      <td>19.104009</td>\n",
       "    </tr>\n",
       "    <tr>\n",
       "      <th>17</th>\n",
       "      <td>8.5</td>\n",
       "      <td>19.741933</td>\n",
       "    </tr>\n",
       "    <tr>\n",
       "      <th>18</th>\n",
       "      <td>9.0</td>\n",
       "      <td>20.840528</td>\n",
       "    </tr>\n",
       "    <tr>\n",
       "      <th>19</th>\n",
       "      <td>9.5</td>\n",
       "      <td>22.592334</td>\n",
       "    </tr>\n",
       "    <tr>\n",
       "      <th>20</th>\n",
       "      <td>10.0</td>\n",
       "      <td>23.862569</td>\n",
       "    </tr>\n",
       "  </tbody>\n",
       "</table>\n",
       "</div>"
      ],
      "text/plain": [
       "       X          y\n",
       "0    0.0   3.392682\n",
       "1    0.5   4.488746\n",
       "2    1.0   4.225207\n",
       "3    1.5   5.628789\n",
       "4    2.0   6.485008\n",
       "5    2.5   7.887852\n",
       "6    3.0   8.722331\n",
       "7    3.5   9.081046\n",
       "8    4.0  11.499504\n",
       "9    4.5  12.119256\n",
       "10   5.0  13.462674\n",
       "11   5.5  12.681298\n",
       "12   6.0  14.444124\n",
       "13   6.5  16.376249\n",
       "14   7.0  17.208009\n",
       "15   7.5  17.417770\n",
       "16   8.0  19.104009\n",
       "17   8.5  19.741933\n",
       "18   9.0  20.840528\n",
       "19   9.5  22.592334\n",
       "20  10.0  23.862569"
      ]
     },
     "metadata": {},
     "output_type": "display_data"
    },
    {
     "name": "stdout",
     "output_type": "stream",
     "text": [
      "Dataframe is uploading.\n",
      "Processing dataset.\n",
      "Dataset inverse-methods was processed.\n"
     ]
    }
   ],
   "source": [
    "# Seed the random-number generator\n",
    "np.random.seed(random_seed)\n",
    "\n",
    "# Create a linear function to generate experimental data\n",
    "def f(x):\n",
    "    return 2 * x + 3\n",
    "\n",
    "# Add Gaussian noise to the linear ouput\n",
    "def model(X):\n",
    "    return np.random.normal(f(X), err_sig)\n",
    "\n",
    "# Set up experimental data dataframe\n",
    "X = np.linspace(0,10,21)\n",
    "y = model(X)\n",
    "df_exp = pd.DataFrame({\"X\": X, \"y\": y})\n",
    "display(df_exp)\n",
    "\n",
    "# Upload the dataset to the cloud\n",
    "tl.upload_dataset(df_exp, dataset_id, verbose=True)"
   ]
  },
  {
   "cell_type": "code",
   "execution_count": 5,
   "metadata": {},
   "outputs": [
    {
     "data": {
      "image/png": "[encoded data removed]",
      "text/plain": [
       "<Figure size 640x480 with 1 Axes>"
      ]
     },
     "metadata": {},
     "output_type": "display_data"
    }
   ],
   "source": [
    "# Plotting routine\n",
    "def plot_data(X, y, obs=None, obs_std=None, inverse_df=None):\n",
    "    fig, ax = plt.subplots()\n",
    "    ax.scatter(X,y, color=\"cornflowerblue\", label=\"Experimental data\")\n",
    "    if (obs is not None) and (inverse_df is None):\n",
    "        y_mean = obs['y'][0]\n",
    "        ax.axhline(y=y_mean, color=\"tomato\", label=\"Observed Output\")\n",
    "        if obs_std is not None:\n",
    "            y_std = obs_std['y'][0]\n",
    "            ax.axhspan(ymin=y_mean-y_std, ymax=y_mean+y_std, color=\"tomato\", alpha=1/3, label=\"Observation error\")\n",
    "    elif (obs is not None) and (obs_std is not None) and (inverse_df is not None):\n",
    "        y_mean = obs['y'][0]\n",
    "        y_std = obs_std['y'][0]\n",
    "        X_mean = inverse_df[\"mean\"][0]\n",
    "        X_std = inverse_df[\"sd\"][0]\n",
    "        ax.scatter(X_mean, y_mean, color=\"tomato\", label=\"Observed data\")\n",
    "        ax.add_patch(patches.Ellipse((X_mean,y_mean), X_std*2, y_std*2, color=\"tomato\", alpha=1/3, label=\"Uncertainty\"))\n",
    "    ax.set_xlabel(\"X\")\n",
    "    ax.set_ylabel(\"y\")\n",
    "    plt.legend()\n",
    "    plt.show()\n",
    "    plt.close()\n",
    "\n",
    "# Plot the data\n",
    "plot_data(X=X, y=y, obs=obs, obs_std=obs_std)"
   ]
  },
  {
   "cell_type": "markdown",
   "metadata": {},
   "source": [
    "## Training the Model\n",
    "\n",
    "In this section, we'll be establishing the model training parameters, training our model on our experimental data, and producing the output of that training and prediction. \n",
    "\n",
    "\n",
    "First we need to establish what criteria our model training has. We do this via a JSON dictionary, which will include what we want to name our model, specify what the model inputs and outputs are, and fine-tune modelling parameters, such as the test_train_ratio."
   ]
  },
  {
   "cell_type": "code",
   "execution_count": 6,
   "metadata": {},
   "outputs": [],
   "source": [
    "# Training parameters\n",
    "params = {\n",
    "    \"dataset_id\": dataset_id,\n",
    "    \"inputs\" : [\"X\"],\n",
    "    \"outputs\": [\"y\"],\n",
    "    \"test_train_ratio\": 0.8,\n",
    "}"
   ]
  },
  {
   "cell_type": "markdown",
   "metadata": {},
   "source": [
    "Next, we can actually train our model in the Cloud."
   ]
  },
  {
   "cell_type": "code",
   "execution_count": 7,
   "metadata": {},
   "outputs": [
    {
     "name": "stdout",
     "output_type": "stream",
     "text": [
      "Model inverse-methods has begun training.\n"
     ]
    }
   ],
   "source": [
    "# Train model \n",
    "tl.train_campaign(params, campaign_id, verbose=True)"
   ]
  },
  {
   "cell_type": "markdown",
   "metadata": {},
   "source": [
    "## Inverse Problem\n",
    "\n",
    "Solve the inverse problem to obtain information about the input value that created the observed output value."
   ]
  },
  {
   "cell_type": "code",
   "execution_count": 8,
   "metadata": {},
   "outputs": [
    {
     "ename": "AttributeError",
     "evalue": "module 'twinlab' has no attribute 'solve_inverse_campaign'",
     "output_type": "error",
     "traceback": [
      "\u001b[0;31m---------------------------------------------------------------------------\u001b[0m",
      "\u001b[0;31mAttributeError\u001b[0m                            Traceback (most recent call last)",
      "\u001b[1;32m/Users/jaspercantwell/Repos/twinLab-Demos/08-solve-inverse-linear.ipynb Cell 14\u001b[0m line \u001b[0;36m2\n\u001b[1;32m      <a href='vscode-notebook-cell:/Users/jaspercantwell/Repos/twinLab-Demos/08-solve-inverse-linear.ipynb#X16sZmlsZQ%3D%3D?line=0'>1</a>\u001b[0m \u001b[39m# Solve the inverse problem\u001b[39;00m\n\u001b[0;32m----> <a href='vscode-notebook-cell:/Users/jaspercantwell/Repos/twinLab-Demos/08-solve-inverse-linear.ipynb#X16sZmlsZQ%3D%3D?line=1'>2</a>\u001b[0m inverse_df \u001b[39m=\u001b[39m tl\u001b[39m.\u001b[39;49msolve_inverse_campaign(campaign_id, obs, obs_std, verbose\u001b[39m=\u001b[39m\u001b[39mTrue\u001b[39;00m, debug\u001b[39m=\u001b[39m\u001b[39mTrue\u001b[39;00m)\n",
      "\u001b[0;31mAttributeError\u001b[0m: module 'twinlab' has no attribute 'solve_inverse_campaign'"
     ]
    }
   ],
   "source": [
    "# Solve the inverse problem\n",
    "inverse_df = tl.solve_inverse_campaign(campaign_id, obs, obs_std, verbose=True, debug=True)"
   ]
  },
  {
   "cell_type": "code",
   "execution_count": null,
   "metadata": {},
   "outputs": [],
   "source": [
    "# Plot the data\n",
    "plot_data(X=X, y=y, obs=obs, obs_std=obs_std, inverse_df=inverse_df)"
   ]
  },
  {
   "cell_type": "markdown",
   "metadata": {},
   "source": [
    "## Validate Expected Result\n",
    "\n",
    "Since we fabricated the experimental data, we can manually validate our computed result. Note this is a sanity check and would not be possible with real-world data of an unknown model.\n",
    "\n",
    "$$\n",
    "\\begin{align}\n",
    "    y = 2X+3 \\;\\;\\;\\rightarrow \\;\\;\\; \\frac{y-3}{2} = X\n",
    "\\end{align}\n",
    "$$\n",
    "\n",
    "The difference between the computed inverse model mean and X in above equation (1) should be less than the determined standard deviation."
   ]
  },
  {
   "cell_type": "code",
   "execution_count": null,
   "metadata": {},
   "outputs": [],
   "source": [
    "inverse_mean = inverse_df[\"mean\"][0] \n",
    "inverse_std = inverse_df[\"sd\"][0]\n",
    "y_obs = obs[\"y\"][0]\n",
    "\n",
    "actual_X = (y_obs - 3) / 2\n",
    "difference = abs(actual_X - inverse_mean)  \n",
    "\n",
    "if difference <= inverse_std:\n",
    "    print(f\"Success! The difference between the inverse model mean X ({inverse_mean}) and the algebraically computed X ({actual_X}) is {round(difference, 5)} which is less than the inverse model standard deviation of {inverse_std}.\")\n",
    "else:\n",
    "    print(f\"Something went wrong! The difference between the inverse model mean X ({inverse_mean}) and the algebraically computed X ({actual_X}) is {round(difference, 5)} which is greater than the inverse model standard deviation {inverse_std}.\")"
   ]
  },
  {
   "cell_type": "markdown",
   "metadata": {},
   "source": [
    "## Finishing up \n",
    "\n",
    "This section covers how to delete your trained model and dataset from the cloud. Note that you don't need to delete your model and data to rerun a campaign or dataset of the same name--if, say, you rerun the functions above as-is, with no name changes, will simply overwrite your existing model and dataset on the Cloud."
   ]
  },
  {
   "cell_type": "code",
   "execution_count": null,
   "metadata": {},
   "outputs": [],
   "source": [
    "# Delete campaign and dataset if necessary\n",
    "tl.delete_campaign(campaign_id, verbose=True)\n",
    "tl.delete_dataset(dataset_id, verbose=True)"
   ]
  }
 ],
 "metadata": {
  "kernelspec": {
   "display_name": "Python 3 (ipykernel)",
   "language": "python",
   "name": "python3"
  },
  "language_info": {
   "codemirror_mode": {
    "name": "ipython",
    "version": 3
   },
   "file_extension": ".py",
   "mimetype": "text/x-python",
   "name": "python",
   "nbconvert_exporter": "python",
   "pygments_lexer": "ipython3",
   "version": "3.11.5"
  }
 },
 "nbformat": 4,
 "nbformat_minor": 4
}

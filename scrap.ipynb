{
 "cells": [
  {
   "cell_type": "code",
   "execution_count": 9,
   "metadata": {},
   "outputs": [],
   "source": [
    "import twinlab as tl"
   ]
  },
  {
   "cell_type": "code",
   "execution_count": 14,
   "metadata": {},
   "outputs": [],
   "source": [
    "import numpy as np\n",
    "import pandas as pd\n",
    "import matplotlib.pyplot as plt"
   ]
  },
  {
   "cell_type": "code",
   "execution_count": 11,
   "metadata": {},
   "outputs": [],
   "source": [
    "grid = np.linspace(0, 1)\n",
    "\n",
    "#Defining the simulation function\n",
    "def model(x):\n",
    "    return (x[0] * grid - 2) ** 2 * np.sin(x[1] * grid - 4)\n",
    "\n",
    "def generate_output(x):\n",
    "    y = np.zeros((x.shape[0], grid.size))\n",
    "\n",
    "    for i, x_i in enumerate(x):\n",
    "        y[i, :] = model(x_i)\n",
    "        return y\n",
    "\n",
    "emulator_id = \"my_emulator\"\n",
    "dataset_id = \"my_dataset\"\n",
    "input_columns = [\"x1\", \"x2\"]\n",
    "\n",
    "output_columns = [\"y_{}\".format(i) for i in range(grid.size)]"
   ]
  },
  {
   "cell_type": "code",
   "execution_count": 16,
   "metadata": {},
   "outputs": [
    {
     "ename": "NameError",
     "evalue": "name 'y' is not defined",
     "output_type": "error",
     "traceback": [
      "\u001b[0;31m---------------------------------------------------------------------------\u001b[0m",
      "\u001b[0;31mNameError\u001b[0m                                 Traceback (most recent call last)",
      "Cell \u001b[0;32mIn[16], line 1\u001b[0m\n\u001b[0;32m----> 1\u001b[0m plt\u001b[38;5;241m.\u001b[39mplot(grid,\u001b[43my\u001b[49m)\n",
      "\u001b[0;31mNameError\u001b[0m: name 'y' is not defined"
     ]
    }
   ],
   "source": [
    "plt.plot(grid,y)"
   ]
  },
  {
   "cell_type": "code",
   "execution_count": null,
   "metadata": {},
   "outputs": [],
   "source": [
    "# Create emulator and dataset\n",
    "emulator = tl.Emulator(id=emulator_id)\n",
    "training_dataset = tl.Dataset(dataset_id)\n",
    "training_dataset.upload(df)\n",
    "\n",
    "params = tl.TrainParams(train_test_ratio=0.75,\n",
    "                estimator=\"gaussian_process_regression\",\n",
    "                output_explained_variance=0.99999,\n",
    "                )"
   ]
  },
  {
   "cell_type": "code",
   "execution_count": null,
   "metadata": {},
   "outputs": [],
   "source": [
    "# Call the learn function\n",
    "emulator.learn(dataset=training_dataset,\n",
    "            inputs=input_columns,\n",
    "            outputs=output_columns,\n",
    "            num_loops=1,\n",
    "            num_points_per_loop=1,\n",
    "            acq_func=\"EI\",\n",
    "            simulation=generate_output,\n",
    "            train_params=params,\n",
    "            )"
   ]
  },
  {
   "cell_type": "code",
   "execution_count": null,
   "metadata": {},
   "outputs": [],
   "source": []
  }
 ],
 "metadata": {
  "kernelspec": {
   "display_name": "twinlab-demos-VK7AxSb8-py3.11",
   "language": "python",
   "name": "python3"
  },
  "language_info": {
   "codemirror_mode": {
    "name": "ipython",
    "version": 3
   },
   "file_extension": ".py",
   "mimetype": "text/x-python",
   "name": "python",
   "nbconvert_exporter": "python",
   "pygments_lexer": "ipython3",
   "version": "3.11.0"
  }
 },
 "nbformat": 4,
 "nbformat_minor": 2
}

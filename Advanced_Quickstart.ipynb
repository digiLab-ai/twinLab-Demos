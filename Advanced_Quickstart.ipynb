{
 "cells": [
  {
   "cell_type": "markdown",
   "metadata": {},
   "source": [
    "# Advanced Quickstart Guide\n",
    "\n",
    "This tutorial fllows the same formoat as `Quickstart Guide` but explores further functionality provided by twinLab."
   ]
  },
  {
   "cell_type": "code",
   "execution_count": 2,
   "metadata": {},
   "outputs": [
    {
     "name": "stdout",
     "output_type": "stream",
     "text": [
      "{'username': 'jasper@digilab.co.uk', 'credits': 0}\n",
      "\n",
      "         === TwinLab Client Initialisation ===\n",
      "         Version  : 1.4.0\n",
      "         User     : jasper@digilab.co.uk\n",
      "         Server   : https://qisuqloa39.execute-api.eu-west-2.amazonaws.com/prod\n",
      "         Key      : btUUe-IkGFOyuLun-HJAjg\n",
      "\n"
     ]
    }
   ],
   "source": [
    "# Third-party imports\n",
    "import numpy as np\n",
    "import pandas as pd\n",
    "\n",
    "# Project imports\n",
    "import twinlab as tl"
   ]
  },
  {
   "cell_type": "markdown",
   "metadata": {},
   "source": [
    "### API setup\n",
    "\n",
    "When you first use twinLab you will have to set your API and server url"
   ]
  },
  {
   "cell_type": "code",
   "execution_count": null,
   "metadata": {},
   "outputs": [],
   "source": [
    "# Set the API key\n",
    "tl.set_api_key(\"my_api_key\")\n",
    "\n",
    "# Set the server url\n",
    "tl.set_server_url(\"http://twinlab.digilab.co.uk/prod\")\n",
    "\n",
    "# Check which url is being used\n",
    "tl.get_server_url()"
   ]
  },
  {
   "cell_type": "markdown",
   "metadata": {},
   "source": [
    "### Your twinLab information\n",
    "\n",
    "Confirm your twinLab version"
   ]
  },
  {
   "cell_type": "code",
   "execution_count": 14,
   "metadata": {},
   "outputs": [
    {
     "data": {
      "text/plain": [
       "{'cloud': '2.0.0',\n",
       " 'modal': '0.2.0',\n",
       " 'library': '1.1.0',\n",
       " 'image': 'twinlab-prod'}"
      ]
     },
     "execution_count": 14,
     "metadata": {},
     "output_type": "execute_result"
    }
   ],
   "source": [
    "tl.get_versions()"
   ]
  },
  {
   "cell_type": "markdown",
   "metadata": {},
   "source": [
    "Or view your user infomration including how many credits you have."
   ]
  },
  {
   "cell_type": "code",
   "execution_count": 15,
   "metadata": {},
   "outputs": [
    {
     "data": {
      "text/plain": [
       "{'username': 'jasper@digilab.co.uk', 'credits': 0}"
      ]
     },
     "execution_count": 15,
     "metadata": {},
     "output_type": "execute_result"
    }
   ],
   "source": [
    "tl.get_user_information()"
   ]
  },
  {
   "cell_type": "markdown",
   "metadata": {},
   "source": [
    "### Upload a dataset\n",
    "\n",
    "twinLab requires datasets to be uploaded to the cloud with a `dataset_id`. This is what the data is saved as in the cloud and how models are able to access the data for training. Data can be uploaded in the form of a `pandas` dataframes directly from your code.\n",
    "\n",
    "> 📝 **Note:** Your dataset must have column headers."
   ]
  },
  {
   "cell_type": "code",
   "execution_count": 3,
   "metadata": {},
   "outputs": [
    {
     "data": {
      "text/html": [
       "<div>\n",
       "<style scoped>\n",
       "    .dataframe tbody tr th:only-of-type {\n",
       "        vertical-align: middle;\n",
       "    }\n",
       "\n",
       "    .dataframe tbody tr th {\n",
       "        vertical-align: top;\n",
       "    }\n",
       "\n",
       "    .dataframe thead th {\n",
       "        text-align: right;\n",
       "    }\n",
       "</style>\n",
       "<table border=\"1\" class=\"dataframe\">\n",
       "  <thead>\n",
       "    <tr style=\"text-align: right;\">\n",
       "      <th></th>\n",
       "      <th>x</th>\n",
       "      <th>y</th>\n",
       "    </tr>\n",
       "  </thead>\n",
       "  <tbody>\n",
       "    <tr>\n",
       "      <th>0</th>\n",
       "      <td>0.696469</td>\n",
       "      <td>-0.817374</td>\n",
       "    </tr>\n",
       "    <tr>\n",
       "      <th>1</th>\n",
       "      <td>0.286139</td>\n",
       "      <td>0.887656</td>\n",
       "    </tr>\n",
       "    <tr>\n",
       "      <th>2</th>\n",
       "      <td>0.226851</td>\n",
       "      <td>0.921553</td>\n",
       "    </tr>\n",
       "    <tr>\n",
       "      <th>3</th>\n",
       "      <td>0.551315</td>\n",
       "      <td>-0.326334</td>\n",
       "    </tr>\n",
       "    <tr>\n",
       "      <th>4</th>\n",
       "      <td>0.719469</td>\n",
       "      <td>-0.832518</td>\n",
       "    </tr>\n",
       "    <tr>\n",
       "      <th>5</th>\n",
       "      <td>0.423106</td>\n",
       "      <td>0.400669</td>\n",
       "    </tr>\n",
       "    <tr>\n",
       "      <th>6</th>\n",
       "      <td>0.980764</td>\n",
       "      <td>-0.164966</td>\n",
       "    </tr>\n",
       "    <tr>\n",
       "      <th>7</th>\n",
       "      <td>0.684830</td>\n",
       "      <td>-0.960764</td>\n",
       "    </tr>\n",
       "    <tr>\n",
       "      <th>8</th>\n",
       "      <td>0.480932</td>\n",
       "      <td>0.340115</td>\n",
       "    </tr>\n",
       "    <tr>\n",
       "      <th>9</th>\n",
       "      <td>0.392118</td>\n",
       "      <td>0.845795</td>\n",
       "    </tr>\n",
       "  </tbody>\n",
       "</table>\n",
       "</div>"
      ],
      "text/plain": [
       "          x         y\n",
       "0  0.696469 -0.817374\n",
       "1  0.286139  0.887656\n",
       "2  0.226851  0.921553\n",
       "3  0.551315 -0.326334\n",
       "4  0.719469 -0.832518\n",
       "5  0.423106  0.400669\n",
       "6  0.980764 -0.164966\n",
       "7  0.684830 -0.960764\n",
       "8  0.480932  0.340115\n",
       "9  0.392118  0.845795"
      ]
     },
     "metadata": {},
     "output_type": "display_data"
    },
    {
     "name": "stdout",
     "output_type": "stream",
     "text": [
      "Dataframe is uploading.\n",
      "Processing dataset.\n",
      "Dataset example_data was processed.\n"
     ]
    }
   ],
   "source": [
    "x = [0.6964691855978616,\n",
    "0.28613933495037946,\n",
    "0.2268514535642031,\n",
    "0.5513147690828912,\n",
    "0.7194689697855631,\n",
    "0.42310646012446096,\n",
    "0.9807641983846155,\n",
    "0.6848297385848633,\n",
    "0.48093190148436094,\n",
    "0.3921175181941505]\n",
    "\n",
    "y = [-0.8173739564129022,\n",
    "0.8876561174050408,\n",
    "0.921552660721474,\n",
    "-0.3263338765412979,\n",
    "-0.8325176123242133,\n",
    "0.4006686354731812,\n",
    "-0.16496626502368078,\n",
    "-0.9607643657025954,\n",
    "0.3401149876855609,\n",
    "0.8457949914442409]\n",
    "\n",
    "df = pd.DataFrame({'x': x, 'y': y})\n",
    "display(df)\n",
    "\n",
    "dataset_id = \"example_data\"\n",
    "\n",
    "# Upload dataset using a local dataframe\n",
    "tl.upload_dataset(df, dataset_id, verbose=True)"
   ]
  },
  {
   "cell_type": "markdown",
   "metadata": {},
   "source": [
    "Alternatively data can be upload directly from a csv by using a filepath. The filepath string is input into `tl.upload_dataset` in the exact same place the dataframe was."
   ]
  },
  {
   "cell_type": "code",
   "execution_count": null,
   "metadata": {},
   "outputs": [],
   "source": [
    "df_filepath = \"example_data_folder/example_data.csv\"\n",
    "\n",
    "dataset_id = \"example_data\"\n",
    "\n",
    "# Upload the dataset to the cloud\n",
    "tl.upload_dataset(df_filepath, dataset_id, verbose=True)"
   ]
  },
  {
   "cell_type": "markdown",
   "metadata": {},
   "source": [
    "### View datasets\n",
    "\n",
    "Once a dataset has been upload it can be easily acccesed using built in twinLab functions. A list of all uploaded dataset can be produced, individual datasets can be printed and you can even querey a dataset to get a statistical summary of it."
   ]
  },
  {
   "cell_type": "code",
   "execution_count": 11,
   "metadata": {},
   "outputs": [
    {
     "data": {
      "text/plain": [
       "['ukaea',\n",
       " 'modelselection',\n",
       " 'data-error-std',\n",
       " 'active-learning',\n",
       " 'wiggle',\n",
       " 'example_data',\n",
       " 'test-data',\n",
       " 'data-error',\n",
       " 'data-scaling']"
      ]
     },
     "execution_count": 11,
     "metadata": {},
     "output_type": "execute_result"
    }
   ],
   "source": [
    "# List all uploaded datasets\n",
    "tl.list_datasets()"
   ]
  },
  {
   "cell_type": "code",
   "execution_count": 12,
   "metadata": {},
   "outputs": [
    {
     "data": {
      "text/html": [
       "<div>\n",
       "<style scoped>\n",
       "    .dataframe tbody tr th:only-of-type {\n",
       "        vertical-align: middle;\n",
       "    }\n",
       "\n",
       "    .dataframe tbody tr th {\n",
       "        vertical-align: top;\n",
       "    }\n",
       "\n",
       "    .dataframe thead th {\n",
       "        text-align: right;\n",
       "    }\n",
       "</style>\n",
       "<table border=\"1\" class=\"dataframe\">\n",
       "  <thead>\n",
       "    <tr style=\"text-align: right;\">\n",
       "      <th></th>\n",
       "      <th>x</th>\n",
       "      <th>y</th>\n",
       "    </tr>\n",
       "  </thead>\n",
       "  <tbody>\n",
       "    <tr>\n",
       "      <th>0</th>\n",
       "      <td>0.696469</td>\n",
       "      <td>-0.817374</td>\n",
       "    </tr>\n",
       "    <tr>\n",
       "      <th>1</th>\n",
       "      <td>0.286139</td>\n",
       "      <td>0.887656</td>\n",
       "    </tr>\n",
       "    <tr>\n",
       "      <th>2</th>\n",
       "      <td>0.226851</td>\n",
       "      <td>0.921553</td>\n",
       "    </tr>\n",
       "    <tr>\n",
       "      <th>3</th>\n",
       "      <td>0.551315</td>\n",
       "      <td>-0.326334</td>\n",
       "    </tr>\n",
       "    <tr>\n",
       "      <th>4</th>\n",
       "      <td>0.719469</td>\n",
       "      <td>-0.832518</td>\n",
       "    </tr>\n",
       "    <tr>\n",
       "      <th>5</th>\n",
       "      <td>0.423106</td>\n",
       "      <td>0.400669</td>\n",
       "    </tr>\n",
       "    <tr>\n",
       "      <th>6</th>\n",
       "      <td>0.980764</td>\n",
       "      <td>-0.164966</td>\n",
       "    </tr>\n",
       "    <tr>\n",
       "      <th>7</th>\n",
       "      <td>0.684830</td>\n",
       "      <td>-0.960764</td>\n",
       "    </tr>\n",
       "    <tr>\n",
       "      <th>8</th>\n",
       "      <td>0.480932</td>\n",
       "      <td>0.340115</td>\n",
       "    </tr>\n",
       "    <tr>\n",
       "      <th>9</th>\n",
       "      <td>0.392118</td>\n",
       "      <td>0.845795</td>\n",
       "    </tr>\n",
       "  </tbody>\n",
       "</table>\n",
       "</div>"
      ],
      "text/plain": [
       "          x         y\n",
       "0  0.696469 -0.817374\n",
       "1  0.286139  0.887656\n",
       "2  0.226851  0.921553\n",
       "3  0.551315 -0.326334\n",
       "4  0.719469 -0.832518\n",
       "5  0.423106  0.400669\n",
       "6  0.980764 -0.164966\n",
       "7  0.684830 -0.960764\n",
       "8  0.480932  0.340115\n",
       "9  0.392118  0.845795"
      ]
     },
     "execution_count": 12,
     "metadata": {},
     "output_type": "execute_result"
    }
   ],
   "source": [
    "# View the data within the dataset\n",
    "tl.view_dataset(dataset_id)"
   ]
  },
  {
   "cell_type": "code",
   "execution_count": 13,
   "metadata": {},
   "outputs": [
    {
     "data": {
      "text/html": [
       "<div>\n",
       "<style scoped>\n",
       "    .dataframe tbody tr th:only-of-type {\n",
       "        vertical-align: middle;\n",
       "    }\n",
       "\n",
       "    .dataframe tbody tr th {\n",
       "        vertical-align: top;\n",
       "    }\n",
       "\n",
       "    .dataframe thead th {\n",
       "        text-align: right;\n",
       "    }\n",
       "</style>\n",
       "<table border=\"1\" class=\"dataframe\">\n",
       "  <thead>\n",
       "    <tr style=\"text-align: right;\">\n",
       "      <th></th>\n",
       "      <th>x</th>\n",
       "      <th>y</th>\n",
       "    </tr>\n",
       "  </thead>\n",
       "  <tbody>\n",
       "    <tr>\n",
       "      <th>count</th>\n",
       "      <td>10.000000</td>\n",
       "      <td>10.000000</td>\n",
       "    </tr>\n",
       "    <tr>\n",
       "      <th>mean</th>\n",
       "      <td>0.544199</td>\n",
       "      <td>0.029383</td>\n",
       "    </tr>\n",
       "    <tr>\n",
       "      <th>std</th>\n",
       "      <td>0.229352</td>\n",
       "      <td>0.748191</td>\n",
       "    </tr>\n",
       "    <tr>\n",
       "      <th>min</th>\n",
       "      <td>0.226851</td>\n",
       "      <td>-0.960764</td>\n",
       "    </tr>\n",
       "    <tr>\n",
       "      <th>25%</th>\n",
       "      <td>0.399865</td>\n",
       "      <td>-0.694614</td>\n",
       "    </tr>\n",
       "    <tr>\n",
       "      <th>50%</th>\n",
       "      <td>0.516123</td>\n",
       "      <td>0.087574</td>\n",
       "    </tr>\n",
       "    <tr>\n",
       "      <th>75%</th>\n",
       "      <td>0.693559</td>\n",
       "      <td>0.734513</td>\n",
       "    </tr>\n",
       "    <tr>\n",
       "      <th>max</th>\n",
       "      <td>0.980764</td>\n",
       "      <td>0.921553</td>\n",
       "    </tr>\n",
       "  </tbody>\n",
       "</table>\n",
       "</div>"
      ],
      "text/plain": [
       "               x          y\n",
       "count  10.000000  10.000000\n",
       "mean    0.544199   0.029383\n",
       "std     0.229352   0.748191\n",
       "min     0.226851  -0.960764\n",
       "25%     0.399865  -0.694614\n",
       "50%     0.516123   0.087574\n",
       "75%     0.693559   0.734513\n",
       "max     0.980764   0.921553"
      ]
     },
     "execution_count": 13,
     "metadata": {},
     "output_type": "execute_result"
    }
   ],
   "source": [
    "# Querey the dataset to get a statistical summary\n",
    "tl.query_dataset(dataset_id)"
   ]
  },
  {
   "cell_type": "markdown",
   "metadata": {},
   "source": [
    "### Train a campaign\n",
    "\n",
    "The `campaign` class is used to train and implement your surrogate models. As with the dataset an id is defined, this is what the model will be saved as in the cloud. When training a model the arguments are passed using a dictionary; here that dictionary is called `campaign_params`."
   ]
  },
  {
   "cell_type": "code",
   "execution_count": 4,
   "metadata": {},
   "outputs": [
    {
     "name": "stdout",
     "output_type": "stream",
     "text": [
      "Model example_campaign has begun training.\n"
     ]
    }
   ],
   "source": [
    "campaign_id = \"example_campaign\"\n",
    "\n",
    "campaign_params = {\n",
    "    \"dataset_id\": \"example_data\",   # This points the campaign to the uploaded dataset\n",
    "    \"inputs\": [\"x\"],                # Using the datasets column headers define the input and output data\n",
    "    \"outputs\": [\"y\"],\n",
    "    \"test_train_ratio\": 0.8         # Determine how much data is used for training, here 80% is used to tran the model  \n",
    "}                                   # and 20% is used to test it.     \n",
    "\n",
    "# Start a new campaign and train a surrogate model\n",
    "tl.train_campaign(campaign_params, campaign_id, verbose=True)"
   ]
  },
  {
   "cell_type": "markdown",
   "metadata": {},
   "source": [
    "### View campaigns\n",
    "\n",
    "Just as with datasets all saved campaigns can be listed and queried."
   ]
  },
  {
   "cell_type": "code",
   "execution_count": 17,
   "metadata": {},
   "outputs": [
    {
     "data": {
      "text/plain": [
       "['example_campaign',\n",
       " 'active-learning',\n",
       " 'data-error',\n",
       " 'test-model',\n",
       " 'wiggle',\n",
       " 'ukaea',\n",
       " 'test']"
      ]
     },
     "execution_count": 17,
     "metadata": {},
     "output_type": "execute_result"
    }
   ],
   "source": [
    "# List campaigns\n",
    "tl.list_campaigns()"
   ]
  },
  {
   "cell_type": "code",
   "execution_count": 18,
   "metadata": {},
   "outputs": [
    {
     "data": {
      "text/plain": [
       "{'id': 'example_campaign',\n",
       " 'dataset_id': 'example_data',\n",
       " 'inputs': ['x'],\n",
       " 'outputs': ['y'],\n",
       " 'train_test_ratio': 0.8,\n",
       " 'modal_handle': 'fc-cf0QYsorEAT5RaaAaYsoy3'}"
      ]
     },
     "execution_count": 18,
     "metadata": {},
     "output_type": "execute_result"
    }
   ],
   "source": [
    "# View a campaigns parameters\n",
    "tl.view_campaign(campaign_id)"
   ]
  },
  {
   "cell_type": "code",
   "execution_count": 19,
   "metadata": {},
   "outputs": [
    {
     "data": {
      "text/plain": [
       "{'model_summary': \"{'transformer_diagnostics': [], 'estimator_diagnostics': {'covar_module': ScaleKernel(\\n  (base_kernel): MaternKernel(\\n    (lengthscale_prior): GammaPrior()\\n    (raw_lengthscale_constraint): Positive()\\n  )\\n  (outputscale_prior): GammaPrior()\\n  (raw_outputscale_constraint): Positive()\\n), 'mean_module': ConstantMean(), 'likelihood.noise_covar.raw_noise': array([0.00951705]), 'likelihood.noise_covar.noise_prior.concentration': array(1.10000002), 'likelihood.noise_covar.noise_prior.rate': array(0.05), 'likelihood.noise_covar.raw_noise_constraint.lower_bound': array(9.99999975e-05), 'likelihood.noise_covar.raw_noise_constraint.upper_bound': array(inf), 'mean_module.raw_constant': array(0.24830963), 'covar_module.raw_outputscale': array(0.49354216), 'covar_module.base_kernel.raw_lengthscale': array([[-0.66687529]]), 'covar_module.base_kernel.lengthscale_prior.concentration': array(3.), 'covar_module.base_kernel.lengthscale_prior.rate': array(6.), 'covar_module.base_kernel.raw_lengthscale_constraint.lower_bound': array(0.), 'covar_module.base_kernel.raw_lengthscale_constraint.upper_bound': array(inf), 'covar_module.outputscale_prior.concentration': array(2.), 'covar_module.outputscale_prior.rate': array(0.15000001), 'covar_module.raw_outputscale_constraint.lower_bound': array(0.), 'covar_module.raw_outputscale_constraint.upper_bound': array(inf), 'outcome_transform.means': array([[-0.11150983]]), 'outcome_transform.stdvs': array([[0.76683152]]), 'outcome_transform._stdvs_sq': array([[0.58803059]]), 'input_transform._coefficient': array([[0.75391274]]), 'input_transform._offset': array([[0.22685145]]), 'likelihood.noise_covar.original_noise': array([0.00951705]), 'mean_module.original_constant': array(0.24830963), 'covar_module.original_outputscale': array(0.97006215), 'covar_module.base_kernel.original_lengthscale': array([[0.41429932]])}, 'data_diagnostics': {'inputs': {'x': {'count': 10.0, 'mean': 0.544199352975335, 'std': 0.22935216613691597, 'min': 0.2268514535642031, '25%': 0.39986475367672814, '50%': 0.5161233352836261, '75%': 0.693559323844612, 'max': 0.9807641983846156}}, 'outputs': {'y': {'count': 10.0, 'mean': 0.029383131672480845, 'std': 0.7481906564998719, 'min': -0.9607643657025954, '25%': -0.6946139364450011, '50%': 0.0875743613309401, '75%': 0.7345134024514759, 'max': 0.921552660721474}}}}\"}"
      ]
     },
     "execution_count": 19,
     "metadata": {},
     "output_type": "execute_result"
    }
   ],
   "source": [
    "# View the status of a campaign\n",
    "tl.query_campaign(campaign_id)"
   ]
  },
  {
   "cell_type": "markdown",
   "metadata": {},
   "source": [
    "### Using a predict campaign\n",
    "\n",
    "The surrogate model is now trained and saved to the cloud under the campaign_id. It can now be used to make predictions. First an evaluation dataset containing only inputs is defined, as the campaign will provide the outputs. This can be done using a local pandas dataframe."
   ]
  },
  {
   "cell_type": "code",
   "execution_count": 5,
   "metadata": {},
   "outputs": [
    {
     "data": {
      "text/html": [
       "<div>\n",
       "<style scoped>\n",
       "    .dataframe tbody tr th:only-of-type {\n",
       "        vertical-align: middle;\n",
       "    }\n",
       "\n",
       "    .dataframe tbody tr th {\n",
       "        vertical-align: top;\n",
       "    }\n",
       "\n",
       "    .dataframe thead th {\n",
       "        text-align: right;\n",
       "    }\n",
       "</style>\n",
       "<table border=\"1\" class=\"dataframe\">\n",
       "  <thead>\n",
       "    <tr style=\"text-align: right;\">\n",
       "      <th></th>\n",
       "      <th>x</th>\n",
       "    </tr>\n",
       "  </thead>\n",
       "  <tbody>\n",
       "    <tr>\n",
       "      <th>0</th>\n",
       "      <td>0.000000</td>\n",
       "    </tr>\n",
       "    <tr>\n",
       "      <th>1</th>\n",
       "      <td>0.007874</td>\n",
       "    </tr>\n",
       "    <tr>\n",
       "      <th>2</th>\n",
       "      <td>0.015748</td>\n",
       "    </tr>\n",
       "    <tr>\n",
       "      <th>3</th>\n",
       "      <td>0.023622</td>\n",
       "    </tr>\n",
       "    <tr>\n",
       "      <th>4</th>\n",
       "      <td>0.031496</td>\n",
       "    </tr>\n",
       "    <tr>\n",
       "      <th>...</th>\n",
       "      <td>...</td>\n",
       "    </tr>\n",
       "    <tr>\n",
       "      <th>123</th>\n",
       "      <td>0.968504</td>\n",
       "    </tr>\n",
       "    <tr>\n",
       "      <th>124</th>\n",
       "      <td>0.976378</td>\n",
       "    </tr>\n",
       "    <tr>\n",
       "      <th>125</th>\n",
       "      <td>0.984252</td>\n",
       "    </tr>\n",
       "    <tr>\n",
       "      <th>126</th>\n",
       "      <td>0.992126</td>\n",
       "    </tr>\n",
       "    <tr>\n",
       "      <th>127</th>\n",
       "      <td>1.000000</td>\n",
       "    </tr>\n",
       "  </tbody>\n",
       "</table>\n",
       "<p>128 rows × 1 columns</p>\n",
       "</div>"
      ],
      "text/plain": [
       "            x\n",
       "0    0.000000\n",
       "1    0.007874\n",
       "2    0.015748\n",
       "3    0.023622\n",
       "4    0.031496\n",
       "..        ...\n",
       "123  0.968504\n",
       "124  0.976378\n",
       "125  0.984252\n",
       "126  0.992126\n",
       "127  1.000000\n",
       "\n",
       "[128 rows x 1 columns]"
      ]
     },
     "metadata": {},
     "output_type": "display_data"
    }
   ],
   "source": [
    "x_eval = np.linspace(0,1,128)\n",
    "\n",
    "df_eval = pd.DataFrame({'x':x_eval})\n",
    "display(df_eval)\n",
    "\n",
    "df_mean, df_std = tl.predict_campaign(df_eval, campaign_id)"
   ]
  },
  {
   "cell_type": "markdown",
   "metadata": {},
   "source": [
    "Alternatively the evaluation dataset can be uploaded driectly from a csv by using a filepath."
   ]
  },
  {
   "cell_type": "code",
   "execution_count": 27,
   "metadata": {},
   "outputs": [],
   "source": [
    "df_eval_filepath = \"example_data_folder/example_eval_data.csv\"\n",
    "\n",
    "df_mean, df_std = tl.predict_campaign(df_eval, campaign_id)"
   ]
  },
  {
   "cell_type": "markdown",
   "metadata": {},
   "source": [
    "### Viewing the results\n",
    "`tl.predict_campaign` outputs mean values for each input and their standard deviation; this gives the abilty to nicely visualise the uncertainty in results.\n"
   ]
  },
  {
   "cell_type": "code",
   "execution_count": 22,
   "metadata": {},
   "outputs": [
    {
     "data": {
      "image/png": "[encoded data removed]",
      "text/plain": [
       "<Figure size 640x480 with 1 Axes>"
      ]
     },
     "metadata": {},
     "output_type": "display_data"
    }
   ],
   "source": [
    "import matplotlib.pyplot as plt\n",
    "\n",
    "# Plot parameters\n",
    "nsigs = [1, 2]\n",
    "# nsigs = [0.674, 1.960, 2.576]\n",
    "color = \"blue\"\n",
    "alpha = 0.5\n",
    "plot_training_data = True\n",
    "plot_model_mean = True\n",
    "plot_model_bands = True\n",
    "\n",
    "# Plot results\n",
    "grid = df_eval[\"x\"]\n",
    "mean = df_mean[\"y\"]\n",
    "err = df_std[\"y\"]\n",
    "if plot_model_bands:\n",
    "    label = r\"Model prediction\"\n",
    "    plt.fill_between(grid, np.nan, np.nan, lw=0, color=color, alpha=alpha, label=label)\n",
    "    for isig, nsig in enumerate(nsigs):\n",
    "        plt.fill_between(grid, mean-nsig*err, mean+nsig*err, lw=0, color=color, alpha=alpha/(isig+1))\n",
    "if plot_model_mean:\n",
    "    label = r\"Model prediction\" if not plot_model_bands else None\n",
    "    plt.plot(grid, mean, color=color, alpha=alpha, label=label)\n",
    "if plot_training_data:\n",
    "    plt.plot(df[\"x\"], df[\"y\"], \".\", color=\"black\", label=\"Training data\")\n",
    "plt.xlim((0.0, 1.0))\n",
    "plt.xlabel(r\"$X$\")\n",
    "plt.ylabel(r\"$y$\")\n",
    "plt.legend()\n",
    "plt.show()"
   ]
  },
  {
   "cell_type": "markdown",
   "metadata": {},
   "source": [
    "### Using a sample campaign\n",
    "\n",
    "The `tl.sample_campaign` function can be used to retrieve any number of results from your model. It requires the inputs for which you want the values and how many to calculate."
   ]
  },
  {
   "cell_type": "code",
   "execution_count": 83,
   "metadata": {},
   "outputs": [
    {
     "data": {
      "text/html": [
       "<div>\n",
       "<style scoped>\n",
       "    .dataframe tbody tr th:only-of-type {\n",
       "        vertical-align: middle;\n",
       "    }\n",
       "\n",
       "    .dataframe tbody tr th {\n",
       "        vertical-align: top;\n",
       "    }\n",
       "\n",
       "    .dataframe thead tr th {\n",
       "        text-align: left;\n",
       "    }\n",
       "</style>\n",
       "<table border=\"1\" class=\"dataframe\">\n",
       "  <thead>\n",
       "    <tr>\n",
       "      <th></th>\n",
       "      <th colspan=\"3\" halign=\"left\">y</th>\n",
       "    </tr>\n",
       "    <tr>\n",
       "      <th></th>\n",
       "      <th>0</th>\n",
       "      <th>1</th>\n",
       "      <th>2</th>\n",
       "    </tr>\n",
       "  </thead>\n",
       "  <tbody>\n",
       "    <tr>\n",
       "      <th>0</th>\n",
       "      <td>0.497787</td>\n",
       "      <td>0.168380</td>\n",
       "      <td>0.133191</td>\n",
       "    </tr>\n",
       "    <tr>\n",
       "      <th>1</th>\n",
       "      <td>0.546246</td>\n",
       "      <td>0.419482</td>\n",
       "      <td>0.299494</td>\n",
       "    </tr>\n",
       "    <tr>\n",
       "      <th>2</th>\n",
       "      <td>0.698040</td>\n",
       "      <td>0.584040</td>\n",
       "      <td>0.550612</td>\n",
       "    </tr>\n",
       "    <tr>\n",
       "      <th>3</th>\n",
       "      <td>0.632806</td>\n",
       "      <td>0.736757</td>\n",
       "      <td>0.738357</td>\n",
       "    </tr>\n",
       "    <tr>\n",
       "      <th>4</th>\n",
       "      <td>0.742471</td>\n",
       "      <td>1.037026</td>\n",
       "      <td>0.802534</td>\n",
       "    </tr>\n",
       "    <tr>\n",
       "      <th>5</th>\n",
       "      <td>0.884464</td>\n",
       "      <td>0.896441</td>\n",
       "      <td>0.957100</td>\n",
       "    </tr>\n",
       "    <tr>\n",
       "      <th>6</th>\n",
       "      <td>0.797946</td>\n",
       "      <td>0.863950</td>\n",
       "      <td>1.028621</td>\n",
       "    </tr>\n",
       "    <tr>\n",
       "      <th>7</th>\n",
       "      <td>0.711041</td>\n",
       "      <td>0.713445</td>\n",
       "      <td>0.766685</td>\n",
       "    </tr>\n",
       "    <tr>\n",
       "      <th>8</th>\n",
       "      <td>0.515974</td>\n",
       "      <td>0.321171</td>\n",
       "      <td>0.454226</td>\n",
       "    </tr>\n",
       "    <tr>\n",
       "      <th>9</th>\n",
       "      <td>0.215597</td>\n",
       "      <td>0.148541</td>\n",
       "      <td>0.261076</td>\n",
       "    </tr>\n",
       "    <tr>\n",
       "      <th>10</th>\n",
       "      <td>-0.025277</td>\n",
       "      <td>-0.160484</td>\n",
       "      <td>-0.156788</td>\n",
       "    </tr>\n",
       "    <tr>\n",
       "      <th>11</th>\n",
       "      <td>-0.443163</td>\n",
       "      <td>-0.439760</td>\n",
       "      <td>-0.383151</td>\n",
       "    </tr>\n",
       "    <tr>\n",
       "      <th>12</th>\n",
       "      <td>-0.641506</td>\n",
       "      <td>-0.702780</td>\n",
       "      <td>-0.709237</td>\n",
       "    </tr>\n",
       "    <tr>\n",
       "      <th>13</th>\n",
       "      <td>-0.644622</td>\n",
       "      <td>-0.812828</td>\n",
       "      <td>-0.831037</td>\n",
       "    </tr>\n",
       "    <tr>\n",
       "      <th>14</th>\n",
       "      <td>-0.682562</td>\n",
       "      <td>-0.931627</td>\n",
       "      <td>-0.876349</td>\n",
       "    </tr>\n",
       "    <tr>\n",
       "      <th>15</th>\n",
       "      <td>-0.683580</td>\n",
       "      <td>-0.828496</td>\n",
       "      <td>-0.693702</td>\n",
       "    </tr>\n",
       "    <tr>\n",
       "      <th>16</th>\n",
       "      <td>-0.489581</td>\n",
       "      <td>-0.533035</td>\n",
       "      <td>-0.605241</td>\n",
       "    </tr>\n",
       "    <tr>\n",
       "      <th>17</th>\n",
       "      <td>-0.335044</td>\n",
       "      <td>-0.420223</td>\n",
       "      <td>-0.293260</td>\n",
       "    </tr>\n",
       "    <tr>\n",
       "      <th>18</th>\n",
       "      <td>-0.386511</td>\n",
       "      <td>-0.125380</td>\n",
       "      <td>-0.053165</td>\n",
       "    </tr>\n",
       "    <tr>\n",
       "      <th>19</th>\n",
       "      <td>-0.382265</td>\n",
       "      <td>-0.052727</td>\n",
       "      <td>-0.111953</td>\n",
       "    </tr>\n",
       "  </tbody>\n",
       "</table>\n",
       "</div>"
      ],
      "text/plain": [
       "           y                    \n",
       "           0         1         2\n",
       "0   0.497787  0.168380  0.133191\n",
       "1   0.546246  0.419482  0.299494\n",
       "2   0.698040  0.584040  0.550612\n",
       "3   0.632806  0.736757  0.738357\n",
       "4   0.742471  1.037026  0.802534\n",
       "5   0.884464  0.896441  0.957100\n",
       "6   0.797946  0.863950  1.028621\n",
       "7   0.711041  0.713445  0.766685\n",
       "8   0.515974  0.321171  0.454226\n",
       "9   0.215597  0.148541  0.261076\n",
       "10 -0.025277 -0.160484 -0.156788\n",
       "11 -0.443163 -0.439760 -0.383151\n",
       "12 -0.641506 -0.702780 -0.709237\n",
       "13 -0.644622 -0.812828 -0.831037\n",
       "14 -0.682562 -0.931627 -0.876349\n",
       "15 -0.683580 -0.828496 -0.693702\n",
       "16 -0.489581 -0.533035 -0.605241\n",
       "17 -0.335044 -0.420223 -0.293260\n",
       "18 -0.386511 -0.125380 -0.053165\n",
       "19 -0.382265 -0.052727 -0.111953"
      ]
     },
     "metadata": {},
     "output_type": "display_data"
    }
   ],
   "source": [
    "# Define the sample inputs\n",
    "sample_inputs = pd.DataFrame({'x': np.linspace(0,1,20)})\n",
    "\n",
    "# Define number of samples to calculate for each input\n",
    "num_samples = 3\n",
    "\n",
    "sample_result = tl.sample_campaign(sample_inputs, campaign_id, num_samples)\n",
    "\n",
    "# View the results in the form of a fataframe\n",
    "display(sample_result)"
   ]
  },
  {
   "cell_type": "markdown",
   "metadata": {},
   "source": [
    "### Viewing the results\n",
    "\n",
    "The results can be plotted over the top of the previous graph giving a nice visualisation of the sampled data, with the model's uncertainity."
   ]
  },
  {
   "cell_type": "code",
   "execution_count": 80,
   "metadata": {},
   "outputs": [
    {
     "data": {
      "image/png": "[encoded data removed]",
      "text/plain": [
       "<Figure size 640x480 with 1 Axes>"
      ]
     },
     "metadata": {},
     "output_type": "display_data"
    }
   ],
   "source": [
    "# Plot parameters\n",
    "nsigs = [1, 2]\n",
    "# nsigs = [0.674, 1.960, 2.576]\n",
    "color = \"blue\"\n",
    "alpha = 0.5\n",
    "plot_training_data = True\n",
    "plot_model_mean = True\n",
    "plot_model_bands = True\n",
    "\n",
    "# Plot results\n",
    "grid = df_eval[\"x\"]\n",
    "mean = df_mean[\"y\"]\n",
    "err = df_std[\"y\"]\n",
    "if plot_model_bands:\n",
    "    label = r\"Model prediction\"\n",
    "    plt.fill_between(grid, np.nan, np.nan, lw=0, color=color, alpha=alpha, label=label)\n",
    "    for isig, nsig in enumerate(nsigs):\n",
    "        plt.fill_between(grid, mean-nsig*err, mean+nsig*err, lw=0, color=color, alpha=alpha/(isig+1))\n",
    "if plot_model_mean:\n",
    "    label = r\"Model prediction\" if not plot_model_bands else None\n",
    "    plt.plot(grid, mean, color=color, alpha=alpha, label=label)\n",
    "if plot_training_data:\n",
    "    plt.plot(df[\"x\"], df[\"y\"], \".\", color=\"#1d1d1b\", label=\"Training data\")\n",
    "for i in range(num_samples):\n",
    "    plt.scatter(sample_inputs, data[:,i], marker='x', s=9, c='#ffb500')\n",
    "plt.scatter([], [], marker='x', s=9, c='#ffb500', label='Sampled Points')\n",
    "plt.xlim((0.0, 1.0))\n",
    "plt.xlabel(r\"$X$\")\n",
    "plt.ylabel(r\"$y$\")\n",
    "plt.legend()\n",
    "plt.show()"
   ]
  }
 ],
 "metadata": {
  "kernelspec": {
   "display_name": "twinlab-demos-5eekO54e-py3.11",
   "language": "python",
   "name": "python3"
  },
  "language_info": {
   "codemirror_mode": {
    "name": "ipython",
    "version": 3
   },
   "file_extension": ".py",
   "mimetype": "text/x-python",
   "name": "python",
   "nbconvert_exporter": "python",
   "pygments_lexer": "ipython3",
   "version": "3.11.5"
  }
 },
 "nbformat": 4,
 "nbformat_minor": 2
}
